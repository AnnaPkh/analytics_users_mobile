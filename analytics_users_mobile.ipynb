{
 "cells": [
  {
   "cell_type": "markdown",
   "metadata": {},
   "source": [
    "# Исследование изменений в мобильном приложении, продающем продукты питания"
   ]
  },
  {
   "cell_type": "markdown",
   "metadata": {},
   "source": [
    "**Цель проекта:**\n",
    "Изучить результаты А/А/В эксперимента, проводимого с целью принять решения об изменении шрифтов в мобильном приложениии стартапа. \n",
    "<br />"
   ]
  },
  {
   "cell_type": "markdown",
   "metadata": {},
   "source": [
    "**Описание данных**\n",
    "Каждая запись в логе — это действие пользователя, или событие. \n",
    "EventName — название события;\n",
    "DeviceIDHash — уникальный идентификатор пользователя;\n",
    "EventTimestamp — время события;\n",
    "ExpId — номер эксперимента: 246 и 247 — контрольные группы, а 248 — экспериментальная."
   ]
  },
  {
   "cell_type": "markdown",
   "metadata": {},
   "source": [
    "**План работы:**\n",
    "<br />\n",
    "\n",
    "1. Загрузить и изучить данные. \n",
    "<br />\n",
    "\n",
    "Выведем общую таблицу с данными на экран, проанализируем ее на количество пропущенных значений, типы данных.\n",
    "<br />\n",
    "\n",
    "2. Выполнить предобработку данных. \n",
    "<br />\n",
    "\n",
    "Заменим название столбцов на названия в нижнем регистре. Преобразуем данные в нужные типы. Заменим пропуски. Создадим новый столбец с датой и временем, а также отдельный столбец дат.\n",
    "<br />\n",
    "\n",
    "3. Изучим и проверим данные.\n",
    "<br />\n",
    "\n",
    "Проанализируем сколько всего событий в логе?\n",
    "Сколько всего пользователей в логе?\n",
    "Сколько в среднем событий приходится на пользователя?\n",
    "Найдем максимальную и минимальную дату. Изучим, как меняется количество данных: построим столбчатую диаграмму, которая отобразит количество событий в зависимости от времени в разрезе групп. \n",
    "Посмотрим, можно ли быть уверенным, что у нас одинаково полные данные за весь период? \n",
    "Определим, с какого момента данные полные и отбросим более старые. \n",
    "Посмотрим, данными за какой период времени мы располагаем на самом деле.\n",
    "Изучим, много ли событий и пользователей мы потеряли, отбросив старые данные?\n",
    "Проверим, что у нас есть пользователи из всех трёх экспериментальных групп.\n",
    "<br />\n",
    "\n",
    "4. Изучим воронку событий.\n",
    "<br />\n",
    "\n",
    "Посмотрим, какие события есть в логах, как часто они встречаются. Отсортируем события по частоте.\n",
    "Посчитаем, сколько пользователей совершали каждое из этих событий. Отсортируем события по числу пользователей. Посчитаем долю пользователей, которые хоть раз совершали событие.\n",
    "Предположим, в каком порядке происходят события. Все ли они выстраиваются в последовательную цепочку? Их не нужно учитывать при расчёте воронки.\n",
    "По воронке событий посчитаем, какая доля пользователей проходит на следующий шаг воронки (от числа пользователей на предыдущем). \n",
    "Определим на каком шаге теряется больше всего пользователей.\n",
    "Определим какая доля пользователей доходит от первого события до оплаты.\n",
    "<br />\n",
    "\n",
    "5. Изучим результаты эксперимента.\n",
    "<br />\n",
    "\n",
    "Сколько пользователей в каждой экспериментальной группе?\n",
    "Есть 2 контрольные группы для А/А-эксперимента, чтобы проверить корректность всех механизмов и расчётов. Проверим, находят ли статистические критерии разницу между выборками 246 и 247.\n",
    "Выберем самое популярное событие. Посчитаем число пользователей, совершивших это событие в каждой из контрольных групп. Посчитаем долю пользователей, совершивших это событие. Проверим, будет ли отличие между группами статистически достоверным. \n",
    "Проделаем то же самое для всех других событий. \n",
    "Аналогично поступим с группой с изменённым шрифтом. Сравним результаты с каждой из контрольных групп в отдельности по каждому событию. Сравним результаты с объединённой контрольной группой. Сделаем выводы из эксперимента.Выберем уровень значимости при проверке статистических гипотез. Посчитаем, сколько проверок статистических гипотез мы сделали.\n",
    "<br />\n",
    "\n",
    "5. Сделаем общие выводы.\n",
    "  "
   ]
  },
  {
   "cell_type": "markdown",
   "metadata": {},
   "source": [
    "## Изучение общей информации"
   ]
  },
  {
   "cell_type": "code",
   "execution_count": 1,
   "metadata": {},
   "outputs": [],
   "source": [
    "import pandas as pd\n",
    "import seaborn as sns\n",
    "import datetime as dt\n",
    "import numpy as np\n",
    "import matplotlib.pyplot as plt\n",
    "from pandas.plotting import register_matplotlib_converters\n",
    "from plotly import graph_objects as go\n",
    "import plotly.express as px\n",
    "import warnings\n",
    "import scipy.stats as stats\n",
    "import math as mth\n",
    "from matplotlib.figure import Figure"
   ]
  },
  {
   "cell_type": "code",
   "execution_count": 2,
   "metadata": {},
   "outputs": [],
   "source": [
    "data = pd.read_csv('/datasets/logs_exp.csv', sep='\\t')"
   ]
  },
  {
   "cell_type": "code",
   "execution_count": 3,
   "metadata": {},
   "outputs": [
    {
     "name": "stdout",
     "output_type": "stream",
     "text": [
      "<class 'pandas.core.frame.DataFrame'>\n",
      "RangeIndex: 244126 entries, 0 to 244125\n",
      "Data columns (total 4 columns):\n",
      " #   Column          Non-Null Count   Dtype \n",
      "---  ------          --------------   ----- \n",
      " 0   EventName       244126 non-null  object\n",
      " 1   DeviceIDHash    244126 non-null  int64 \n",
      " 2   EventTimestamp  244126 non-null  int64 \n",
      " 3   ExpId           244126 non-null  int64 \n",
      "dtypes: int64(3), object(1)\n",
      "memory usage: 7.5+ MB\n"
     ]
    }
   ],
   "source": [
    "#Выведем основную информацию о датафрейме методом info\n",
    "data.info()"
   ]
  },
  {
   "cell_type": "markdown",
   "metadata": {},
   "source": [
    "## Выполним предобработку данных"
   ]
  },
  {
   "cell_type": "code",
   "execution_count": 4,
   "metadata": {},
   "outputs": [],
   "source": [
    "#Заменим название столбцов на более понятные, заглавные буквы поменяем на строчные буквы\n",
    "\n",
    "data.columns = ['event_name', 'uid', 'event_time_stamp', 'exp_id']"
   ]
  },
  {
   "cell_type": "code",
   "execution_count": 5,
   "metadata": {},
   "outputs": [
    {
     "data": {
      "text/html": [
       "<div>\n",
       "<style scoped>\n",
       "    .dataframe tbody tr th:only-of-type {\n",
       "        vertical-align: middle;\n",
       "    }\n",
       "\n",
       "    .dataframe tbody tr th {\n",
       "        vertical-align: top;\n",
       "    }\n",
       "\n",
       "    .dataframe thead th {\n",
       "        text-align: right;\n",
       "    }\n",
       "</style>\n",
       "<table border=\"1\" class=\"dataframe\">\n",
       "  <thead>\n",
       "    <tr style=\"text-align: right;\">\n",
       "      <th></th>\n",
       "      <th>event_name</th>\n",
       "      <th>uid</th>\n",
       "      <th>event_time_stamp</th>\n",
       "      <th>exp_id</th>\n",
       "    </tr>\n",
       "  </thead>\n",
       "  <tbody>\n",
       "    <tr>\n",
       "      <th>0</th>\n",
       "      <td>MainScreenAppear</td>\n",
       "      <td>4575588528974610257</td>\n",
       "      <td>1564029816</td>\n",
       "      <td>246</td>\n",
       "    </tr>\n",
       "    <tr>\n",
       "      <th>1</th>\n",
       "      <td>MainScreenAppear</td>\n",
       "      <td>7416695313311560658</td>\n",
       "      <td>1564053102</td>\n",
       "      <td>246</td>\n",
       "    </tr>\n",
       "    <tr>\n",
       "      <th>2</th>\n",
       "      <td>PaymentScreenSuccessful</td>\n",
       "      <td>3518123091307005509</td>\n",
       "      <td>1564054127</td>\n",
       "      <td>248</td>\n",
       "    </tr>\n",
       "    <tr>\n",
       "      <th>3</th>\n",
       "      <td>CartScreenAppear</td>\n",
       "      <td>3518123091307005509</td>\n",
       "      <td>1564054127</td>\n",
       "      <td>248</td>\n",
       "    </tr>\n",
       "    <tr>\n",
       "      <th>4</th>\n",
       "      <td>PaymentScreenSuccessful</td>\n",
       "      <td>6217807653094995999</td>\n",
       "      <td>1564055322</td>\n",
       "      <td>248</td>\n",
       "    </tr>\n",
       "  </tbody>\n",
       "</table>\n",
       "</div>"
      ],
      "text/plain": [
       "                event_name                  uid  event_time_stamp  exp_id\n",
       "0         MainScreenAppear  4575588528974610257        1564029816     246\n",
       "1         MainScreenAppear  7416695313311560658        1564053102     246\n",
       "2  PaymentScreenSuccessful  3518123091307005509        1564054127     248\n",
       "3         CartScreenAppear  3518123091307005509        1564054127     248\n",
       "4  PaymentScreenSuccessful  6217807653094995999        1564055322     248"
      ]
     },
     "execution_count": 5,
     "metadata": {},
     "output_type": "execute_result"
    }
   ],
   "source": [
    "data.head()"
   ]
  },
  {
   "cell_type": "code",
   "execution_count": 6,
   "metadata": {},
   "outputs": [
    {
     "data": {
      "text/plain": [
       "413"
      ]
     },
     "execution_count": 6,
     "metadata": {},
     "output_type": "execute_result"
    }
   ],
   "source": [
    "#Проверим датафреймы на дубликаты\n",
    "dub_sum = data.duplicated().sum()\n",
    "dub_sum"
   ]
  },
  {
   "cell_type": "code",
   "execution_count": 7,
   "metadata": {},
   "outputs": [
    {
     "data": {
      "text/plain": [
       "0.16917"
      ]
     },
     "execution_count": 7,
     "metadata": {},
     "output_type": "execute_result"
    }
   ],
   "source": [
    "#Посчитаем долю дубликатов в общем объеме информации в датафейме\n",
    "\n",
    "sum_data = data.value_counts().sum()\n",
    "dub_share = round((dub_sum/sum_data*100),5)\n",
    "dub_share"
   ]
  },
  {
   "cell_type": "markdown",
   "metadata": {},
   "source": [
    "**Доля дубликатов в датафрейме очень мала, менее 1%**. Их удаление не повлияет на качество информации и дальнейшую точность расчетов.\n",
    "<br />\n",
    "\n"
   ]
  },
  {
   "cell_type": "code",
   "execution_count": 8,
   "metadata": {},
   "outputs": [],
   "source": [
    "#Удалим дубликаты\n",
    "\n",
    "data.drop_duplicates(inplace = True)"
   ]
  },
  {
   "cell_type": "code",
   "execution_count": 9,
   "metadata": {},
   "outputs": [
    {
     "data": {
      "text/html": [
       "<div>\n",
       "<style scoped>\n",
       "    .dataframe tbody tr th:only-of-type {\n",
       "        vertical-align: middle;\n",
       "    }\n",
       "\n",
       "    .dataframe tbody tr th {\n",
       "        vertical-align: top;\n",
       "    }\n",
       "\n",
       "    .dataframe thead th {\n",
       "        text-align: right;\n",
       "    }\n",
       "</style>\n",
       "<table border=\"1\" class=\"dataframe\">\n",
       "  <thead>\n",
       "    <tr style=\"text-align: right;\">\n",
       "      <th></th>\n",
       "      <th>event_name</th>\n",
       "      <th>uid</th>\n",
       "      <th>event_time_stamp</th>\n",
       "      <th>exp_id</th>\n",
       "      <th>date_time</th>\n",
       "      <th>date</th>\n",
       "    </tr>\n",
       "  </thead>\n",
       "  <tbody>\n",
       "    <tr>\n",
       "      <th>0</th>\n",
       "      <td>MainScreenAppear</td>\n",
       "      <td>4575588528974610257</td>\n",
       "      <td>1564029816</td>\n",
       "      <td>246</td>\n",
       "      <td>2019-07-25 04:43:36</td>\n",
       "      <td>2019-07-25</td>\n",
       "    </tr>\n",
       "    <tr>\n",
       "      <th>1</th>\n",
       "      <td>MainScreenAppear</td>\n",
       "      <td>7416695313311560658</td>\n",
       "      <td>1564053102</td>\n",
       "      <td>246</td>\n",
       "      <td>2019-07-25 11:11:42</td>\n",
       "      <td>2019-07-25</td>\n",
       "    </tr>\n",
       "    <tr>\n",
       "      <th>2</th>\n",
       "      <td>PaymentScreenSuccessful</td>\n",
       "      <td>3518123091307005509</td>\n",
       "      <td>1564054127</td>\n",
       "      <td>248</td>\n",
       "      <td>2019-07-25 11:28:47</td>\n",
       "      <td>2019-07-25</td>\n",
       "    </tr>\n",
       "    <tr>\n",
       "      <th>3</th>\n",
       "      <td>CartScreenAppear</td>\n",
       "      <td>3518123091307005509</td>\n",
       "      <td>1564054127</td>\n",
       "      <td>248</td>\n",
       "      <td>2019-07-25 11:28:47</td>\n",
       "      <td>2019-07-25</td>\n",
       "    </tr>\n",
       "    <tr>\n",
       "      <th>4</th>\n",
       "      <td>PaymentScreenSuccessful</td>\n",
       "      <td>6217807653094995999</td>\n",
       "      <td>1564055322</td>\n",
       "      <td>248</td>\n",
       "      <td>2019-07-25 11:48:42</td>\n",
       "      <td>2019-07-25</td>\n",
       "    </tr>\n",
       "  </tbody>\n",
       "</table>\n",
       "</div>"
      ],
      "text/plain": [
       "                event_name                  uid  event_time_stamp  exp_id  \\\n",
       "0         MainScreenAppear  4575588528974610257        1564029816     246   \n",
       "1         MainScreenAppear  7416695313311560658        1564053102     246   \n",
       "2  PaymentScreenSuccessful  3518123091307005509        1564054127     248   \n",
       "3         CartScreenAppear  3518123091307005509        1564054127     248   \n",
       "4  PaymentScreenSuccessful  6217807653094995999        1564055322     248   \n",
       "\n",
       "            date_time        date  \n",
       "0 2019-07-25 04:43:36  2019-07-25  \n",
       "1 2019-07-25 11:11:42  2019-07-25  \n",
       "2 2019-07-25 11:28:47  2019-07-25  \n",
       "3 2019-07-25 11:28:47  2019-07-25  \n",
       "4 2019-07-25 11:48:42  2019-07-25  "
      ]
     },
     "execution_count": 9,
     "metadata": {},
     "output_type": "execute_result"
    }
   ],
   "source": [
    "#Добавим столбец даты и времени, а также отдельный столбец дат\n",
    "\n",
    "#Скорректируем timestamp в формат datetime\n",
    "data['date_time'] = pd.to_datetime(data['event_time_stamp'], unit='s')\n",
    "\n",
    "data['date'] = data['date_time'].dt.date\n",
    "\n",
    "data.head()"
   ]
  },
  {
   "cell_type": "markdown",
   "metadata": {},
   "source": [
    "**Выполнили предобработку данных**. \n",
    "<br />\n",
    "\n",
    "Удалили дубликаты, переименовали столбцы, добавили новые с датой. Пропусков в таблице не обнаружено."
   ]
  },
  {
   "cell_type": "markdown",
   "metadata": {},
   "source": [
    "## Изучим и проверим данные"
   ]
  },
  {
   "cell_type": "code",
   "execution_count": 10,
   "metadata": {},
   "outputs": [
    {
     "data": {
      "text/html": [
       "<div>\n",
       "<style scoped>\n",
       "    .dataframe tbody tr th:only-of-type {\n",
       "        vertical-align: middle;\n",
       "    }\n",
       "\n",
       "    .dataframe tbody tr th {\n",
       "        vertical-align: top;\n",
       "    }\n",
       "\n",
       "    .dataframe thead th {\n",
       "        text-align: right;\n",
       "    }\n",
       "</style>\n",
       "<table border=\"1\" class=\"dataframe\">\n",
       "  <thead>\n",
       "    <tr style=\"text-align: right;\">\n",
       "      <th></th>\n",
       "      <th>uid</th>\n",
       "    </tr>\n",
       "    <tr>\n",
       "      <th>event_name</th>\n",
       "      <th></th>\n",
       "    </tr>\n",
       "  </thead>\n",
       "  <tbody>\n",
       "    <tr>\n",
       "      <th>CartScreenAppear</th>\n",
       "      <td>42668</td>\n",
       "    </tr>\n",
       "    <tr>\n",
       "      <th>MainScreenAppear</th>\n",
       "      <td>119101</td>\n",
       "    </tr>\n",
       "    <tr>\n",
       "      <th>OffersScreenAppear</th>\n",
       "      <td>46808</td>\n",
       "    </tr>\n",
       "    <tr>\n",
       "      <th>PaymentScreenSuccessful</th>\n",
       "      <td>34118</td>\n",
       "    </tr>\n",
       "    <tr>\n",
       "      <th>Tutorial</th>\n",
       "      <td>1018</td>\n",
       "    </tr>\n",
       "  </tbody>\n",
       "</table>\n",
       "</div>"
      ],
      "text/plain": [
       "                            uid\n",
       "event_name                     \n",
       "CartScreenAppear          42668\n",
       "MainScreenAppear         119101\n",
       "OffersScreenAppear        46808\n",
       "PaymentScreenSuccessful   34118\n",
       "Tutorial                   1018"
      ]
     },
     "execution_count": 10,
     "metadata": {},
     "output_type": "execute_result"
    }
   ],
   "source": [
    "#Проанализируем количество событий в логе\n",
    "\n",
    "event_count = data.groupby('event_name').agg({'uid': 'count'})\n",
    "event_count "
   ]
  },
  {
   "cell_type": "code",
   "execution_count": 11,
   "metadata": {},
   "outputs": [
    {
     "data": {
      "text/plain": [
       "243713"
      ]
     },
     "execution_count": 11,
     "metadata": {},
     "output_type": "execute_result"
    }
   ],
   "source": [
    "event_count_sum = data['event_name'].count()\n",
    "event_count_sum"
   ]
  },
  {
   "cell_type": "markdown",
   "metadata": {},
   "source": [
    "**Событие MainScreenAppear произошло 119101 раз,** событие OffersScreenAppear -  46808 раз, CartScreenAppear - 42668 раз, а PaymentScreenSuccessful\t- 34118 раз. Реже всего происходило событие Tutorial - 1018 раз.\n",
    "<br />\n",
    "\n",
    "Всего в логе 243713 событий."
   ]
  },
  {
   "cell_type": "code",
   "execution_count": 12,
   "metadata": {},
   "outputs": [
    {
     "data": {
      "text/plain": [
       "7551"
      ]
     },
     "execution_count": 12,
     "metadata": {},
     "output_type": "execute_result"
    }
   ],
   "source": [
    "#Посчитаем сколько всего пользователей в логе\n",
    "\n",
    "user_count_sum = len(data['uid'].unique())\n",
    "user_count_sum"
   ]
  },
  {
   "cell_type": "code",
   "execution_count": 13,
   "metadata": {},
   "outputs": [
    {
     "data": {
      "text/plain": [
       "count    7551.000000\n",
       "mean       32.275593\n",
       "std        65.154219\n",
       "min         1.000000\n",
       "25%         9.000000\n",
       "50%        20.000000\n",
       "75%        37.000000\n",
       "max      2307.000000\n",
       "Name: event_name, dtype: float64"
      ]
     },
     "execution_count": 13,
     "metadata": {},
     "output_type": "execute_result"
    }
   ],
   "source": [
    "#Посчитаем сколько в среднем событий приходится на пользователя\n",
    "\n",
    "event_mean = data.groupby('uid')['event_name'].count()\n",
    "event_mean.describe()"
   ]
  },
  {
   "cell_type": "code",
   "execution_count": 14,
   "metadata": {},
   "outputs": [
    {
     "data": {
      "image/png": "[encoded data removed]",
      "text/plain": [
       "<Figure size 1440x432 with 1 Axes>"
      ]
     },
     "metadata": {
      "needs_background": "light"
     },
     "output_type": "display_data"
    }
   ],
   "source": [
    "event_mean.to_frame().boxplot(figsize=(20, 6), showfliers = False)\n",
    "plt.ylabel('Количество событий')\n",
    "plt.title ('График событий на пользователя')\n",
    "plt.show()"
   ]
  },
  {
   "cell_type": "markdown",
   "metadata": {},
   "source": [
    "**Минимальное значение событий на пользователя - 1, а максимальное 2307,** что является выбросом. А значит среднее значение - 32 события на пользователя не корректно. Медианный показатель количества событий на одного пользователя - 20. Его и можно принять за основу для дальнейшего анализа.\n",
    "<br />"
   ]
  },
  {
   "cell_type": "code",
   "execution_count": 15,
   "metadata": {},
   "outputs": [
    {
     "data": {
      "text/plain": [
       "datetime.date(2019, 8, 7)"
      ]
     },
     "execution_count": 15,
     "metadata": {},
     "output_type": "execute_result"
    }
   ],
   "source": [
    "#Найдем максимальную дату \n",
    "\n",
    "data['date'].max()"
   ]
  },
  {
   "cell_type": "code",
   "execution_count": 16,
   "metadata": {},
   "outputs": [
    {
     "data": {
      "text/plain": [
       "datetime.date(2019, 7, 25)"
      ]
     },
     "execution_count": 16,
     "metadata": {},
     "output_type": "execute_result"
    }
   ],
   "source": [
    "#Найдем минимальную дату\n",
    "\n",
    "data['date'].min()"
   ]
  },
  {
   "cell_type": "markdown",
   "metadata": {},
   "source": [
    "**Максимальная дата исследования 07.08.2019 г.,** а минимальная 25.07.2019 г.\n",
    "<br />"
   ]
  },
  {
   "cell_type": "code",
   "execution_count": 17,
   "metadata": {},
   "outputs": [
    {
     "data": {
      "image/png": "[encoded data removed]",
      "text/plain": [
       "<Figure size 1296x504 with 1 Axes>"
      ]
     },
     "metadata": {
      "needs_background": "light"
     },
     "output_type": "display_data"
    }
   ],
   "source": [
    "#построим гистограмму которая отобразит количество событий в зависимости от времени\n",
    "fig = plt.figure(figsize=(18,7))\n",
    "ax = fig.gca()\n",
    "data['date_time'].hist(ax=ax,bins=300,color = 'lightblue')\n",
    "plt.xlabel('Дата возникновения события')\n",
    "plt.ylabel('Количество событий')\n",
    "plt.title ('График изменения событий во времени')\n",
    "plt.show() "
   ]
  },
  {
   "cell_type": "markdown",
   "metadata": {},
   "source": [
    "**Ранее мы определили минимальную дату исследования - 25.07.2019 г.,** но согласно графику выше основная масса событий начинает происходить с 01.08.2019 г. Технически в логи новых дней по некоторым пользователям могут «доезжать» события из прошлого — это может «перекашивать данные». \n",
    "Отбросим события с 25.07.2019 г. по 31.07.2019 г. \n",
    "<br />"
   ]
  },
  {
   "cell_type": "code",
   "execution_count": 18,
   "metadata": {},
   "outputs": [
    {
     "name": "stdout",
     "output_type": "stream",
     "text": [
      "В обновленном периоде исследований 7534 пользователей.\n",
      "Мы потеряли 17 пользователей.\n"
     ]
    }
   ],
   "source": [
    "#Посчитаем сколько пользователей мы потеряли, отбросив период с 25.07.2019 г. по 31.07.2019 г. \n",
    "\n",
    "data_actual = pd.to_datetime('2019-08-01', format='%Y-%m-%d')\n",
    "data = data[data['date'] >= data_actual]\n",
    "print(\n",
    "        'В обновленном периоде исследований {} пользователей.'.format(\n",
    "            data['uid'].nunique())\n",
    "        )\n",
    "print(\n",
    "        'Мы потеряли {} пользователей.'.format(\n",
    "           user_count_sum - data['uid'].nunique())\n",
    "        )"
   ]
  },
  {
   "cell_type": "code",
   "execution_count": 19,
   "metadata": {},
   "outputs": [
    {
     "name": "stdout",
     "output_type": "stream",
     "text": [
      "В обновленном периоде исследований 240887 событий.\n",
      "Мы потеряли 2826 события.\n"
     ]
    }
   ],
   "source": [
    "#Посчитаем сколько событий мы потеряли, отбросив период с 25.07.2019 г. по 31.07.2019 г. \n",
    "\n",
    "data_actual = pd.to_datetime('2019-08-01', format='%Y-%m-%d')\n",
    "\n",
    "print(\n",
    "        'В обновленном периоде исследований {} событий.'.format(\n",
    "            data['event_name'].count())\n",
    "        )\n",
    "print(\n",
    "        'Мы потеряли {} события.'.format(\n",
    "           event_count_sum - data['event_name'].count())\n",
    "        )"
   ]
  },
  {
   "cell_type": "markdown",
   "metadata": {},
   "source": [
    "**В обновленном периоде исследования** мы потеряли только 17 уникальных пользователей от общего количества в 7551 пользователей, что менее 1%. \n",
    "Что касается событий, то здесь потери составили 2826 события, что чуть более 1% от общего числа событий. \n",
    "<br />"
   ]
  },
  {
   "cell_type": "code",
   "execution_count": 20,
   "metadata": {},
   "outputs": [
    {
     "data": {
      "text/html": [
       "<div>\n",
       "<style scoped>\n",
       "    .dataframe tbody tr th:only-of-type {\n",
       "        vertical-align: middle;\n",
       "    }\n",
       "\n",
       "    .dataframe tbody tr th {\n",
       "        vertical-align: top;\n",
       "    }\n",
       "\n",
       "    .dataframe thead th {\n",
       "        text-align: right;\n",
       "    }\n",
       "</style>\n",
       "<table border=\"1\" class=\"dataframe\">\n",
       "  <thead>\n",
       "    <tr style=\"text-align: right;\">\n",
       "      <th></th>\n",
       "      <th>uid</th>\n",
       "    </tr>\n",
       "    <tr>\n",
       "      <th>exp_id</th>\n",
       "      <th></th>\n",
       "    </tr>\n",
       "  </thead>\n",
       "  <tbody>\n",
       "    <tr>\n",
       "      <th>246</th>\n",
       "      <td>79302</td>\n",
       "    </tr>\n",
       "    <tr>\n",
       "      <th>247</th>\n",
       "      <td>77022</td>\n",
       "    </tr>\n",
       "    <tr>\n",
       "      <th>248</th>\n",
       "      <td>84563</td>\n",
       "    </tr>\n",
       "  </tbody>\n",
       "</table>\n",
       "</div>"
      ],
      "text/plain": [
       "          uid\n",
       "exp_id       \n",
       "246     79302\n",
       "247     77022\n",
       "248     84563"
      ]
     },
     "execution_count": 20,
     "metadata": {},
     "output_type": "execute_result"
    }
   ],
   "source": [
    "#Проверим, что у нас есть пользователи из всех трёх экспериментальных групп\n",
    "\n",
    "user_exp = data.groupby('exp_id').agg({'uid': 'count'})\n",
    "user_exp"
   ]
  },
  {
   "cell_type": "code",
   "execution_count": 21,
   "metadata": {},
   "outputs": [
    {
     "data": {
      "image/png": "[encoded data removed]",
      "text/plain": [
       "<Figure size 1440x504 with 1 Axes>"
      ]
     },
     "metadata": {
      "needs_background": "light"
     },
     "output_type": "display_data"
    }
   ],
   "source": [
    "#построим гистограмму которая отобразит количество пользователей разных групп\n",
    "\n",
    "(\n",
    "data\n",
    "    \n",
    "    .pivot_table(index = 'date', columns = 'exp_id', values = 'uid', aggfunc = 'nunique')\n",
    "    .plot( kind='barh', grid=True, color = ['lightblue', 'red', 'yellow'], figsize=(20, 7))    \n",
    ")\n",
    "plt.xlabel('Количество пользователей')\n",
    "plt.ylabel('Дата события')\n",
    "plt.title ('Количество пользователей разных групп')\n",
    "plt.show()"
   ]
  },
  {
   "cell_type": "markdown",
   "metadata": {},
   "source": [
    "**В обновленном периоде исследования** в каждой из экспериментальных групп есть пользователи. \n",
    "<br />"
   ]
  },
  {
   "cell_type": "markdown",
   "metadata": {},
   "source": [
    "## Изучим воронку событий"
   ]
  },
  {
   "cell_type": "code",
   "execution_count": 22,
   "metadata": {},
   "outputs": [
    {
     "data": {
      "text/html": [
       "<div>\n",
       "<style scoped>\n",
       "    .dataframe tbody tr th:only-of-type {\n",
       "        vertical-align: middle;\n",
       "    }\n",
       "\n",
       "    .dataframe tbody tr th {\n",
       "        vertical-align: top;\n",
       "    }\n",
       "\n",
       "    .dataframe thead th {\n",
       "        text-align: right;\n",
       "    }\n",
       "</style>\n",
       "<table border=\"1\" class=\"dataframe\">\n",
       "  <thead>\n",
       "    <tr style=\"text-align: right;\">\n",
       "      <th></th>\n",
       "      <th>count</th>\n",
       "    </tr>\n",
       "    <tr>\n",
       "      <th>event_name</th>\n",
       "      <th></th>\n",
       "    </tr>\n",
       "  </thead>\n",
       "  <tbody>\n",
       "    <tr>\n",
       "      <th>MainScreenAppear</th>\n",
       "      <td>117328</td>\n",
       "    </tr>\n",
       "    <tr>\n",
       "      <th>OffersScreenAppear</th>\n",
       "      <td>46333</td>\n",
       "    </tr>\n",
       "    <tr>\n",
       "      <th>CartScreenAppear</th>\n",
       "      <td>42303</td>\n",
       "    </tr>\n",
       "    <tr>\n",
       "      <th>PaymentScreenSuccessful</th>\n",
       "      <td>33918</td>\n",
       "    </tr>\n",
       "    <tr>\n",
       "      <th>Tutorial</th>\n",
       "      <td>1005</td>\n",
       "    </tr>\n",
       "  </tbody>\n",
       "</table>\n",
       "</div>"
      ],
      "text/plain": [
       "                          count\n",
       "event_name                     \n",
       "MainScreenAppear         117328\n",
       "OffersScreenAppear        46333\n",
       "CartScreenAppear          42303\n",
       "PaymentScreenSuccessful   33918\n",
       "Tutorial                   1005"
      ]
     },
     "execution_count": 22,
     "metadata": {},
     "output_type": "execute_result"
    }
   ],
   "source": [
    "#Посмотрим какие события есть в логах, как часто они встречаются, отсортируем по частоте встречаемости\n",
    "\n",
    "event_count = data.groupby('event_name')['uid'].agg(['count']).sort_values(by = 'count', ascending=False )\n",
    "event_count"
   ]
  },
  {
   "cell_type": "code",
   "execution_count": 23,
   "metadata": {},
   "outputs": [
    {
     "data": {
      "image/png": "[encoded data removed]",
      "text/plain": [
       "<Figure size 1296x504 with 1 Axes>"
      ]
     },
     "metadata": {
      "needs_background": "light"
     },
     "output_type": "display_data"
    }
   ],
   "source": [
    "event_count.plot( kind='barh', grid=True, color = 'lightblue', figsize=(18, 7))    \n",
    "\n",
    "plt.xlabel('Количество событий')\n",
    "plt.ylabel('Наименования события')\n",
    "plt.title ('Количество событий в логах')\n",
    "plt.show()"
   ]
  },
  {
   "cell_type": "markdown",
   "metadata": {},
   "source": [
    "**Чаще всего встречается** событие MainScreenAppear. \n",
    "<br />"
   ]
  },
  {
   "cell_type": "code",
   "execution_count": 24,
   "metadata": {},
   "outputs": [
    {
     "data": {
      "text/html": [
       "<div>\n",
       "<style scoped>\n",
       "    .dataframe tbody tr th:only-of-type {\n",
       "        vertical-align: middle;\n",
       "    }\n",
       "\n",
       "    .dataframe tbody tr th {\n",
       "        vertical-align: top;\n",
       "    }\n",
       "\n",
       "    .dataframe thead th {\n",
       "        text-align: right;\n",
       "    }\n",
       "</style>\n",
       "<table border=\"1\" class=\"dataframe\">\n",
       "  <thead>\n",
       "    <tr style=\"text-align: right;\">\n",
       "      <th></th>\n",
       "      <th>event_name</th>\n",
       "      <th>nunique</th>\n",
       "      <th>share_to_all_users</th>\n",
       "    </tr>\n",
       "  </thead>\n",
       "  <tbody>\n",
       "    <tr>\n",
       "      <th>0</th>\n",
       "      <td>MainScreenAppear</td>\n",
       "      <td>7419</td>\n",
       "      <td>98.25%</td>\n",
       "    </tr>\n",
       "    <tr>\n",
       "      <th>1</th>\n",
       "      <td>OffersScreenAppear</td>\n",
       "      <td>4593</td>\n",
       "      <td>60.83%</td>\n",
       "    </tr>\n",
       "    <tr>\n",
       "      <th>2</th>\n",
       "      <td>CartScreenAppear</td>\n",
       "      <td>3734</td>\n",
       "      <td>49.45%</td>\n",
       "    </tr>\n",
       "    <tr>\n",
       "      <th>3</th>\n",
       "      <td>PaymentScreenSuccessful</td>\n",
       "      <td>3539</td>\n",
       "      <td>46.87%</td>\n",
       "    </tr>\n",
       "    <tr>\n",
       "      <th>4</th>\n",
       "      <td>Tutorial</td>\n",
       "      <td>840</td>\n",
       "      <td>11.12%</td>\n",
       "    </tr>\n",
       "  </tbody>\n",
       "</table>\n",
       "</div>"
      ],
      "text/plain": [
       "                event_name  nunique share_to_all_users\n",
       "0         MainScreenAppear     7419             98.25%\n",
       "1       OffersScreenAppear     4593             60.83%\n",
       "2         CartScreenAppear     3734             49.45%\n",
       "3  PaymentScreenSuccessful     3539             46.87%\n",
       "4                 Tutorial      840             11.12%"
      ]
     },
     "execution_count": 24,
     "metadata": {},
     "output_type": "execute_result"
    }
   ],
   "source": [
    "#Посчитаем, сколько пользователей совершали каждое из этих событий. Отсортируем события по числу пользователей\n",
    "#Посчитаем долю тех пользователей, которые хоть раз совершали событие\n",
    "\n",
    "event_users = data.groupby('event_name')['uid'].agg(['nunique']).sort_values(by = 'nunique', ascending=False ).reset_index()\n",
    "event_users['share_to_all_users'] = round((event_users['nunique']/user_count_sum)*100,2)\n",
    "event_users['share_to_all_users'] = event_users['share_to_all_users'].astype('str')+'%'\n",
    "event_users"
   ]
  },
  {
   "cell_type": "code",
   "execution_count": 25,
   "metadata": {},
   "outputs": [
    {
     "data": {
      "image/png": "[encoded data removed]",
      "text/plain": [
       "<Figure size 1296x504 with 1 Axes>"
      ]
     },
     "metadata": {
      "needs_background": "light"
     },
     "output_type": "display_data"
    }
   ],
   "source": [
    "event_users.plot( kind='barh', x='event_name', y='nunique', grid=True, color = 'red', figsize=(18, 7))    \n",
    "\n",
    "plt.xlabel('Количество пользователей')\n",
    "plt.ylabel('Наименования события')\n",
    "plt.title ('Количество пользователей, совершивших событие')\n",
    "plt.show()"
   ]
  },
  {
   "cell_type": "markdown",
   "metadata": {},
   "source": [
    "**Более 98% пользователей** совершают событие MainScreenAppear, 60,83% использовали OffersScreenAppear. Событие CartScreenAppear совершили 49,45% пользователей, а 46,87% пользователей дошли до оплаты (событие PaymentScreenSuccessful). Всего 11,12% пользователей изучили Tutorial.\n",
    "<br />"
   ]
  },
  {
   "cell_type": "markdown",
   "metadata": {},
   "source": [
    "**На мой взгляд, формирование воронки событий происходит следующим образом:** прежде всего пользователи попадают на главный экран приложения - MainScreenAppear, далее они переходят на страницу с предложением товаров - OffersScreenAppear, на следующем этапе товары добавляются в корзину и совершается событие CartScreenAppear, заключительным событием воронки является оплата товара - PaymentScreenSuccessful. Событие Tutorial является обособленным и может совершаться на том или ином этапе, оно не вписывается в воронку.\n",
    "<br />"
   ]
  },
  {
   "cell_type": "code",
   "execution_count": 26,
   "metadata": {},
   "outputs": [
    {
     "data": {
      "text/html": [
       "<div>\n",
       "<style scoped>\n",
       "    .dataframe tbody tr th:only-of-type {\n",
       "        vertical-align: middle;\n",
       "    }\n",
       "\n",
       "    .dataframe tbody tr th {\n",
       "        vertical-align: top;\n",
       "    }\n",
       "\n",
       "    .dataframe thead th {\n",
       "        text-align: right;\n",
       "    }\n",
       "</style>\n",
       "<table border=\"1\" class=\"dataframe\">\n",
       "  <thead>\n",
       "    <tr style=\"text-align: right;\">\n",
       "      <th></th>\n",
       "      <th>event_name</th>\n",
       "      <th>nunique</th>\n",
       "      <th>share_to_all_users</th>\n",
       "      <th>share_to_users</th>\n",
       "    </tr>\n",
       "  </thead>\n",
       "  <tbody>\n",
       "    <tr>\n",
       "      <th>0</th>\n",
       "      <td>MainScreenAppear</td>\n",
       "      <td>7419</td>\n",
       "      <td>98.25%</td>\n",
       "      <td>100.0%</td>\n",
       "    </tr>\n",
       "    <tr>\n",
       "      <th>1</th>\n",
       "      <td>OffersScreenAppear</td>\n",
       "      <td>4593</td>\n",
       "      <td>60.83%</td>\n",
       "      <td>62.0%</td>\n",
       "    </tr>\n",
       "    <tr>\n",
       "      <th>2</th>\n",
       "      <td>CartScreenAppear</td>\n",
       "      <td>3734</td>\n",
       "      <td>49.45%</td>\n",
       "      <td>81.0%</td>\n",
       "    </tr>\n",
       "    <tr>\n",
       "      <th>3</th>\n",
       "      <td>PaymentScreenSuccessful</td>\n",
       "      <td>3539</td>\n",
       "      <td>46.87%</td>\n",
       "      <td>95.0%</td>\n",
       "    </tr>\n",
       "  </tbody>\n",
       "</table>\n",
       "</div>"
      ],
      "text/plain": [
       "                event_name  nunique share_to_all_users share_to_users\n",
       "0         MainScreenAppear     7419             98.25%         100.0%\n",
       "1       OffersScreenAppear     4593             60.83%          62.0%\n",
       "2         CartScreenAppear     3734             49.45%          81.0%\n",
       "3  PaymentScreenSuccessful     3539             46.87%          95.0%"
      ]
     },
     "execution_count": 26,
     "metadata": {},
     "output_type": "execute_result"
    }
   ],
   "source": [
    "#По воронке событий посчитаем, какая доля пользователей проходит на следующий шаг воронки (от числа пользователей на предыдущем) \n",
    "\n",
    "#Удалим последнее событие Tutorial из воронки\n",
    "\n",
    "event_users.drop([4], axis=0, inplace=True)\n",
    "\n",
    "#Посчитаем процент пользователей\n",
    "\n",
    "event_users['share_to_users'] = 100.0\n",
    "event_users['share_to_users'] = event_users['share_to_users'].astype('str')+'%'\n",
    "\n",
    "for i in range(1,4):\n",
    "    \n",
    "    event_users.loc[i,'share_to_users'] = round((event_users.loc[i,'nunique']/ event_users.loc[i-1, 'nunique']*100),0)\n",
    "    event_users.loc[i,'share_to_users'] = event_users.loc[i,'share_to_users'].astype('str')+'%'\n",
    "\n",
    "event_users            "
   ]
  },
  {
   "cell_type": "markdown",
   "metadata": {},
   "source": [
    "**Анализируя количество пользователей,** совершивших то или иное событие, можно отметить, что у компании 46% пользователей, посетивших главный экран приложения, совершают покупки. В свою очередь 95% покупателей, добавивших товар в корзину переходят к его оплате.\n",
    "\n",
    "Самый большой процент пользователей \"теряется\" на этапе перехода от события MainScreenAppear до OffersScreenAppear.\n",
    "<br />"
   ]
  },
  {
   "cell_type": "markdown",
   "metadata": {},
   "source": [
    "## Изучим результаты эксперимента"
   ]
  },
  {
   "cell_type": "code",
   "execution_count": 28,
   "metadata": {},
   "outputs": [
    {
     "data": {
      "text/html": [
       "<div>\n",
       "<style scoped>\n",
       "    .dataframe tbody tr th:only-of-type {\n",
       "        vertical-align: middle;\n",
       "    }\n",
       "\n",
       "    .dataframe tbody tr th {\n",
       "        vertical-align: top;\n",
       "    }\n",
       "\n",
       "    .dataframe thead th {\n",
       "        text-align: right;\n",
       "    }\n",
       "</style>\n",
       "<table border=\"1\" class=\"dataframe\">\n",
       "  <thead>\n",
       "    <tr style=\"text-align: right;\">\n",
       "      <th></th>\n",
       "      <th>exp_id</th>\n",
       "      <th>nunique</th>\n",
       "    </tr>\n",
       "  </thead>\n",
       "  <tbody>\n",
       "    <tr>\n",
       "      <th>0</th>\n",
       "      <td>248</td>\n",
       "      <td>2537</td>\n",
       "    </tr>\n",
       "    <tr>\n",
       "      <th>1</th>\n",
       "      <td>247</td>\n",
       "      <td>2513</td>\n",
       "    </tr>\n",
       "    <tr>\n",
       "      <th>2</th>\n",
       "      <td>246</td>\n",
       "      <td>2484</td>\n",
       "    </tr>\n",
       "  </tbody>\n",
       "</table>\n",
       "</div>"
      ],
      "text/plain": [
       "   exp_id  nunique\n",
       "0     248     2537\n",
       "1     247     2513\n",
       "2     246     2484"
      ]
     },
     "execution_count": 28,
     "metadata": {},
     "output_type": "execute_result"
    }
   ],
   "source": [
    "#Посчитаем количество пользователей в каждой экспериментальной группе\n",
    "\n",
    "group_users = data.groupby('exp_id')['uid'].agg(['nunique']).sort_values(by = 'nunique', ascending=False ).reset_index()\n",
    "group_users"
   ]
  },
  {
   "cell_type": "markdown",
   "metadata": {},
   "source": [
    "**В каждой из экспериментальных групп** находится около 2500 пользователей. Количество пользователей в каждой группе не равны абсолютно, они отличаются менее чем на 1%.\n",
    "<br />"
   ]
  },
  {
   "cell_type": "code",
   "execution_count": 29,
   "metadata": {},
   "outputs": [
    {
     "name": "stdout",
     "output_type": "stream",
     "text": [
      "Общее количество пересекающихся пользователей exp_id    0\n",
      "dtype: int64.\n"
     ]
    }
   ],
   "source": [
    "#Проверим находят ли статистические критерии разницу между выборками группы А 246 и 247\n",
    "#Для начала проверим, есть ли в каждой из групп пересекающиеся пользователи\n",
    "\n",
    "print(\n",
    "        'Общее количество пересекающихся пользователей {}.'.format(\n",
    "           data.groupby('uid').agg({'exp_id' : 'nunique'}).query('exp_id > 1').count())\n",
    "        )"
   ]
  },
  {
   "cell_type": "markdown",
   "metadata": {},
   "source": [
    "**Пересекающихся пользователей** не обнаружено.\n",
    "<br />"
   ]
  },
  {
   "cell_type": "code",
   "execution_count": 30,
   "metadata": {},
   "outputs": [
    {
     "data": {
      "text/html": [
       "<div>\n",
       "<style scoped>\n",
       "    .dataframe tbody tr th:only-of-type {\n",
       "        vertical-align: middle;\n",
       "    }\n",
       "\n",
       "    .dataframe tbody tr th {\n",
       "        vertical-align: top;\n",
       "    }\n",
       "\n",
       "    .dataframe thead th {\n",
       "        text-align: right;\n",
       "    }\n",
       "</style>\n",
       "<table border=\"1\" class=\"dataframe\">\n",
       "  <thead>\n",
       "    <tr style=\"text-align: right;\">\n",
       "      <th></th>\n",
       "      <th>event_name</th>\n",
       "      <th>exp_id</th>\n",
       "      <th>uid</th>\n",
       "    </tr>\n",
       "  </thead>\n",
       "  <tbody>\n",
       "    <tr>\n",
       "      <th>0</th>\n",
       "      <td>MainScreenAppear</td>\n",
       "      <td>248</td>\n",
       "      <td>2493</td>\n",
       "    </tr>\n",
       "    <tr>\n",
       "      <th>1</th>\n",
       "      <td>OffersScreenAppear</td>\n",
       "      <td>248</td>\n",
       "      <td>1531</td>\n",
       "    </tr>\n",
       "    <tr>\n",
       "      <th>2</th>\n",
       "      <td>CartScreenAppear</td>\n",
       "      <td>248</td>\n",
       "      <td>1230</td>\n",
       "    </tr>\n",
       "    <tr>\n",
       "      <th>3</th>\n",
       "      <td>PaymentScreenSuccessful</td>\n",
       "      <td>248</td>\n",
       "      <td>1181</td>\n",
       "    </tr>\n",
       "    <tr>\n",
       "      <th>5</th>\n",
       "      <td>MainScreenAppear</td>\n",
       "      <td>247</td>\n",
       "      <td>2476</td>\n",
       "    </tr>\n",
       "    <tr>\n",
       "      <th>6</th>\n",
       "      <td>OffersScreenAppear</td>\n",
       "      <td>247</td>\n",
       "      <td>1520</td>\n",
       "    </tr>\n",
       "    <tr>\n",
       "      <th>7</th>\n",
       "      <td>CartScreenAppear</td>\n",
       "      <td>247</td>\n",
       "      <td>1238</td>\n",
       "    </tr>\n",
       "    <tr>\n",
       "      <th>8</th>\n",
       "      <td>PaymentScreenSuccessful</td>\n",
       "      <td>247</td>\n",
       "      <td>1158</td>\n",
       "    </tr>\n",
       "    <tr>\n",
       "      <th>10</th>\n",
       "      <td>MainScreenAppear</td>\n",
       "      <td>246</td>\n",
       "      <td>2450</td>\n",
       "    </tr>\n",
       "    <tr>\n",
       "      <th>11</th>\n",
       "      <td>OffersScreenAppear</td>\n",
       "      <td>246</td>\n",
       "      <td>1542</td>\n",
       "    </tr>\n",
       "    <tr>\n",
       "      <th>12</th>\n",
       "      <td>CartScreenAppear</td>\n",
       "      <td>246</td>\n",
       "      <td>1266</td>\n",
       "    </tr>\n",
       "    <tr>\n",
       "      <th>13</th>\n",
       "      <td>PaymentScreenSuccessful</td>\n",
       "      <td>246</td>\n",
       "      <td>1200</td>\n",
       "    </tr>\n",
       "  </tbody>\n",
       "</table>\n",
       "</div>"
      ],
      "text/plain": [
       "                 event_name  exp_id   uid\n",
       "0          MainScreenAppear     248  2493\n",
       "1        OffersScreenAppear     248  1531\n",
       "2          CartScreenAppear     248  1230\n",
       "3   PaymentScreenSuccessful     248  1181\n",
       "5          MainScreenAppear     247  2476\n",
       "6        OffersScreenAppear     247  1520\n",
       "7          CartScreenAppear     247  1238\n",
       "8   PaymentScreenSuccessful     247  1158\n",
       "10         MainScreenAppear     246  2450\n",
       "11       OffersScreenAppear     246  1542\n",
       "12         CartScreenAppear     246  1266\n",
       "13  PaymentScreenSuccessful     246  1200"
      ]
     },
     "execution_count": 30,
     "metadata": {},
     "output_type": "execute_result"
    }
   ],
   "source": [
    "#Посчитаем количество пользователей в каждой из групп\n",
    "stats_data= ( data\n",
    "        .groupby(['event_name', 'exp_id'])\n",
    "        .agg({'uid': 'nunique'})\n",
    "        .sort_values(by=['exp_id','uid'], ascending=False)\n",
    "        .reset_index()\n",
    ")\n",
    "stats_data = stats_data[stats_data['event_name'] != 'Tutorial']\n",
    "stats_data"
   ]
  },
  {
   "cell_type": "markdown",
   "metadata": {},
   "source": [
    "**Самым популярным событием является MainScreenAppear**. В каждой из контрольных групп это событие совершили около 2500 человек, между группами незначительное отличие. \n",
    "<br />\n",
    "\n",
    "Всего 98% от общего числа пользователей совершили это событие."
   ]
  },
  {
   "cell_type": "markdown",
   "metadata": {},
   "source": [
    "**Далее мы должны провести расчет статистических критериев**. Для расчета у нас есть 3 группы(А/А/В) и 4 события(гипотезы), которые мы должны проверить. Группы сначала сравниваются попарно каждая, а затем объединяются две контрольные группы А и сравниваются с В. Итого будет проведено 16 тестов.\n",
    "<br />\n",
    "\n",
    "Несколько сравнений, проводимых на одних и тех же данных — это множественный тест. Его особенность в том, что с каждой новой проверкой гипотезы растёт вероятность ошибки первого рода или ложнопозитивный результат статистического теста. Это означает, что различий между сравниваемыми группами нет, но тест показывает p-value меньше уровня значимости. Чтобы снизить вероятность ложнопозитивного результата при множественном тестировании гипотез, применяют разные методы корректировки уровня значимости. \n",
    "<br />\n",
    "\n",
    "Используем метод Шидака."
   ]
  },
  {
   "cell_type": "code",
   "execution_count": 31,
   "metadata": {},
   "outputs": [],
   "source": [
    "#Для расчета статистических критериев разницы между выборками добавим функцию\n",
    "\n",
    "def z_test(dataframe1, dataframe2, event, alpha):\n",
    "\n",
    "    \n",
    "    group_users = np.array([dataframe1['uid'].nunique(), \n",
    "                        dataframe2['uid'].nunique()])\n",
    "\n",
    "    \n",
    "    event_users = np.array([dataframe1[dataframe1['event_name'] == event]['uid'].nunique(), \n",
    "                        dataframe2[dataframe2['event_name'] == event]['uid'].nunique()])\n",
    "    \n",
    "    correct_alpha = 1 - (1 - alpha)**(1/16)\n",
    "    \n",
    "    p1 = event_users[0] / group_users[0]\n",
    "    \n",
    "    p2 = event_users[1] / group_users[1]\n",
    "    \n",
    "    \n",
    "    p_combined = (event_users[0] + event_users[1]) / (group_users[0] + group_users[1])\n",
    "\n",
    "    \n",
    "    difference = p1 - p2 \n",
    "\n",
    "    \n",
    "    z_value = difference /  mth.sqrt(p_combined * (1 - p_combined) * (1/group_users[0] + 1/group_users[1]))\n",
    "\n",
    "    \n",
    "    distr = stats.norm(0, 1)  \n",
    "\n",
    "    p_value = (1 - distr.cdf(abs(z_value))) * 2   \n",
    "    \n",
    "    print('Событие:', event)\n",
    "    print('p-значение: ', p_value)\n",
    "\n",
    "    if p_value < correct_alpha:\n",
    "            print('Отвергаем нулевую гипотезу: между долями есть значимая разница')\n",
    "    else:\n",
    "            print('Не получилось отвергнуть нулевую гипотезу: различия статистически не значимы')"
   ]
  },
  {
   "cell_type": "markdown",
   "metadata": {},
   "source": [
    "**Для того, чтобы проверить**, находят ли статистические критерии разницу между выборками контрольных групп А и группы с измененным шрифтом В был выбран z-тест или проверка гипотезы о равенстве долей.\n",
    "<br />"
   ]
  },
  {
   "cell_type": "markdown",
   "metadata": {},
   "source": [
    "**Проверим, есть ли статистически значимая разница между контрольными группами 246 и 247**\n",
    "<br />\n",
    "\n",
    "Основная гипотеза Ho: пропорции уникальных пользователей двух генеральных совокупностей одинаковы\n",
    "<br />\n",
    "\n",
    "Альтернативная гипотеза H1: пропорции уникальных пользователей двух генеральных совокупностей отличаются\n"
   ]
  },
  {
   "cell_type": "code",
   "execution_count": 32,
   "metadata": {},
   "outputs": [
    {
     "name": "stdout",
     "output_type": "stream",
     "text": [
      "Событие: MainScreenAppear\n",
      "p-значение:  0.7570597232046099\n",
      "Не получилось отвергнуть нулевую гипотезу: различия статистически не значимы\n",
      "\n",
      "Событие: OffersScreenAppear\n",
      "p-значение:  0.2480954578522181\n",
      "Не получилось отвергнуть нулевую гипотезу: различия статистически не значимы\n",
      "\n",
      "Событие: CartScreenAppear\n",
      "p-значение:  0.22883372237997213\n",
      "Не получилось отвергнуть нулевую гипотезу: различия статистически не значимы\n",
      "\n",
      "Событие: PaymentScreenSuccessful\n",
      "p-значение:  0.11456679313141849\n",
      "Не получилось отвергнуть нулевую гипотезу: различия статистически не значимы\n",
      "\n"
     ]
    }
   ],
   "source": [
    "for event in stats_data['event_name'].unique():\n",
    "    z_test(data[data['exp_id'] == 246], data[data['exp_id'] == 247], event,0.05)\n",
    "    print()"
   ]
  },
  {
   "cell_type": "markdown",
   "metadata": {},
   "source": [
    "**Ни по одному из событий нет статистической значимой разницы между выборками 246 и 247 группы А**\n",
    "<br />"
   ]
  },
  {
   "cell_type": "markdown",
   "metadata": {},
   "source": [
    "**Сравним результаты с каждой из контрольных групп в отдельности по каждому событию с группой с изменённым шрифтом.** Определим есть ли статистически значимая разница между группами.\n",
    "<br />\n"
   ]
  },
  {
   "cell_type": "markdown",
   "metadata": {},
   "source": [
    "**Проверим, есть ли статистически значимая разница между группами 246 и 248**\n",
    "<br />\n",
    "Основные и альтернативные гипотезы останутся те же, что и ранее."
   ]
  },
  {
   "cell_type": "code",
   "execution_count": 33,
   "metadata": {},
   "outputs": [
    {
     "name": "stdout",
     "output_type": "stream",
     "text": [
      "Событие: MainScreenAppear\n",
      "p-значение:  0.2949721933554552\n",
      "Не получилось отвергнуть нулевую гипотезу: различия статистически не значимы\n",
      "\n",
      "Событие: OffersScreenAppear\n",
      "p-значение:  0.20836205402738917\n",
      "Не получилось отвергнуть нулевую гипотезу: различия статистически не значимы\n",
      "\n",
      "Событие: CartScreenAppear\n",
      "p-значение:  0.07842923237520116\n",
      "Не получилось отвергнуть нулевую гипотезу: различия статистически не значимы\n",
      "\n",
      "Событие: PaymentScreenSuccessful\n",
      "p-значение:  0.2122553275697796\n",
      "Не получилось отвергнуть нулевую гипотезу: различия статистически не значимы\n",
      "\n"
     ]
    }
   ],
   "source": [
    "for event in stats_data['event_name'].unique():\n",
    "    z_test(data[data['exp_id'] == 246], data[data['exp_id'] == 248], event,0.05)\n",
    "    print()"
   ]
  },
  {
   "cell_type": "markdown",
   "metadata": {},
   "source": [
    "**Ни по одному из событий нет статистической значимой разницы между выборками 246 и 248 групп А и В соответственно**\n",
    "<br />"
   ]
  },
  {
   "cell_type": "markdown",
   "metadata": {},
   "source": [
    "**Проверим, есть ли статистически значимая разница между группами 247 и 248**\n",
    "<br />\n",
    "Основные и альтернативные гипотезы останутся те же, что и ранее."
   ]
  },
  {
   "cell_type": "code",
   "execution_count": 34,
   "metadata": {},
   "outputs": [
    {
     "name": "stdout",
     "output_type": "stream",
     "text": [
      "Событие: MainScreenAppear\n",
      "p-значение:  0.4587053616621515\n",
      "Не получилось отвергнуть нулевую гипотезу: различия статистически не значимы\n",
      "\n",
      "Событие: OffersScreenAppear\n",
      "p-значение:  0.9197817830592261\n",
      "Не получилось отвергнуть нулевую гипотезу: различия статистически не значимы\n",
      "\n",
      "Событие: CartScreenAppear\n",
      "p-значение:  0.5786197879539783\n",
      "Не получилось отвергнуть нулевую гипотезу: различия статистически не значимы\n",
      "\n",
      "Событие: PaymentScreenSuccessful\n",
      "p-значение:  0.7373415053803964\n",
      "Не получилось отвергнуть нулевую гипотезу: различия статистически не значимы\n",
      "\n"
     ]
    }
   ],
   "source": [
    "for event in stats_data['event_name'].unique():\n",
    "    z_test(data[data['exp_id'] == 247], data[data['exp_id'] == 248], event,0.05)\n",
    "    print()"
   ]
  },
  {
   "cell_type": "markdown",
   "metadata": {},
   "source": [
    "**Ни по одному из событий нет статистической значимой разницы между выборками 247 и 248 групп А и В соответственно**\n",
    "<br />"
   ]
  },
  {
   "cell_type": "markdown",
   "metadata": {},
   "source": [
    "**Проверим, есть ли статистически значимая разница между объединенными выборками 246 и 247 и 248 выборкой**\n",
    "<br />\n",
    "Основные и альтернативные гипотезы останутся те же, что и ранее."
   ]
  },
  {
   "cell_type": "code",
   "execution_count": 35,
   "metadata": {},
   "outputs": [
    {
     "name": "stdout",
     "output_type": "stream",
     "text": [
      "Событие: MainScreenAppear\n",
      "p-значение:  0.29424526837179577\n",
      "Не получилось отвергнуть нулевую гипотезу: различия статистически не значимы\n",
      "\n",
      "Событие: OffersScreenAppear\n",
      "p-значение:  0.43425549655188256\n",
      "Не получилось отвергнуть нулевую гипотезу: различия статистически не значимы\n",
      "\n",
      "Событие: CartScreenAppear\n",
      "p-значение:  0.18175875284404386\n",
      "Не получилось отвергнуть нулевую гипотезу: различия статистически не значимы\n",
      "\n",
      "Событие: PaymentScreenSuccessful\n",
      "p-значение:  0.6004294282308704\n",
      "Не получилось отвергнуть нулевую гипотезу: различия статистически не значимы\n",
      "\n"
     ]
    }
   ],
   "source": [
    "for event in stats_data['event_name'].unique():\n",
    "    z_test(data[data['exp_id'] != 248], data[data['exp_id'] == 248], event,0.05)\n",
    "    print()"
   ]
  },
  {
   "cell_type": "markdown",
   "metadata": {},
   "source": [
    "**Ни по одному из событий нет статистической значимой разницы между объединенными выборками 246 и 247 и 248 выборкой**\n",
    "<br />"
   ]
  },
  {
   "cell_type": "markdown",
   "metadata": {},
   "source": [
    "**После всех проведенных тестов** можно сделать общий вывод о том, что никакой статистической разницы между контрольными группами и группой с измененным шрифтом нет.\n",
    "<br />"
   ]
  },
  {
   "cell_type": "markdown",
   "metadata": {},
   "source": [
    "**При проверке статистических гипотез** был выбран уровень значимости, равный 0.05. Было сделано 16 проверок статистических гипотез по каждому событию и по каждой из выборок.\n",
    "<br />\n",
    "\n",
    "При уровне значимости 0.1 в 10% случаев можно ошибочно отклонить нулевую гипотезу при условии, что она верна. \n",
    "Попробуем изменить уровень значимости с 0.05 на 0.1, проделаем предыдущие пункты и проверим выводы."
   ]
  },
  {
   "cell_type": "code",
   "execution_count": 36,
   "metadata": {},
   "outputs": [
    {
     "name": "stdout",
     "output_type": "stream",
     "text": [
      "Событие: MainScreenAppear\n",
      "p-значение:  0.7570597232046099\n",
      "Не получилось отвергнуть нулевую гипотезу: различия статистически не значимы\n",
      "\n",
      "Событие: OffersScreenAppear\n",
      "p-значение:  0.2480954578522181\n",
      "Не получилось отвергнуть нулевую гипотезу: различия статистически не значимы\n",
      "\n",
      "Событие: CartScreenAppear\n",
      "p-значение:  0.22883372237997213\n",
      "Не получилось отвергнуть нулевую гипотезу: различия статистически не значимы\n",
      "\n",
      "Событие: PaymentScreenSuccessful\n",
      "p-значение:  0.11456679313141849\n",
      "Не получилось отвергнуть нулевую гипотезу: различия статистически не значимы\n",
      "\n"
     ]
    }
   ],
   "source": [
    "for event in stats_data['event_name'].unique():\n",
    "    z_test(data[data['exp_id'] == 246], data[data['exp_id'] == 247], event,0.1)\n",
    "    print()"
   ]
  },
  {
   "cell_type": "code",
   "execution_count": 37,
   "metadata": {},
   "outputs": [
    {
     "name": "stdout",
     "output_type": "stream",
     "text": [
      "Событие: MainScreenAppear\n",
      "p-значение:  0.2949721933554552\n",
      "Не получилось отвергнуть нулевую гипотезу: различия статистически не значимы\n",
      "\n",
      "Событие: OffersScreenAppear\n",
      "p-значение:  0.20836205402738917\n",
      "Не получилось отвергнуть нулевую гипотезу: различия статистически не значимы\n",
      "\n",
      "Событие: CartScreenAppear\n",
      "p-значение:  0.07842923237520116\n",
      "Не получилось отвергнуть нулевую гипотезу: различия статистически не значимы\n",
      "\n",
      "Событие: PaymentScreenSuccessful\n",
      "p-значение:  0.2122553275697796\n",
      "Не получилось отвергнуть нулевую гипотезу: различия статистически не значимы\n",
      "\n"
     ]
    }
   ],
   "source": [
    "for event in stats_data['event_name'].unique():\n",
    "    z_test(data[data['exp_id'] == 246], data[data['exp_id'] == 248], event,0.1)\n",
    "    print()"
   ]
  },
  {
   "cell_type": "code",
   "execution_count": 38,
   "metadata": {},
   "outputs": [
    {
     "name": "stdout",
     "output_type": "stream",
     "text": [
      "Событие: MainScreenAppear\n",
      "p-значение:  0.4587053616621515\n",
      "Не получилось отвергнуть нулевую гипотезу: различия статистически не значимы\n",
      "\n",
      "Событие: OffersScreenAppear\n",
      "p-значение:  0.9197817830592261\n",
      "Не получилось отвергнуть нулевую гипотезу: различия статистически не значимы\n",
      "\n",
      "Событие: CartScreenAppear\n",
      "p-значение:  0.5786197879539783\n",
      "Не получилось отвергнуть нулевую гипотезу: различия статистически не значимы\n",
      "\n",
      "Событие: PaymentScreenSuccessful\n",
      "p-значение:  0.7373415053803964\n",
      "Не получилось отвергнуть нулевую гипотезу: различия статистически не значимы\n",
      "\n"
     ]
    }
   ],
   "source": [
    "for event in stats_data['event_name'].unique():\n",
    "    z_test(data[data['exp_id'] == 247], data[data['exp_id'] == 248], event,0.1)\n",
    "    print()"
   ]
  },
  {
   "cell_type": "code",
   "execution_count": 39,
   "metadata": {},
   "outputs": [
    {
     "name": "stdout",
     "output_type": "stream",
     "text": [
      "Событие: MainScreenAppear\n",
      "p-значение:  0.29424526837179577\n",
      "Не получилось отвергнуть нулевую гипотезу: различия статистически не значимы\n",
      "\n",
      "Событие: OffersScreenAppear\n",
      "p-значение:  0.43425549655188256\n",
      "Не получилось отвергнуть нулевую гипотезу: различия статистически не значимы\n",
      "\n",
      "Событие: CartScreenAppear\n",
      "p-значение:  0.18175875284404386\n",
      "Не получилось отвергнуть нулевую гипотезу: различия статистически не значимы\n",
      "\n",
      "Событие: PaymentScreenSuccessful\n",
      "p-значение:  0.6004294282308704\n",
      "Не получилось отвергнуть нулевую гипотезу: различия статистически не значимы\n",
      "\n"
     ]
    }
   ],
   "source": [
    "for event in stats_data['event_name'].unique():\n",
    "    z_test(data[data['exp_id'] != 248], data[data['exp_id'] == 248], event,0.1)\n",
    "    print()"
   ]
  },
  {
   "cell_type": "markdown",
   "metadata": {},
   "source": [
    "**При изменении уровня статистической значимости** с 0.05 на 0.1 получили те же результаты.\n",
    "<br />\n",
    "\n",
    "Чтобы снизить вероятность ложнопозитивного результата при множественном тестировании гипотез, применяют методы корректировки уровня значимости для снижения групповой вероятности ошибки первого рода. В своих расчетах мы применили метод Шидака."
   ]
  },
  {
   "cell_type": "markdown",
   "metadata": {},
   "source": [
    "## Общие выводы"
   ]
  },
  {
   "cell_type": "markdown",
   "metadata": {},
   "source": [
    "**При изучении общих данных** было обнаружено, что основная масса событий происходит с 01.08.2019 г. В результате, был отброшен период с 25.07.2019 г. по 31.07.2019 г. В качестве актуального периода исследований выбран период с 01.08.2019 по 07.08.2019 гг.\n",
    "<br />\n",
    "\n",
    "**Изучив события в логах** мы определили, что чаще всего встречается событие MainScreenAppear (его совершили более 98% пользователей). 60,83% пользователей использовали OffersScreenAppear. Событие CartScreenAppear совершили 49,45% пользователей, а 46,87% пользователей дошли до оплаты (событие PaymentScreenSuccessful). И только 11,12% пользователей изучили Tutorial.\n",
    "<br />\n",
    "\n",
    "**По всей видимости**, формирование воронки событий происходит следующим образом: сначала пользователи попадают на главный экран приложения - событие MainScreenAppear, далее они переходят на страницу с предложением товаров - OffersScreenAppear, на следующем этапе товары добавляются в корзину и совершается событие CartScreenAppear, заключительным событием воронки является оплата товара - PaymentScreenSuccessful. Событие Tutorial не вписывается в воронку.\n",
    "<br />\n",
    "\n",
    "**Можно отметить**, что у компании 48% пользователей, посетивших главный экран приложения, совершают покупки. В свою очередь 95% покупателей, добавивших товар в корзину переходят к его оплате.Самый большой процент пользователей \"теряется\" на этапе перехода от события MainScreenAppear до OffersScreenAppear.\n",
    "<br />\n",
    "\n",
    "\n",
    "**После всех проведенных тестов на статистическую значимость** можно сделать общий вывод о том, что никакой статистической разницы между контрольными группами и группой с измененным шрифтом нет. А значит, изменение шрифтов в приложении по всей видимости, не повлияет на пользователей.\n",
    "<br />"
   ]
  }
 ],
 "metadata": {
  "ExecuteTimeLog": [
   {
    "duration": 51,
    "start_time": "2024-02-28T09:52:23.385Z"
   },
   {
    "duration": 1287,
    "start_time": "2024-02-28T09:52:30.753Z"
   },
   {
    "duration": 624,
    "start_time": "2024-02-28T09:52:35.787Z"
   },
   {
    "duration": 24,
    "start_time": "2024-02-28T09:53:01.010Z"
   },
   {
    "duration": 193,
    "start_time": "2024-02-28T09:54:33.973Z"
   },
   {
    "duration": 23,
    "start_time": "2024-02-28T09:54:36.387Z"
   },
   {
    "duration": 3,
    "start_time": "2024-02-28T10:11:33.042Z"
   },
   {
    "duration": 11,
    "start_time": "2024-02-28T10:12:05.138Z"
   },
   {
    "duration": 3,
    "start_time": "2024-02-28T10:15:33.901Z"
   },
   {
    "duration": 7,
    "start_time": "2024-02-28T10:15:36.737Z"
   },
   {
    "duration": 59,
    "start_time": "2024-02-28T10:30:38.983Z"
   },
   {
    "duration": 61,
    "start_time": "2024-02-28T10:32:40.709Z"
   },
   {
    "duration": 684,
    "start_time": "2024-02-28T10:57:58.254Z"
   },
   {
    "duration": 8,
    "start_time": "2024-02-28T12:21:51.369Z"
   },
   {
    "duration": 86,
    "start_time": "2024-02-28T12:42:17.803Z"
   },
   {
    "duration": 68,
    "start_time": "2024-02-28T13:55:58.115Z"
   },
   {
    "duration": 27,
    "start_time": "2024-02-28T13:57:41.288Z"
   },
   {
    "duration": 1343,
    "start_time": "2024-02-28T13:59:30.446Z"
   },
   {
    "duration": 37,
    "start_time": "2024-02-28T14:00:00.068Z"
   },
   {
    "duration": 43,
    "start_time": "2024-02-28T18:30:13.801Z"
   },
   {
    "duration": 1105,
    "start_time": "2024-02-28T18:30:21.921Z"
   },
   {
    "duration": 457,
    "start_time": "2024-02-28T18:30:23.028Z"
   },
   {
    "duration": 18,
    "start_time": "2024-02-28T18:30:23.486Z"
   },
   {
    "duration": 2,
    "start_time": "2024-02-28T18:30:23.506Z"
   },
   {
    "duration": 16,
    "start_time": "2024-02-28T18:30:23.510Z"
   },
   {
    "duration": 61,
    "start_time": "2024-02-28T18:30:23.527Z"
   },
   {
    "duration": 65,
    "start_time": "2024-02-28T18:30:23.590Z"
   },
   {
    "duration": 66,
    "start_time": "2024-02-28T18:30:23.656Z"
   },
   {
    "duration": 71,
    "start_time": "2024-02-28T18:30:23.723Z"
   },
   {
    "duration": 106,
    "start_time": "2024-02-28T18:32:25.004Z"
   },
   {
    "duration": 26,
    "start_time": "2024-02-28T18:33:14.020Z"
   },
   {
    "duration": 9,
    "start_time": "2024-02-28T19:44:33.360Z"
   },
   {
    "duration": 10,
    "start_time": "2024-02-28T19:44:46.276Z"
   },
   {
    "duration": 8,
    "start_time": "2024-02-28T19:54:44.617Z"
   },
   {
    "duration": 4,
    "start_time": "2024-02-28T19:59:58.102Z"
   },
   {
    "duration": 5,
    "start_time": "2024-02-28T20:00:12.845Z"
   },
   {
    "duration": 4,
    "start_time": "2024-02-28T20:16:16.861Z"
   },
   {
    "duration": 4,
    "start_time": "2024-02-28T20:16:34.564Z"
   },
   {
    "duration": 4,
    "start_time": "2024-02-28T20:16:41.747Z"
   },
   {
    "duration": 4,
    "start_time": "2024-02-28T20:16:51.379Z"
   },
   {
    "duration": 4,
    "start_time": "2024-02-28T20:16:59.396Z"
   },
   {
    "duration": 12,
    "start_time": "2024-02-29T07:59:58.049Z"
   },
   {
    "duration": 12,
    "start_time": "2024-02-29T08:34:13.765Z"
   },
   {
    "duration": 313,
    "start_time": "2024-02-29T09:18:36.889Z"
   },
   {
    "duration": 254,
    "start_time": "2024-02-29T09:19:49.192Z"
   },
   {
    "duration": 224,
    "start_time": "2024-02-29T09:20:22.250Z"
   },
   {
    "duration": 164,
    "start_time": "2024-02-29T09:24:25.567Z"
   },
   {
    "duration": 225,
    "start_time": "2024-02-29T09:27:32.317Z"
   },
   {
    "duration": 290,
    "start_time": "2024-02-29T09:28:17.952Z"
   },
   {
    "duration": 219,
    "start_time": "2024-02-29T09:28:50.567Z"
   },
   {
    "duration": 966,
    "start_time": "2024-02-29T09:37:01.965Z"
   },
   {
    "duration": 137,
    "start_time": "2024-02-29T09:37:02.932Z"
   },
   {
    "duration": 18,
    "start_time": "2024-02-29T09:37:03.070Z"
   },
   {
    "duration": 71,
    "start_time": "2024-02-29T09:37:03.089Z"
   },
   {
    "duration": 39,
    "start_time": "2024-02-29T09:37:03.161Z"
   },
   {
    "duration": 88,
    "start_time": "2024-02-29T09:37:03.202Z"
   },
   {
    "duration": 65,
    "start_time": "2024-02-29T09:37:03.291Z"
   },
   {
    "duration": 63,
    "start_time": "2024-02-29T09:37:03.358Z"
   },
   {
    "duration": 25,
    "start_time": "2024-02-29T09:37:03.422Z"
   },
   {
    "duration": 10,
    "start_time": "2024-02-29T09:37:03.449Z"
   },
   {
    "duration": 16,
    "start_time": "2024-02-29T09:37:03.461Z"
   },
   {
    "duration": 3,
    "start_time": "2024-02-29T09:37:03.479Z"
   },
   {
    "duration": 25,
    "start_time": "2024-02-29T09:37:03.483Z"
   },
   {
    "duration": 16,
    "start_time": "2024-02-29T09:37:03.509Z"
   },
   {
    "duration": 0,
    "start_time": "2024-02-29T09:48:06.449Z"
   },
   {
    "duration": 8,
    "start_time": "2024-02-29T09:48:20.962Z"
   },
   {
    "duration": 1367,
    "start_time": "2024-02-29T09:48:36.282Z"
   },
   {
    "duration": 14,
    "start_time": "2024-02-29T09:48:47.489Z"
   },
   {
    "duration": 455,
    "start_time": "2024-02-29T09:52:09.768Z"
   },
   {
    "duration": 461,
    "start_time": "2024-02-29T09:53:07.102Z"
   },
   {
    "duration": 649,
    "start_time": "2024-02-29T09:54:01.667Z"
   },
   {
    "duration": 447,
    "start_time": "2024-02-29T09:54:36.250Z"
   },
   {
    "duration": 111,
    "start_time": "2024-02-29T11:30:52.115Z"
   },
   {
    "duration": 67,
    "start_time": "2024-02-29T11:31:19.479Z"
   },
   {
    "duration": 933,
    "start_time": "2024-02-29T11:31:36.855Z"
   },
   {
    "duration": 138,
    "start_time": "2024-02-29T11:31:37.790Z"
   },
   {
    "duration": 17,
    "start_time": "2024-02-29T11:31:37.932Z"
   },
   {
    "duration": 2,
    "start_time": "2024-02-29T11:31:37.950Z"
   },
   {
    "duration": 10,
    "start_time": "2024-02-29T11:31:37.953Z"
   },
   {
    "duration": 72,
    "start_time": "2024-02-29T11:31:37.964Z"
   },
   {
    "duration": 71,
    "start_time": "2024-02-29T11:31:38.037Z"
   },
   {
    "duration": 60,
    "start_time": "2024-02-29T11:31:38.110Z"
   },
   {
    "duration": 37,
    "start_time": "2024-02-29T11:31:38.172Z"
   },
   {
    "duration": 9,
    "start_time": "2024-02-29T11:31:38.210Z"
   },
   {
    "duration": 11,
    "start_time": "2024-02-29T11:31:38.220Z"
   },
   {
    "duration": 12,
    "start_time": "2024-02-29T11:31:38.233Z"
   },
   {
    "duration": 17,
    "start_time": "2024-02-29T11:31:38.246Z"
   },
   {
    "duration": 35,
    "start_time": "2024-02-29T11:31:38.264Z"
   },
   {
    "duration": 503,
    "start_time": "2024-02-29T11:31:38.300Z"
   },
   {
    "duration": 149,
    "start_time": "2024-02-29T11:31:38.805Z"
   },
   {
    "duration": 65,
    "start_time": "2024-02-29T11:32:25.864Z"
   },
   {
    "duration": 314,
    "start_time": "2024-02-29T11:59:29.711Z"
   },
   {
    "duration": 38,
    "start_time": "2024-02-29T11:59:54.686Z"
   },
   {
    "duration": 66,
    "start_time": "2024-02-29T12:05:02.814Z"
   },
   {
    "duration": 71,
    "start_time": "2024-02-29T12:05:18.665Z"
   },
   {
    "duration": 74,
    "start_time": "2024-02-29T12:08:14.283Z"
   },
   {
    "duration": 589,
    "start_time": "2024-02-29T13:27:03.630Z"
   },
   {
    "duration": 72,
    "start_time": "2024-02-29T13:28:05.174Z"
   },
   {
    "duration": 73,
    "start_time": "2024-02-29T13:28:20.405Z"
   },
   {
    "duration": 65,
    "start_time": "2024-02-29T13:40:51.755Z"
   },
   {
    "duration": 53,
    "start_time": "2024-02-29T13:41:05.418Z"
   },
   {
    "duration": 22,
    "start_time": "2024-02-29T13:41:27.080Z"
   },
   {
    "duration": 51,
    "start_time": "2024-02-29T13:41:42.840Z"
   },
   {
    "duration": 23,
    "start_time": "2024-02-29T13:41:52.485Z"
   },
   {
    "duration": 22,
    "start_time": "2024-02-29T13:44:34.346Z"
   },
   {
    "duration": 7,
    "start_time": "2024-02-29T13:48:37.713Z"
   },
   {
    "duration": 7,
    "start_time": "2024-02-29T13:55:14.353Z"
   },
   {
    "duration": 25,
    "start_time": "2024-02-29T13:57:46.796Z"
   },
   {
    "duration": 84,
    "start_time": "2024-02-29T14:01:08.895Z"
   },
   {
    "duration": 21,
    "start_time": "2024-02-29T14:01:29.819Z"
   },
   {
    "duration": 20,
    "start_time": "2024-02-29T14:02:22.760Z"
   },
   {
    "duration": 22,
    "start_time": "2024-02-29T14:05:52.663Z"
   },
   {
    "duration": 28,
    "start_time": "2024-02-29T14:06:03.431Z"
   },
   {
    "duration": 23,
    "start_time": "2024-02-29T14:50:55.191Z"
   },
   {
    "duration": 20,
    "start_time": "2024-02-29T14:51:49.859Z"
   },
   {
    "duration": 28,
    "start_time": "2024-02-29T14:54:50.259Z"
   },
   {
    "duration": 21,
    "start_time": "2024-02-29T14:55:47.500Z"
   },
   {
    "duration": 51,
    "start_time": "2024-02-29T14:56:11.624Z"
   },
   {
    "duration": 19,
    "start_time": "2024-02-29T14:59:17.862Z"
   },
   {
    "duration": 88,
    "start_time": "2024-02-29T14:59:34.059Z"
   },
   {
    "duration": 35,
    "start_time": "2024-02-29T14:59:59.908Z"
   },
   {
    "duration": 92,
    "start_time": "2024-02-29T15:01:32.908Z"
   },
   {
    "duration": 23,
    "start_time": "2024-02-29T15:01:49.858Z"
   },
   {
    "duration": 35,
    "start_time": "2024-02-29T15:03:58.662Z"
   },
   {
    "duration": 24,
    "start_time": "2024-02-29T15:04:14.826Z"
   },
   {
    "duration": 1081,
    "start_time": "2024-02-29T15:04:25.331Z"
   },
   {
    "duration": 158,
    "start_time": "2024-02-29T15:04:26.414Z"
   },
   {
    "duration": 30,
    "start_time": "2024-02-29T15:04:26.573Z"
   },
   {
    "duration": 3,
    "start_time": "2024-02-29T15:04:26.605Z"
   },
   {
    "duration": 10,
    "start_time": "2024-02-29T15:04:26.610Z"
   },
   {
    "duration": 80,
    "start_time": "2024-02-29T15:04:26.622Z"
   },
   {
    "duration": 79,
    "start_time": "2024-02-29T15:04:26.704Z"
   },
   {
    "duration": 77,
    "start_time": "2024-02-29T15:04:26.784Z"
   },
   {
    "duration": 25,
    "start_time": "2024-02-29T15:04:26.863Z"
   },
   {
    "duration": 20,
    "start_time": "2024-02-29T15:04:26.889Z"
   },
   {
    "duration": 14,
    "start_time": "2024-02-29T15:04:26.910Z"
   },
   {
    "duration": 8,
    "start_time": "2024-02-29T15:04:26.925Z"
   },
   {
    "duration": 38,
    "start_time": "2024-02-29T15:04:26.934Z"
   },
   {
    "duration": 23,
    "start_time": "2024-02-29T15:04:26.975Z"
   },
   {
    "duration": 527,
    "start_time": "2024-02-29T15:04:27.000Z"
   },
   {
    "duration": 115,
    "start_time": "2024-02-29T15:04:27.528Z"
   },
   {
    "duration": 0,
    "start_time": "2024-02-29T15:04:27.645Z"
   },
   {
    "duration": 31,
    "start_time": "2024-02-29T15:04:45.261Z"
   },
   {
    "duration": 18,
    "start_time": "2024-02-29T15:05:16.610Z"
   },
   {
    "duration": 18,
    "start_time": "2024-02-29T15:05:32.959Z"
   },
   {
    "duration": 21,
    "start_time": "2024-02-29T15:07:15.640Z"
   },
   {
    "duration": 7,
    "start_time": "2024-02-29T15:19:40.702Z"
   },
   {
    "duration": 40,
    "start_time": "2024-02-29T15:20:06.645Z"
   },
   {
    "duration": 40,
    "start_time": "2024-02-29T15:20:57.560Z"
   },
   {
    "duration": 41,
    "start_time": "2024-02-29T15:27:10.565Z"
   },
   {
    "duration": 41,
    "start_time": "2024-02-29T15:27:44.195Z"
   },
   {
    "duration": 37,
    "start_time": "2024-02-29T15:28:20.980Z"
   },
   {
    "duration": 38,
    "start_time": "2024-02-29T15:29:57.615Z"
   },
   {
    "duration": 290,
    "start_time": "2024-02-29T15:47:55.686Z"
   },
   {
    "duration": 28,
    "start_time": "2024-02-29T15:48:27.064Z"
   },
   {
    "duration": 782,
    "start_time": "2024-02-29T15:49:08.735Z"
   },
   {
    "duration": 25,
    "start_time": "2024-02-29T15:50:05.570Z"
   },
   {
    "duration": 27,
    "start_time": "2024-02-29T15:54:31.611Z"
   },
   {
    "duration": 27,
    "start_time": "2024-02-29T15:56:33.936Z"
   },
   {
    "duration": 36,
    "start_time": "2024-02-29T16:02:41.324Z"
   },
   {
    "duration": 28,
    "start_time": "2024-02-29T16:02:45.321Z"
   },
   {
    "duration": 36,
    "start_time": "2024-02-29T16:03:17.505Z"
   },
   {
    "duration": 10,
    "start_time": "2024-02-29T16:26:24.475Z"
   },
   {
    "duration": 16,
    "start_time": "2024-02-29T16:26:43.039Z"
   },
   {
    "duration": 434,
    "start_time": "2024-02-29T16:29:26.813Z"
   },
   {
    "duration": 1288,
    "start_time": "2024-02-29T16:31:45.726Z"
   },
   {
    "duration": 164,
    "start_time": "2024-02-29T16:42:27.966Z"
   },
   {
    "duration": 164,
    "start_time": "2024-02-29T16:46:34.334Z"
   },
   {
    "duration": 241,
    "start_time": "2024-02-29T16:54:26.431Z"
   },
   {
    "duration": 0,
    "start_time": "2024-02-29T16:56:27.274Z"
   },
   {
    "duration": 1025,
    "start_time": "2024-02-29T16:56:36.397Z"
   },
   {
    "duration": 136,
    "start_time": "2024-02-29T16:56:37.424Z"
   },
   {
    "duration": 17,
    "start_time": "2024-02-29T16:56:37.561Z"
   },
   {
    "duration": 3,
    "start_time": "2024-02-29T16:56:37.579Z"
   },
   {
    "duration": 22,
    "start_time": "2024-02-29T16:56:37.583Z"
   },
   {
    "duration": 59,
    "start_time": "2024-02-29T16:56:37.606Z"
   },
   {
    "duration": 70,
    "start_time": "2024-02-29T16:56:37.667Z"
   },
   {
    "duration": 64,
    "start_time": "2024-02-29T16:56:37.738Z"
   },
   {
    "duration": 27,
    "start_time": "2024-02-29T16:56:37.803Z"
   },
   {
    "duration": 10,
    "start_time": "2024-02-29T16:56:37.832Z"
   },
   {
    "duration": 18,
    "start_time": "2024-02-29T16:56:37.844Z"
   },
   {
    "duration": 15,
    "start_time": "2024-02-29T16:56:37.864Z"
   },
   {
    "duration": 14,
    "start_time": "2024-02-29T16:56:37.881Z"
   },
   {
    "duration": 16,
    "start_time": "2024-02-29T16:56:37.897Z"
   },
   {
    "duration": 508,
    "start_time": "2024-02-29T16:56:37.915Z"
   },
   {
    "duration": 43,
    "start_time": "2024-02-29T16:56:38.425Z"
   },
   {
    "duration": 33,
    "start_time": "2024-02-29T16:56:38.469Z"
   },
   {
    "duration": 10,
    "start_time": "2024-02-29T16:56:38.503Z"
   },
   {
    "duration": 177,
    "start_time": "2024-02-29T16:56:38.514Z"
   },
   {
    "duration": 252,
    "start_time": "2024-02-29T16:56:38.693Z"
   },
   {
    "duration": 252,
    "start_time": "2024-02-29T16:58:42.432Z"
   },
   {
    "duration": 73,
    "start_time": "2024-02-29T19:02:04.825Z"
   },
   {
    "duration": 997,
    "start_time": "2024-02-29T19:02:55.004Z"
   },
   {
    "duration": 147,
    "start_time": "2024-02-29T19:02:56.003Z"
   },
   {
    "duration": 17,
    "start_time": "2024-02-29T19:02:56.151Z"
   },
   {
    "duration": 18,
    "start_time": "2024-02-29T19:02:56.169Z"
   },
   {
    "duration": 29,
    "start_time": "2024-02-29T19:02:56.189Z"
   },
   {
    "duration": 60,
    "start_time": "2024-02-29T19:02:56.219Z"
   },
   {
    "duration": 67,
    "start_time": "2024-02-29T19:02:56.280Z"
   },
   {
    "duration": 81,
    "start_time": "2024-02-29T19:02:56.348Z"
   },
   {
    "duration": 25,
    "start_time": "2024-02-29T19:02:56.430Z"
   },
   {
    "duration": 30,
    "start_time": "2024-02-29T19:02:56.456Z"
   },
   {
    "duration": 31,
    "start_time": "2024-02-29T19:02:56.487Z"
   },
   {
    "duration": 13,
    "start_time": "2024-02-29T19:02:56.519Z"
   },
   {
    "duration": 38,
    "start_time": "2024-02-29T19:02:56.534Z"
   },
   {
    "duration": 20,
    "start_time": "2024-02-29T19:02:56.574Z"
   },
   {
    "duration": 516,
    "start_time": "2024-02-29T19:02:56.595Z"
   },
   {
    "duration": 43,
    "start_time": "2024-02-29T19:02:57.112Z"
   },
   {
    "duration": 18,
    "start_time": "2024-02-29T19:02:57.157Z"
   },
   {
    "duration": 31,
    "start_time": "2024-02-29T19:02:57.176Z"
   },
   {
    "duration": 267,
    "start_time": "2024-02-29T19:02:57.209Z"
   },
   {
    "duration": 34,
    "start_time": "2024-02-29T19:02:57.478Z"
   },
   {
    "duration": 1027,
    "start_time": "2024-02-29T19:03:40.869Z"
   },
   {
    "duration": 135,
    "start_time": "2024-02-29T19:03:41.897Z"
   },
   {
    "duration": 18,
    "start_time": "2024-02-29T19:03:42.033Z"
   },
   {
    "duration": 2,
    "start_time": "2024-02-29T19:03:42.053Z"
   },
   {
    "duration": 11,
    "start_time": "2024-02-29T19:03:42.056Z"
   },
   {
    "duration": 71,
    "start_time": "2024-02-29T19:03:42.068Z"
   },
   {
    "duration": 67,
    "start_time": "2024-02-29T19:03:42.140Z"
   },
   {
    "duration": 62,
    "start_time": "2024-02-29T19:03:42.209Z"
   },
   {
    "duration": 42,
    "start_time": "2024-02-29T19:03:42.272Z"
   },
   {
    "duration": 11,
    "start_time": "2024-02-29T19:03:42.316Z"
   },
   {
    "duration": 27,
    "start_time": "2024-02-29T19:03:42.328Z"
   },
   {
    "duration": 8,
    "start_time": "2024-02-29T19:03:42.357Z"
   },
   {
    "duration": 20,
    "start_time": "2024-02-29T19:03:42.366Z"
   },
   {
    "duration": 26,
    "start_time": "2024-02-29T19:03:42.387Z"
   },
   {
    "duration": 505,
    "start_time": "2024-02-29T19:03:42.414Z"
   },
   {
    "duration": 42,
    "start_time": "2024-02-29T19:03:42.921Z"
   },
   {
    "duration": 19,
    "start_time": "2024-02-29T19:03:42.964Z"
   },
   {
    "duration": 27,
    "start_time": "2024-02-29T19:03:42.984Z"
   },
   {
    "duration": 285,
    "start_time": "2024-02-29T19:03:43.013Z"
   },
   {
    "duration": 33,
    "start_time": "2024-02-29T19:03:43.301Z"
   },
   {
    "duration": 42,
    "start_time": "2024-02-29T19:08:20.133Z"
   },
   {
    "duration": 5,
    "start_time": "2024-02-29T19:08:44.632Z"
   },
   {
    "duration": 5,
    "start_time": "2024-02-29T19:09:21.459Z"
   },
   {
    "duration": 6,
    "start_time": "2024-02-29T19:09:22.532Z"
   },
   {
    "duration": 975,
    "start_time": "2024-02-29T19:09:33.829Z"
   },
   {
    "duration": 465,
    "start_time": "2024-02-29T19:09:34.806Z"
   },
   {
    "duration": 18,
    "start_time": "2024-02-29T19:09:35.272Z"
   },
   {
    "duration": 10,
    "start_time": "2024-02-29T19:09:35.293Z"
   },
   {
    "duration": 15,
    "start_time": "2024-02-29T19:09:35.304Z"
   },
   {
    "duration": 59,
    "start_time": "2024-02-29T19:09:35.320Z"
   },
   {
    "duration": 65,
    "start_time": "2024-02-29T19:09:35.380Z"
   },
   {
    "duration": 66,
    "start_time": "2024-02-29T19:09:35.446Z"
   },
   {
    "duration": 25,
    "start_time": "2024-02-29T19:09:35.514Z"
   },
   {
    "duration": 9,
    "start_time": "2024-02-29T19:09:35.542Z"
   },
   {
    "duration": 14,
    "start_time": "2024-02-29T19:09:35.552Z"
   },
   {
    "duration": 8,
    "start_time": "2024-02-29T19:09:35.567Z"
   },
   {
    "duration": 57,
    "start_time": "2024-02-29T19:09:35.576Z"
   },
   {
    "duration": 42,
    "start_time": "2024-02-29T19:09:35.635Z"
   },
   {
    "duration": 494,
    "start_time": "2024-02-29T19:09:35.678Z"
   },
   {
    "duration": 42,
    "start_time": "2024-02-29T19:09:36.174Z"
   },
   {
    "duration": 15,
    "start_time": "2024-02-29T19:09:36.218Z"
   },
   {
    "duration": 11,
    "start_time": "2024-02-29T19:09:36.235Z"
   },
   {
    "duration": 280,
    "start_time": "2024-02-29T19:09:36.247Z"
   },
   {
    "duration": 75,
    "start_time": "2024-02-29T19:09:36.529Z"
   },
   {
    "duration": 43,
    "start_time": "2024-02-29T19:12:18.400Z"
   },
   {
    "duration": 1037,
    "start_time": "2024-02-29T19:12:24.268Z"
   },
   {
    "duration": 460,
    "start_time": "2024-02-29T19:12:25.307Z"
   },
   {
    "duration": 17,
    "start_time": "2024-02-29T19:12:25.769Z"
   },
   {
    "duration": 11,
    "start_time": "2024-02-29T19:12:25.787Z"
   },
   {
    "duration": 13,
    "start_time": "2024-02-29T19:12:25.799Z"
   },
   {
    "duration": 67,
    "start_time": "2024-02-29T19:12:25.813Z"
   },
   {
    "duration": 64,
    "start_time": "2024-02-29T19:12:25.881Z"
   },
   {
    "duration": 65,
    "start_time": "2024-02-29T19:12:25.947Z"
   },
   {
    "duration": 24,
    "start_time": "2024-02-29T19:12:26.013Z"
   },
   {
    "duration": 10,
    "start_time": "2024-02-29T19:12:26.038Z"
   },
   {
    "duration": 21,
    "start_time": "2024-02-29T19:12:26.049Z"
   },
   {
    "duration": 25,
    "start_time": "2024-02-29T19:12:26.071Z"
   },
   {
    "duration": 13,
    "start_time": "2024-02-29T19:12:26.097Z"
   },
   {
    "duration": 16,
    "start_time": "2024-02-29T19:12:26.111Z"
   },
   {
    "duration": 500,
    "start_time": "2024-02-29T19:12:26.128Z"
   },
   {
    "duration": 40,
    "start_time": "2024-02-29T19:12:26.629Z"
   },
   {
    "duration": 40,
    "start_time": "2024-02-29T19:12:26.670Z"
   },
   {
    "duration": 30,
    "start_time": "2024-02-29T19:12:26.711Z"
   },
   {
    "duration": 269,
    "start_time": "2024-02-29T19:12:26.742Z"
   },
   {
    "duration": 113,
    "start_time": "2024-02-29T19:12:27.013Z"
   },
   {
    "duration": 0,
    "start_time": "2024-02-29T19:12:27.128Z"
   },
   {
    "duration": 24,
    "start_time": "2024-02-29T19:13:02.214Z"
   },
   {
    "duration": 24,
    "start_time": "2024-02-29T19:13:47.443Z"
   },
   {
    "duration": 23,
    "start_time": "2024-02-29T19:14:07.558Z"
   },
   {
    "duration": 168,
    "start_time": "2024-02-29T19:14:44.634Z"
   },
   {
    "duration": 78,
    "start_time": "2024-02-29T19:17:07.852Z"
   },
   {
    "duration": 25,
    "start_time": "2024-02-29T19:20:15.111Z"
   },
   {
    "duration": 74,
    "start_time": "2024-02-29T19:20:39.395Z"
   },
   {
    "duration": 167,
    "start_time": "2024-02-29T19:22:09.660Z"
   },
   {
    "duration": 71,
    "start_time": "2024-02-29T19:34:45.808Z"
   },
   {
    "duration": 76,
    "start_time": "2024-02-29T19:35:09.130Z"
   },
   {
    "duration": 68,
    "start_time": "2024-02-29T19:35:27.786Z"
   },
   {
    "duration": 67,
    "start_time": "2024-02-29T19:35:50.966Z"
   },
   {
    "duration": 83,
    "start_time": "2024-02-29T19:36:15.860Z"
   },
   {
    "duration": 74,
    "start_time": "2024-02-29T19:36:44.350Z"
   },
   {
    "duration": 125,
    "start_time": "2024-02-29T19:40:32.586Z"
   },
   {
    "duration": 175,
    "start_time": "2024-02-29T19:40:42.988Z"
   },
   {
    "duration": 7,
    "start_time": "2024-02-29T19:42:32.039Z"
   },
   {
    "duration": 7,
    "start_time": "2024-02-29T19:43:08.762Z"
   },
   {
    "duration": 26,
    "start_time": "2024-02-29T19:44:06.809Z"
   },
   {
    "duration": 159,
    "start_time": "2024-02-29T19:44:16.857Z"
   },
   {
    "duration": 459,
    "start_time": "2024-02-29T19:45:19.932Z"
   },
   {
    "duration": 519,
    "start_time": "2024-02-29T19:45:38.742Z"
   },
   {
    "duration": 159,
    "start_time": "2024-02-29T19:45:51.858Z"
   },
   {
    "duration": 162,
    "start_time": "2024-02-29T19:47:01.510Z"
   },
   {
    "duration": 50,
    "start_time": "2024-02-29T19:55:58.333Z"
   },
   {
    "duration": 50,
    "start_time": "2024-02-29T19:56:19.163Z"
   },
   {
    "duration": 44,
    "start_time": "2024-02-29T19:56:37.648Z"
   },
   {
    "duration": 53,
    "start_time": "2024-02-29T20:03:47.136Z"
   },
   {
    "duration": 1174,
    "start_time": "2024-02-29T20:05:03.273Z"
   },
   {
    "duration": 49,
    "start_time": "2024-02-29T20:07:59.472Z"
   },
   {
    "duration": 47,
    "start_time": "2024-02-29T20:08:31.068Z"
   },
   {
    "duration": 45,
    "start_time": "2024-02-29T20:09:02.687Z"
   },
   {
    "duration": 48,
    "start_time": "2024-02-29T20:09:36.785Z"
   },
   {
    "duration": 47,
    "start_time": "2024-02-29T20:10:14.644Z"
   },
   {
    "duration": 51,
    "start_time": "2024-02-29T20:10:44.822Z"
   },
   {
    "duration": 46,
    "start_time": "2024-02-29T20:11:22.106Z"
   },
   {
    "duration": 8,
    "start_time": "2024-02-29T20:12:58.187Z"
   },
   {
    "duration": 49,
    "start_time": "2024-02-29T20:14:42.362Z"
   },
   {
    "duration": 120,
    "start_time": "2024-02-29T20:26:51.497Z"
   },
   {
    "duration": 178,
    "start_time": "2024-02-29T20:27:07.612Z"
   },
   {
    "duration": 165,
    "start_time": "2024-02-29T20:30:54.463Z"
   },
   {
    "duration": 56,
    "start_time": "2024-03-01T10:22:03.971Z"
   },
   {
    "duration": 1357,
    "start_time": "2024-03-01T10:22:12.745Z"
   },
   {
    "duration": 746,
    "start_time": "2024-03-01T10:22:14.104Z"
   },
   {
    "duration": 24,
    "start_time": "2024-03-01T10:22:14.852Z"
   },
   {
    "duration": 3,
    "start_time": "2024-03-01T10:22:14.878Z"
   },
   {
    "duration": 14,
    "start_time": "2024-03-01T10:22:14.884Z"
   },
   {
    "duration": 85,
    "start_time": "2024-03-01T10:22:14.899Z"
   },
   {
    "duration": 82,
    "start_time": "2024-03-01T10:22:14.985Z"
   },
   {
    "duration": 103,
    "start_time": "2024-03-01T10:22:15.069Z"
   },
   {
    "duration": 53,
    "start_time": "2024-03-01T10:22:15.174Z"
   },
   {
    "duration": 264,
    "start_time": "2024-03-01T10:22:15.229Z"
   },
   {
    "duration": 49,
    "start_time": "2024-03-01T10:22:15.495Z"
   },
   {
    "duration": 101,
    "start_time": "2024-03-01T10:22:15.546Z"
   },
   {
    "duration": 69,
    "start_time": "2024-03-01T10:22:15.649Z"
   },
   {
    "duration": 24,
    "start_time": "2024-03-01T10:22:15.720Z"
   },
   {
    "duration": 714,
    "start_time": "2024-03-01T10:22:15.746Z"
   },
   {
    "duration": 61,
    "start_time": "2024-03-01T10:22:16.461Z"
   },
   {
    "duration": 36,
    "start_time": "2024-03-01T10:22:16.523Z"
   },
   {
    "duration": 31,
    "start_time": "2024-03-01T10:22:16.561Z"
   },
   {
    "duration": 347,
    "start_time": "2024-03-01T10:22:16.594Z"
   },
   {
    "duration": 53,
    "start_time": "2024-03-01T10:22:16.943Z"
   },
   {
    "duration": 218,
    "start_time": "2024-03-01T10:22:16.997Z"
   },
   {
    "duration": 63,
    "start_time": "2024-03-01T10:22:17.217Z"
   },
   {
    "duration": 228,
    "start_time": "2024-03-01T10:22:17.281Z"
   },
   {
    "duration": 3,
    "start_time": "2024-03-01T10:22:17.510Z"
   },
   {
    "duration": 68,
    "start_time": "2024-03-01T10:30:51.587Z"
   },
   {
    "duration": 104,
    "start_time": "2024-03-01T11:27:40.761Z"
   },
   {
    "duration": 135,
    "start_time": "2024-03-01T11:27:55.967Z"
   },
   {
    "duration": 15,
    "start_time": "2024-03-01T11:29:22.058Z"
   },
   {
    "duration": 74,
    "start_time": "2024-03-01T11:30:42.147Z"
   },
   {
    "duration": 32,
    "start_time": "2024-03-01T11:30:51.285Z"
   },
   {
    "duration": 15,
    "start_time": "2024-03-01T11:32:31.635Z"
   },
   {
    "duration": 1208,
    "start_time": "2024-03-01T11:32:44.324Z"
   },
   {
    "duration": 204,
    "start_time": "2024-03-01T11:32:45.534Z"
   },
   {
    "duration": 26,
    "start_time": "2024-03-01T11:32:45.739Z"
   },
   {
    "duration": 3,
    "start_time": "2024-03-01T11:32:45.767Z"
   },
   {
    "duration": 35,
    "start_time": "2024-03-01T11:32:45.772Z"
   },
   {
    "duration": 78,
    "start_time": "2024-03-01T11:32:45.809Z"
   },
   {
    "duration": 86,
    "start_time": "2024-03-01T11:32:45.894Z"
   },
   {
    "duration": 120,
    "start_time": "2024-03-01T11:32:45.982Z"
   },
   {
    "duration": 41,
    "start_time": "2024-03-01T11:32:46.108Z"
   },
   {
    "duration": 17,
    "start_time": "2024-03-01T11:32:46.151Z"
   },
   {
    "duration": 25,
    "start_time": "2024-03-01T11:32:46.170Z"
   },
   {
    "duration": 15,
    "start_time": "2024-03-01T11:32:46.197Z"
   },
   {
    "duration": 37,
    "start_time": "2024-03-01T11:32:46.214Z"
   },
   {
    "duration": 25,
    "start_time": "2024-03-01T11:32:46.254Z"
   },
   {
    "duration": 766,
    "start_time": "2024-03-01T11:32:46.280Z"
   },
   {
    "duration": 64,
    "start_time": "2024-03-01T11:32:47.047Z"
   },
   {
    "duration": 28,
    "start_time": "2024-03-01T11:32:47.112Z"
   },
   {
    "duration": 13,
    "start_time": "2024-03-01T11:32:47.141Z"
   },
   {
    "duration": 379,
    "start_time": "2024-03-01T11:32:47.156Z"
   },
   {
    "duration": 62,
    "start_time": "2024-03-01T11:32:47.536Z"
   },
   {
    "duration": 243,
    "start_time": "2024-03-01T11:32:47.600Z"
   },
   {
    "duration": 78,
    "start_time": "2024-03-01T11:32:47.845Z"
   },
   {
    "duration": 212,
    "start_time": "2024-03-01T11:32:47.925Z"
   },
   {
    "duration": 16,
    "start_time": "2024-03-01T11:32:48.139Z"
   },
   {
    "duration": 132,
    "start_time": "2024-03-01T11:33:34.552Z"
   },
   {
    "duration": 1211,
    "start_time": "2024-03-01T11:33:42.068Z"
   },
   {
    "duration": 194,
    "start_time": "2024-03-01T11:33:43.280Z"
   },
   {
    "duration": 33,
    "start_time": "2024-03-01T11:33:43.476Z"
   },
   {
    "duration": 6,
    "start_time": "2024-03-01T11:33:43.511Z"
   },
   {
    "duration": 27,
    "start_time": "2024-03-01T11:33:43.518Z"
   },
   {
    "duration": 77,
    "start_time": "2024-03-01T11:33:43.547Z"
   },
   {
    "duration": 87,
    "start_time": "2024-03-01T11:33:43.626Z"
   },
   {
    "duration": 115,
    "start_time": "2024-03-01T11:33:43.716Z"
   },
   {
    "duration": 31,
    "start_time": "2024-03-01T11:33:43.833Z"
   },
   {
    "duration": 33,
    "start_time": "2024-03-01T11:33:43.865Z"
   },
   {
    "duration": 13,
    "start_time": "2024-03-01T11:33:43.903Z"
   },
   {
    "duration": 4,
    "start_time": "2024-03-01T11:33:43.917Z"
   },
   {
    "duration": 22,
    "start_time": "2024-03-01T11:33:43.923Z"
   },
   {
    "duration": 27,
    "start_time": "2024-03-01T11:33:43.946Z"
   },
   {
    "duration": 710,
    "start_time": "2024-03-01T11:33:43.975Z"
   },
   {
    "duration": 74,
    "start_time": "2024-03-01T11:33:44.691Z"
   },
   {
    "duration": 42,
    "start_time": "2024-03-01T11:33:44.767Z"
   },
   {
    "duration": 12,
    "start_time": "2024-03-01T11:33:44.812Z"
   },
   {
    "duration": 402,
    "start_time": "2024-03-01T11:33:44.826Z"
   },
   {
    "duration": 43,
    "start_time": "2024-03-01T11:33:45.230Z"
   },
   {
    "duration": 404,
    "start_time": "2024-03-01T11:33:45.275Z"
   },
   {
    "duration": 73,
    "start_time": "2024-03-01T11:33:45.681Z"
   },
   {
    "duration": 270,
    "start_time": "2024-03-01T11:33:45.757Z"
   },
   {
    "duration": 17,
    "start_time": "2024-03-01T11:33:46.029Z"
   },
   {
    "duration": 126,
    "start_time": "2024-03-01T11:34:55.036Z"
   },
   {
    "duration": 1122,
    "start_time": "2024-03-01T11:35:02.259Z"
   },
   {
    "duration": 191,
    "start_time": "2024-03-01T11:35:03.383Z"
   },
   {
    "duration": 32,
    "start_time": "2024-03-01T11:35:03.576Z"
   },
   {
    "duration": 10,
    "start_time": "2024-03-01T11:35:03.610Z"
   },
   {
    "duration": 49,
    "start_time": "2024-03-01T11:35:03.623Z"
   },
   {
    "duration": 83,
    "start_time": "2024-03-01T11:35:03.674Z"
   },
   {
    "duration": 91,
    "start_time": "2024-03-01T11:35:03.759Z"
   },
   {
    "duration": 104,
    "start_time": "2024-03-01T11:35:03.852Z"
   },
   {
    "duration": 50,
    "start_time": "2024-03-01T11:35:03.958Z"
   },
   {
    "duration": 419,
    "start_time": "2024-03-01T11:35:04.010Z"
   },
   {
    "duration": 121,
    "start_time": "2024-03-01T11:35:04.431Z"
   },
   {
    "duration": 54,
    "start_time": "2024-03-01T11:35:04.554Z"
   },
   {
    "duration": 72,
    "start_time": "2024-03-01T11:35:04.610Z"
   },
   {
    "duration": 64,
    "start_time": "2024-03-01T11:35:04.685Z"
   },
   {
    "duration": 756,
    "start_time": "2024-03-01T11:35:04.751Z"
   },
   {
    "duration": 55,
    "start_time": "2024-03-01T11:35:05.509Z"
   },
   {
    "duration": 45,
    "start_time": "2024-03-01T11:35:05.566Z"
   },
   {
    "duration": 22,
    "start_time": "2024-03-01T11:35:05.614Z"
   },
   {
    "duration": 369,
    "start_time": "2024-03-01T11:35:05.638Z"
   },
   {
    "duration": 52,
    "start_time": "2024-03-01T11:35:06.009Z"
   },
   {
    "duration": 236,
    "start_time": "2024-03-01T11:35:06.062Z"
   },
   {
    "duration": 77,
    "start_time": "2024-03-01T11:35:06.300Z"
   },
   {
    "duration": 219,
    "start_time": "2024-03-01T11:35:06.378Z"
   },
   {
    "duration": 15,
    "start_time": "2024-03-01T11:35:06.601Z"
   },
   {
    "duration": 114,
    "start_time": "2024-03-01T12:00:10.448Z"
   },
   {
    "duration": 1181,
    "start_time": "2024-03-01T12:00:20.748Z"
   },
   {
    "duration": 202,
    "start_time": "2024-03-01T12:00:21.931Z"
   },
   {
    "duration": 26,
    "start_time": "2024-03-01T12:00:22.135Z"
   },
   {
    "duration": 3,
    "start_time": "2024-03-01T12:00:22.163Z"
   },
   {
    "duration": 34,
    "start_time": "2024-03-01T12:00:22.168Z"
   },
   {
    "duration": 72,
    "start_time": "2024-03-01T12:00:22.204Z"
   },
   {
    "duration": 91,
    "start_time": "2024-03-01T12:00:22.277Z"
   },
   {
    "duration": 116,
    "start_time": "2024-03-01T12:00:22.370Z"
   },
   {
    "duration": 42,
    "start_time": "2024-03-01T12:00:22.488Z"
   },
   {
    "duration": 30,
    "start_time": "2024-03-01T12:00:22.533Z"
   },
   {
    "duration": 16,
    "start_time": "2024-03-01T12:00:22.565Z"
   },
   {
    "duration": 28,
    "start_time": "2024-03-01T12:00:22.583Z"
   },
   {
    "duration": 99,
    "start_time": "2024-03-01T12:00:22.612Z"
   },
   {
    "duration": 53,
    "start_time": "2024-03-01T12:00:22.712Z"
   },
   {
    "duration": 726,
    "start_time": "2024-03-01T12:00:22.767Z"
   },
   {
    "duration": 65,
    "start_time": "2024-03-01T12:00:23.494Z"
   },
   {
    "duration": 50,
    "start_time": "2024-03-01T12:00:23.561Z"
   },
   {
    "duration": 12,
    "start_time": "2024-03-01T12:00:23.612Z"
   },
   {
    "duration": 380,
    "start_time": "2024-03-01T12:00:23.626Z"
   },
   {
    "duration": 46,
    "start_time": "2024-03-01T12:00:24.008Z"
   },
   {
    "duration": 212,
    "start_time": "2024-03-01T12:00:24.055Z"
   },
   {
    "duration": 73,
    "start_time": "2024-03-01T12:00:24.269Z"
   },
   {
    "duration": 217,
    "start_time": "2024-03-01T12:00:24.344Z"
   },
   {
    "duration": 14,
    "start_time": "2024-03-01T12:00:24.563Z"
   },
   {
    "duration": 117,
    "start_time": "2024-03-01T12:03:28.414Z"
   },
   {
    "duration": 1140,
    "start_time": "2024-03-01T12:03:34.530Z"
   },
   {
    "duration": 210,
    "start_time": "2024-03-01T12:03:35.672Z"
   },
   {
    "duration": 38,
    "start_time": "2024-03-01T12:03:35.884Z"
   },
   {
    "duration": 4,
    "start_time": "2024-03-01T12:03:35.932Z"
   },
   {
    "duration": 27,
    "start_time": "2024-03-01T12:03:35.939Z"
   },
   {
    "duration": 83,
    "start_time": "2024-03-01T12:03:35.967Z"
   },
   {
    "duration": 96,
    "start_time": "2024-03-01T12:03:36.052Z"
   },
   {
    "duration": 98,
    "start_time": "2024-03-01T12:03:36.149Z"
   },
   {
    "duration": 30,
    "start_time": "2024-03-01T12:03:36.249Z"
   },
   {
    "duration": 19,
    "start_time": "2024-03-01T12:03:36.295Z"
   },
   {
    "duration": 6,
    "start_time": "2024-03-01T12:03:36.316Z"
   },
   {
    "duration": 12,
    "start_time": "2024-03-01T12:03:36.324Z"
   },
   {
    "duration": 25,
    "start_time": "2024-03-01T12:03:36.337Z"
   },
   {
    "duration": 43,
    "start_time": "2024-03-01T12:03:36.366Z"
   },
   {
    "duration": 701,
    "start_time": "2024-03-01T12:03:36.411Z"
   },
   {
    "duration": 55,
    "start_time": "2024-03-01T12:03:37.114Z"
   },
   {
    "duration": 51,
    "start_time": "2024-03-01T12:03:37.171Z"
   },
   {
    "duration": 12,
    "start_time": "2024-03-01T12:03:37.224Z"
   },
   {
    "duration": 391,
    "start_time": "2024-03-01T12:03:37.237Z"
   },
   {
    "duration": 49,
    "start_time": "2024-03-01T12:03:37.630Z"
   },
   {
    "duration": 222,
    "start_time": "2024-03-01T12:03:37.697Z"
   },
   {
    "duration": 82,
    "start_time": "2024-03-01T12:03:37.921Z"
   },
   {
    "duration": 219,
    "start_time": "2024-03-01T12:03:38.005Z"
   },
   {
    "duration": 14,
    "start_time": "2024-03-01T12:03:38.226Z"
   },
   {
    "duration": 118,
    "start_time": "2024-03-01T12:06:04.713Z"
   },
   {
    "duration": 1211,
    "start_time": "2024-03-01T12:06:10.464Z"
   },
   {
    "duration": 203,
    "start_time": "2024-03-01T12:06:11.677Z"
   },
   {
    "duration": 40,
    "start_time": "2024-03-01T12:06:11.882Z"
   },
   {
    "duration": 3,
    "start_time": "2024-03-01T12:06:11.924Z"
   },
   {
    "duration": 34,
    "start_time": "2024-03-01T12:06:11.929Z"
   },
   {
    "duration": 107,
    "start_time": "2024-03-01T12:06:11.965Z"
   },
   {
    "duration": 82,
    "start_time": "2024-03-01T12:06:12.074Z"
   },
   {
    "duration": 106,
    "start_time": "2024-03-01T12:06:12.158Z"
   },
   {
    "duration": 43,
    "start_time": "2024-03-01T12:06:12.265Z"
   },
   {
    "duration": 25,
    "start_time": "2024-03-01T12:06:12.310Z"
   },
   {
    "duration": 40,
    "start_time": "2024-03-01T12:06:12.336Z"
   },
   {
    "duration": 21,
    "start_time": "2024-03-01T12:06:12.378Z"
   },
   {
    "duration": 22,
    "start_time": "2024-03-01T12:06:12.406Z"
   },
   {
    "duration": 21,
    "start_time": "2024-03-01T12:06:12.430Z"
   },
   {
    "duration": 817,
    "start_time": "2024-03-01T12:06:12.453Z"
   },
   {
    "duration": 68,
    "start_time": "2024-03-01T12:06:13.272Z"
   },
   {
    "duration": 26,
    "start_time": "2024-03-01T12:06:13.342Z"
   },
   {
    "duration": 27,
    "start_time": "2024-03-01T12:06:13.369Z"
   },
   {
    "duration": 354,
    "start_time": "2024-03-01T12:06:13.398Z"
   },
   {
    "duration": 56,
    "start_time": "2024-03-01T12:06:13.754Z"
   },
   {
    "duration": 218,
    "start_time": "2024-03-01T12:06:13.812Z"
   },
   {
    "duration": 84,
    "start_time": "2024-03-01T12:06:14.033Z"
   },
   {
    "duration": 221,
    "start_time": "2024-03-01T12:06:14.119Z"
   },
   {
    "duration": 1704,
    "start_time": "2024-03-01T12:06:14.342Z"
   },
   {
    "duration": 15,
    "start_time": "2024-03-01T12:07:57.217Z"
   },
   {
    "duration": 1170,
    "start_time": "2024-03-01T12:08:03.727Z"
   },
   {
    "duration": 201,
    "start_time": "2024-03-01T12:08:04.900Z"
   },
   {
    "duration": 27,
    "start_time": "2024-03-01T12:08:05.103Z"
   },
   {
    "duration": 4,
    "start_time": "2024-03-01T12:08:05.132Z"
   },
   {
    "duration": 19,
    "start_time": "2024-03-01T12:08:05.139Z"
   },
   {
    "duration": 106,
    "start_time": "2024-03-01T12:08:05.160Z"
   },
   {
    "duration": 99,
    "start_time": "2024-03-01T12:08:05.268Z"
   },
   {
    "duration": 99,
    "start_time": "2024-03-01T12:08:05.368Z"
   },
   {
    "duration": 43,
    "start_time": "2024-03-01T12:08:05.469Z"
   },
   {
    "duration": 15,
    "start_time": "2024-03-01T12:08:05.513Z"
   },
   {
    "duration": 16,
    "start_time": "2024-03-01T12:08:05.529Z"
   },
   {
    "duration": 4,
    "start_time": "2024-03-01T12:08:05.546Z"
   },
   {
    "duration": 22,
    "start_time": "2024-03-01T12:08:05.552Z"
   },
   {
    "duration": 26,
    "start_time": "2024-03-01T12:08:05.594Z"
   },
   {
    "duration": 731,
    "start_time": "2024-03-01T12:08:05.621Z"
   },
   {
    "duration": 67,
    "start_time": "2024-03-01T12:08:06.354Z"
   },
   {
    "duration": 26,
    "start_time": "2024-03-01T12:08:06.423Z"
   },
   {
    "duration": 12,
    "start_time": "2024-03-01T12:08:06.450Z"
   },
   {
    "duration": 406,
    "start_time": "2024-03-01T12:08:06.464Z"
   },
   {
    "duration": 64,
    "start_time": "2024-03-01T12:08:06.871Z"
   },
   {
    "duration": 223,
    "start_time": "2024-03-01T12:08:06.937Z"
   },
   {
    "duration": 78,
    "start_time": "2024-03-01T12:08:07.162Z"
   },
   {
    "duration": 214,
    "start_time": "2024-03-01T12:08:07.242Z"
   },
   {
    "duration": 13,
    "start_time": "2024-03-01T12:08:07.458Z"
   },
   {
    "duration": 1174,
    "start_time": "2024-03-01T12:09:33.608Z"
   },
   {
    "duration": 201,
    "start_time": "2024-03-01T12:09:34.785Z"
   },
   {
    "duration": 36,
    "start_time": "2024-03-01T12:09:34.988Z"
   },
   {
    "duration": 26,
    "start_time": "2024-03-01T12:09:35.026Z"
   },
   {
    "duration": 39,
    "start_time": "2024-03-01T12:09:35.055Z"
   },
   {
    "duration": 112,
    "start_time": "2024-03-01T12:09:35.096Z"
   },
   {
    "duration": 92,
    "start_time": "2024-03-01T12:09:35.210Z"
   },
   {
    "duration": 97,
    "start_time": "2024-03-01T12:09:35.305Z"
   },
   {
    "duration": 31,
    "start_time": "2024-03-01T12:09:35.404Z"
   },
   {
    "duration": 21,
    "start_time": "2024-03-01T12:09:35.436Z"
   },
   {
    "duration": 29,
    "start_time": "2024-03-01T12:09:35.459Z"
   },
   {
    "duration": 30,
    "start_time": "2024-03-01T12:09:35.490Z"
   },
   {
    "duration": 46,
    "start_time": "2024-03-01T12:09:35.522Z"
   },
   {
    "duration": 60,
    "start_time": "2024-03-01T12:09:35.572Z"
   },
   {
    "duration": 743,
    "start_time": "2024-03-01T12:09:35.634Z"
   },
   {
    "duration": 69,
    "start_time": "2024-03-01T12:09:36.379Z"
   },
   {
    "duration": 27,
    "start_time": "2024-03-01T12:09:36.449Z"
   },
   {
    "duration": 14,
    "start_time": "2024-03-01T12:09:36.501Z"
   },
   {
    "duration": 373,
    "start_time": "2024-03-01T12:09:36.517Z"
   },
   {
    "duration": 44,
    "start_time": "2024-03-01T12:09:36.899Z"
   },
   {
    "duration": 219,
    "start_time": "2024-03-01T12:09:36.945Z"
   },
   {
    "duration": 76,
    "start_time": "2024-03-01T12:09:37.165Z"
   },
   {
    "duration": 208,
    "start_time": "2024-03-01T12:09:37.242Z"
   },
   {
    "duration": 14,
    "start_time": "2024-03-01T12:09:37.452Z"
   },
   {
    "duration": 1213,
    "start_time": "2024-03-01T12:09:58.517Z"
   },
   {
    "duration": 235,
    "start_time": "2024-03-01T12:09:59.732Z"
   },
   {
    "duration": 36,
    "start_time": "2024-03-01T12:09:59.969Z"
   },
   {
    "duration": 4,
    "start_time": "2024-03-01T12:10:00.008Z"
   },
   {
    "duration": 225,
    "start_time": "2024-03-01T12:10:00.015Z"
   },
   {
    "duration": 128,
    "start_time": "2024-03-01T12:10:00.241Z"
   },
   {
    "duration": 175,
    "start_time": "2024-03-01T12:10:00.371Z"
   },
   {
    "duration": 156,
    "start_time": "2024-03-01T12:10:00.548Z"
   },
   {
    "duration": 193,
    "start_time": "2024-03-01T12:10:00.707Z"
   },
   {
    "duration": 49,
    "start_time": "2024-03-01T12:10:00.904Z"
   },
   {
    "duration": 95,
    "start_time": "2024-03-01T12:10:00.955Z"
   },
   {
    "duration": 338,
    "start_time": "2024-03-01T12:10:01.052Z"
   },
   {
    "duration": 198,
    "start_time": "2024-03-01T12:10:01.392Z"
   },
   {
    "duration": 107,
    "start_time": "2024-03-01T12:10:01.596Z"
   },
   {
    "duration": 748,
    "start_time": "2024-03-01T12:10:01.705Z"
   },
   {
    "duration": 65,
    "start_time": "2024-03-01T12:10:02.455Z"
   },
   {
    "duration": 26,
    "start_time": "2024-03-01T12:10:02.522Z"
   },
   {
    "duration": 62,
    "start_time": "2024-03-01T12:10:02.550Z"
   },
   {
    "duration": 388,
    "start_time": "2024-03-01T12:10:02.613Z"
   },
   {
    "duration": 43,
    "start_time": "2024-03-01T12:10:03.008Z"
   },
   {
    "duration": 214,
    "start_time": "2024-03-01T12:10:03.053Z"
   },
   {
    "duration": 72,
    "start_time": "2024-03-01T12:10:03.269Z"
   },
   {
    "duration": 207,
    "start_time": "2024-03-01T12:10:03.342Z"
   },
   {
    "duration": 334,
    "start_time": "2024-03-01T12:10:03.551Z"
   },
   {
    "duration": 15,
    "start_time": "2024-03-01T12:11:40.849Z"
   },
   {
    "duration": 64,
    "start_time": "2024-03-01T12:12:42.526Z"
   },
   {
    "duration": 15,
    "start_time": "2024-03-01T12:12:54.632Z"
   },
   {
    "duration": 8,
    "start_time": "2024-03-01T13:00:26.358Z"
   },
   {
    "duration": 278,
    "start_time": "2024-03-01T13:07:34.370Z"
   },
   {
    "duration": 11,
    "start_time": "2024-03-01T13:16:50.372Z"
   },
   {
    "duration": 94,
    "start_time": "2024-03-01T13:18:13.158Z"
   },
   {
    "duration": 232,
    "start_time": "2024-03-01T13:19:41.943Z"
   },
   {
    "duration": 44,
    "start_time": "2024-03-01T13:42:47.551Z"
   },
   {
    "duration": 39,
    "start_time": "2024-03-01T13:43:00.047Z"
   },
   {
    "duration": 1286,
    "start_time": "2024-03-01T13:43:15.107Z"
   },
   {
    "duration": 219,
    "start_time": "2024-03-01T13:43:16.395Z"
   },
   {
    "duration": 25,
    "start_time": "2024-03-01T13:43:16.616Z"
   },
   {
    "duration": 3,
    "start_time": "2024-03-01T13:43:16.643Z"
   },
   {
    "duration": 37,
    "start_time": "2024-03-01T13:43:16.648Z"
   },
   {
    "duration": 97,
    "start_time": "2024-03-01T13:43:16.686Z"
   },
   {
    "duration": 79,
    "start_time": "2024-03-01T13:43:16.784Z"
   },
   {
    "duration": 96,
    "start_time": "2024-03-01T13:43:16.865Z"
   },
   {
    "duration": 38,
    "start_time": "2024-03-01T13:43:16.962Z"
   },
   {
    "duration": 59,
    "start_time": "2024-03-01T13:43:17.002Z"
   },
   {
    "duration": 6,
    "start_time": "2024-03-01T13:43:17.063Z"
   },
   {
    "duration": 19,
    "start_time": "2024-03-01T13:43:17.071Z"
   },
   {
    "duration": 30,
    "start_time": "2024-03-01T13:43:17.091Z"
   },
   {
    "duration": 25,
    "start_time": "2024-03-01T13:43:17.124Z"
   },
   {
    "duration": 695,
    "start_time": "2024-03-01T13:43:17.151Z"
   },
   {
    "duration": 62,
    "start_time": "2024-03-01T13:43:17.848Z"
   },
   {
    "duration": 26,
    "start_time": "2024-03-01T13:43:17.912Z"
   },
   {
    "duration": 14,
    "start_time": "2024-03-01T13:43:17.940Z"
   },
   {
    "duration": 360,
    "start_time": "2024-03-01T13:43:17.956Z"
   },
   {
    "duration": 43,
    "start_time": "2024-03-01T13:43:18.318Z"
   },
   {
    "duration": 224,
    "start_time": "2024-03-01T13:43:18.363Z"
   },
   {
    "duration": 65,
    "start_time": "2024-03-01T13:43:18.591Z"
   },
   {
    "duration": 206,
    "start_time": "2024-03-01T13:43:18.657Z"
   },
   {
    "duration": 15,
    "start_time": "2024-03-01T13:43:18.864Z"
   },
   {
    "duration": 462,
    "start_time": "2024-03-01T13:43:18.891Z"
   },
   {
    "duration": 37,
    "start_time": "2024-03-01T13:44:11.047Z"
   },
   {
    "duration": 36,
    "start_time": "2024-03-01T13:44:36.166Z"
   },
   {
    "duration": 69,
    "start_time": "2024-03-01T13:46:51.631Z"
   },
   {
    "duration": 15,
    "start_time": "2024-03-01T13:46:56.295Z"
   },
   {
    "duration": 38,
    "start_time": "2024-03-01T13:47:09.315Z"
   },
   {
    "duration": 69,
    "start_time": "2024-03-01T13:47:50.163Z"
   },
   {
    "duration": 15,
    "start_time": "2024-03-01T13:47:57.464Z"
   },
   {
    "duration": 39,
    "start_time": "2024-03-01T13:48:16.863Z"
   },
   {
    "duration": 19,
    "start_time": "2024-03-01T14:05:38.851Z"
   },
   {
    "duration": 43,
    "start_time": "2024-03-01T14:19:46.521Z"
   },
   {
    "duration": 43,
    "start_time": "2024-03-01T15:01:20.347Z"
   },
   {
    "duration": 219,
    "start_time": "2024-03-01T15:09:59.180Z"
   },
   {
    "duration": 45,
    "start_time": "2024-03-01T15:10:17.683Z"
   },
   {
    "duration": 52,
    "start_time": "2024-03-01T15:11:45.162Z"
   },
   {
    "duration": 47,
    "start_time": "2024-03-01T15:12:03.798Z"
   },
   {
    "duration": 46,
    "start_time": "2024-03-01T15:13:02.665Z"
   },
   {
    "duration": 1370,
    "start_time": "2024-03-01T17:19:44.692Z"
   },
   {
    "duration": 222,
    "start_time": "2024-03-01T17:19:46.065Z"
   },
   {
    "duration": 39,
    "start_time": "2024-03-01T17:19:46.289Z"
   },
   {
    "duration": 3,
    "start_time": "2024-03-01T17:19:46.329Z"
   },
   {
    "duration": 17,
    "start_time": "2024-03-01T17:19:46.335Z"
   },
   {
    "duration": 95,
    "start_time": "2024-03-01T17:19:46.354Z"
   },
   {
    "duration": 92,
    "start_time": "2024-03-01T17:19:46.451Z"
   },
   {
    "duration": 102,
    "start_time": "2024-03-01T17:19:46.545Z"
   },
   {
    "duration": 45,
    "start_time": "2024-03-01T17:19:46.648Z"
   },
   {
    "duration": 21,
    "start_time": "2024-03-01T17:19:46.694Z"
   },
   {
    "duration": 20,
    "start_time": "2024-03-01T17:19:46.717Z"
   },
   {
    "duration": 12,
    "start_time": "2024-03-01T17:19:46.739Z"
   },
   {
    "duration": 46,
    "start_time": "2024-03-01T17:19:46.753Z"
   },
   {
    "duration": 44,
    "start_time": "2024-03-01T17:19:46.803Z"
   },
   {
    "duration": 792,
    "start_time": "2024-03-01T17:19:46.848Z"
   },
   {
    "duration": 73,
    "start_time": "2024-03-01T17:19:47.641Z"
   },
   {
    "duration": 25,
    "start_time": "2024-03-01T17:19:47.717Z"
   },
   {
    "duration": 130,
    "start_time": "2024-03-01T17:19:47.743Z"
   },
   {
    "duration": 364,
    "start_time": "2024-03-01T17:19:47.875Z"
   },
   {
    "duration": 55,
    "start_time": "2024-03-01T17:19:48.241Z"
   },
   {
    "duration": 233,
    "start_time": "2024-03-01T17:19:48.298Z"
   },
   {
    "duration": 77,
    "start_time": "2024-03-01T17:19:48.533Z"
   },
   {
    "duration": 207,
    "start_time": "2024-03-01T17:19:48.614Z"
   },
   {
    "duration": 96,
    "start_time": "2024-03-01T17:19:48.823Z"
   },
   {
    "duration": 147,
    "start_time": "2024-03-01T17:19:48.921Z"
   },
   {
    "duration": 50,
    "start_time": "2024-03-01T17:19:49.071Z"
   },
   {
    "duration": 96,
    "start_time": "2024-03-01T17:19:49.123Z"
   },
   {
    "duration": 3,
    "start_time": "2024-03-01T17:19:49.221Z"
   },
   {
    "duration": 8,
    "start_time": "2024-03-01T17:19:49.225Z"
   },
   {
    "duration": 179,
    "start_time": "2024-03-01T17:19:49.234Z"
   },
   {
    "duration": 106,
    "start_time": "2024-03-01T17:19:49.415Z"
   },
   {
    "duration": 0,
    "start_time": "2024-03-01T17:19:49.523Z"
   },
   {
    "duration": 0,
    "start_time": "2024-03-01T17:19:49.525Z"
   },
   {
    "duration": 2,
    "start_time": "2024-03-01T17:20:13.859Z"
   },
   {
    "duration": 117,
    "start_time": "2024-03-01T17:20:16.147Z"
   },
   {
    "duration": 3,
    "start_time": "2024-03-01T17:20:31.773Z"
   },
   {
    "duration": 10,
    "start_time": "2024-03-01T17:20:34.009Z"
   },
   {
    "duration": 9,
    "start_time": "2024-03-01T17:20:40.996Z"
   },
   {
    "duration": 3,
    "start_time": "2024-03-01T17:20:48.224Z"
   },
   {
    "duration": 2,
    "start_time": "2024-03-01T17:20:56.780Z"
   },
   {
    "duration": 13,
    "start_time": "2024-03-01T17:21:27.795Z"
   },
   {
    "duration": 11,
    "start_time": "2024-03-01T17:21:40.541Z"
   },
   {
    "duration": 14,
    "start_time": "2024-03-01T17:22:03.875Z"
   },
   {
    "duration": 1581,
    "start_time": "2024-03-01T17:22:39.659Z"
   },
   {
    "duration": 1648,
    "start_time": "2024-03-01T17:23:19.842Z"
   },
   {
    "duration": 6,
    "start_time": "2024-03-01T17:24:57.925Z"
   },
   {
    "duration": 2,
    "start_time": "2024-03-01T17:24:59.526Z"
   },
   {
    "duration": 12,
    "start_time": "2024-03-01T19:06:15.232Z"
   },
   {
    "duration": 6,
    "start_time": "2024-03-01T19:06:18.827Z"
   },
   {
    "duration": 64,
    "start_time": "2024-03-01T19:06:21.434Z"
   },
   {
    "duration": 1226,
    "start_time": "2024-03-01T19:07:03.159Z"
   },
   {
    "duration": 209,
    "start_time": "2024-03-01T19:07:04.387Z"
   },
   {
    "duration": 24,
    "start_time": "2024-03-01T19:07:04.598Z"
   },
   {
    "duration": 3,
    "start_time": "2024-03-01T19:07:04.624Z"
   },
   {
    "duration": 23,
    "start_time": "2024-03-01T19:07:04.628Z"
   },
   {
    "duration": 78,
    "start_time": "2024-03-01T19:07:04.652Z"
   },
   {
    "duration": 91,
    "start_time": "2024-03-01T19:07:04.731Z"
   },
   {
    "duration": 97,
    "start_time": "2024-03-01T19:07:04.824Z"
   },
   {
    "duration": 31,
    "start_time": "2024-03-01T19:07:04.923Z"
   },
   {
    "duration": 15,
    "start_time": "2024-03-01T19:07:04.956Z"
   },
   {
    "duration": 20,
    "start_time": "2024-03-01T19:07:04.973Z"
   },
   {
    "duration": 6,
    "start_time": "2024-03-01T19:07:04.994Z"
   },
   {
    "duration": 27,
    "start_time": "2024-03-01T19:07:05.001Z"
   },
   {
    "duration": 29,
    "start_time": "2024-03-01T19:07:05.030Z"
   },
   {
    "duration": 689,
    "start_time": "2024-03-01T19:07:05.060Z"
   },
   {
    "duration": 64,
    "start_time": "2024-03-01T19:07:05.751Z"
   },
   {
    "duration": 28,
    "start_time": "2024-03-01T19:07:05.817Z"
   },
   {
    "duration": 46,
    "start_time": "2024-03-01T19:07:05.847Z"
   },
   {
    "duration": 396,
    "start_time": "2024-03-01T19:07:05.895Z"
   },
   {
    "duration": 46,
    "start_time": "2024-03-01T19:07:06.293Z"
   },
   {
    "duration": 221,
    "start_time": "2024-03-01T19:07:06.340Z"
   },
   {
    "duration": 68,
    "start_time": "2024-03-01T19:07:06.563Z"
   },
   {
    "duration": 195,
    "start_time": "2024-03-01T19:07:06.633Z"
   },
   {
    "duration": 15,
    "start_time": "2024-03-01T19:07:06.829Z"
   },
   {
    "duration": 231,
    "start_time": "2024-03-01T19:07:06.846Z"
   },
   {
    "duration": 46,
    "start_time": "2024-03-01T19:07:07.079Z"
   },
   {
    "duration": 95,
    "start_time": "2024-03-01T19:07:07.128Z"
   },
   {
    "duration": 5,
    "start_time": "2024-03-01T19:07:07.226Z"
   },
   {
    "duration": 213,
    "start_time": "2024-03-01T19:07:07.233Z"
   },
   {
    "duration": 0,
    "start_time": "2024-03-01T19:07:07.447Z"
   },
   {
    "duration": 0,
    "start_time": "2024-03-01T19:07:07.449Z"
   },
   {
    "duration": 0,
    "start_time": "2024-03-01T19:07:07.450Z"
   },
   {
    "duration": 0,
    "start_time": "2024-03-01T19:07:07.451Z"
   },
   {
    "duration": 0,
    "start_time": "2024-03-01T19:07:07.453Z"
   },
   {
    "duration": 0,
    "start_time": "2024-03-01T19:07:07.454Z"
   },
   {
    "duration": 3,
    "start_time": "2024-03-01T19:07:46.518Z"
   },
   {
    "duration": 6,
    "start_time": "2024-03-01T19:07:54.165Z"
   },
   {
    "duration": 63,
    "start_time": "2024-03-01T19:07:54.887Z"
   },
   {
    "duration": 1325,
    "start_time": "2024-03-01T19:08:01.166Z"
   },
   {
    "duration": 194,
    "start_time": "2024-03-01T19:08:02.493Z"
   },
   {
    "duration": 27,
    "start_time": "2024-03-01T19:08:02.689Z"
   },
   {
    "duration": 3,
    "start_time": "2024-03-01T19:08:02.717Z"
   },
   {
    "duration": 13,
    "start_time": "2024-03-01T19:08:02.723Z"
   },
   {
    "duration": 82,
    "start_time": "2024-03-01T19:08:02.738Z"
   },
   {
    "duration": 88,
    "start_time": "2024-03-01T19:08:02.821Z"
   },
   {
    "duration": 98,
    "start_time": "2024-03-01T19:08:02.911Z"
   },
   {
    "duration": 31,
    "start_time": "2024-03-01T19:08:03.010Z"
   },
   {
    "duration": 15,
    "start_time": "2024-03-01T19:08:03.042Z"
   },
   {
    "duration": 16,
    "start_time": "2024-03-01T19:08:03.059Z"
   },
   {
    "duration": 4,
    "start_time": "2024-03-01T19:08:03.092Z"
   },
   {
    "duration": 23,
    "start_time": "2024-03-01T19:08:03.097Z"
   },
   {
    "duration": 24,
    "start_time": "2024-03-01T19:08:03.123Z"
   },
   {
    "duration": 696,
    "start_time": "2024-03-01T19:08:03.148Z"
   },
   {
    "duration": 63,
    "start_time": "2024-03-01T19:08:03.846Z"
   },
   {
    "duration": 28,
    "start_time": "2024-03-01T19:08:03.911Z"
   },
   {
    "duration": 16,
    "start_time": "2024-03-01T19:08:03.940Z"
   },
   {
    "duration": 358,
    "start_time": "2024-03-01T19:08:03.958Z"
   },
   {
    "duration": 42,
    "start_time": "2024-03-01T19:08:04.317Z"
   },
   {
    "duration": 226,
    "start_time": "2024-03-01T19:08:04.361Z"
   },
   {
    "duration": 65,
    "start_time": "2024-03-01T19:08:04.591Z"
   },
   {
    "duration": 208,
    "start_time": "2024-03-01T19:08:04.657Z"
   },
   {
    "duration": 101,
    "start_time": "2024-03-01T19:08:04.866Z"
   },
   {
    "duration": 159,
    "start_time": "2024-03-01T19:08:04.969Z"
   },
   {
    "duration": 75,
    "start_time": "2024-03-01T19:08:05.130Z"
   },
   {
    "duration": 95,
    "start_time": "2024-03-01T19:08:05.206Z"
   },
   {
    "duration": 7,
    "start_time": "2024-03-01T19:08:05.303Z"
   },
   {
    "duration": 204,
    "start_time": "2024-03-01T19:08:05.312Z"
   },
   {
    "duration": 0,
    "start_time": "2024-03-01T19:08:05.518Z"
   },
   {
    "duration": 0,
    "start_time": "2024-03-01T19:08:05.519Z"
   },
   {
    "duration": 0,
    "start_time": "2024-03-01T19:08:05.520Z"
   },
   {
    "duration": 0,
    "start_time": "2024-03-01T19:08:05.521Z"
   },
   {
    "duration": 0,
    "start_time": "2024-03-01T19:08:05.523Z"
   },
   {
    "duration": 0,
    "start_time": "2024-03-01T19:08:05.524Z"
   },
   {
    "duration": 6,
    "start_time": "2024-03-01T19:09:09.683Z"
   },
   {
    "duration": 6,
    "start_time": "2024-03-01T19:09:14.048Z"
   },
   {
    "duration": 1280,
    "start_time": "2024-03-01T19:09:28.892Z"
   },
   {
    "duration": 188,
    "start_time": "2024-03-01T19:09:30.174Z"
   },
   {
    "duration": 71,
    "start_time": "2024-03-01T19:09:30.364Z"
   },
   {
    "duration": 135,
    "start_time": "2024-03-01T19:09:30.437Z"
   },
   {
    "duration": 131,
    "start_time": "2024-03-01T19:09:30.574Z"
   },
   {
    "duration": 151,
    "start_time": "2024-03-01T19:09:30.707Z"
   },
   {
    "duration": 120,
    "start_time": "2024-03-01T19:09:30.860Z"
   },
   {
    "duration": 124,
    "start_time": "2024-03-01T19:09:30.982Z"
   },
   {
    "duration": 59,
    "start_time": "2024-03-01T19:09:31.108Z"
   },
   {
    "duration": 48,
    "start_time": "2024-03-01T19:09:31.170Z"
   },
   {
    "duration": 110,
    "start_time": "2024-03-01T19:09:31.220Z"
   },
   {
    "duration": 81,
    "start_time": "2024-03-01T19:09:31.332Z"
   },
   {
    "duration": 122,
    "start_time": "2024-03-01T19:09:31.415Z"
   },
   {
    "duration": 61,
    "start_time": "2024-03-01T19:09:31.539Z"
   },
   {
    "duration": 822,
    "start_time": "2024-03-01T19:09:31.602Z"
   },
   {
    "duration": 59,
    "start_time": "2024-03-01T19:09:32.426Z"
   },
   {
    "duration": 79,
    "start_time": "2024-03-01T19:09:32.491Z"
   },
   {
    "duration": 521,
    "start_time": "2024-03-01T19:09:32.572Z"
   },
   {
    "duration": 341,
    "start_time": "2024-03-01T19:09:33.095Z"
   },
   {
    "duration": 42,
    "start_time": "2024-03-01T19:09:33.438Z"
   },
   {
    "duration": 211,
    "start_time": "2024-03-01T19:09:33.491Z"
   },
   {
    "duration": 71,
    "start_time": "2024-03-01T19:09:33.704Z"
   },
   {
    "duration": 249,
    "start_time": "2024-03-01T19:09:33.777Z"
   },
   {
    "duration": 104,
    "start_time": "2024-03-01T19:09:34.028Z"
   },
   {
    "duration": 148,
    "start_time": "2024-03-01T19:09:34.134Z"
   },
   {
    "duration": 40,
    "start_time": "2024-03-01T19:09:34.284Z"
   },
   {
    "duration": 93,
    "start_time": "2024-03-01T19:09:34.326Z"
   },
   {
    "duration": 6,
    "start_time": "2024-03-01T19:09:34.423Z"
   },
   {
    "duration": 197,
    "start_time": "2024-03-01T19:09:34.430Z"
   },
   {
    "duration": 0,
    "start_time": "2024-03-01T19:09:34.629Z"
   },
   {
    "duration": 0,
    "start_time": "2024-03-01T19:09:34.630Z"
   },
   {
    "duration": 0,
    "start_time": "2024-03-01T19:09:34.631Z"
   },
   {
    "duration": 0,
    "start_time": "2024-03-01T19:09:34.633Z"
   },
   {
    "duration": 0,
    "start_time": "2024-03-01T19:09:34.634Z"
   },
   {
    "duration": 0,
    "start_time": "2024-03-01T19:09:34.635Z"
   },
   {
    "duration": 9,
    "start_time": "2024-03-01T19:10:21.833Z"
   },
   {
    "duration": 1337,
    "start_time": "2024-03-01T19:10:30.688Z"
   },
   {
    "duration": 190,
    "start_time": "2024-03-01T19:10:32.027Z"
   },
   {
    "duration": 25,
    "start_time": "2024-03-01T19:10:32.219Z"
   },
   {
    "duration": 2,
    "start_time": "2024-03-01T19:10:32.246Z"
   },
   {
    "duration": 13,
    "start_time": "2024-03-01T19:10:32.250Z"
   },
   {
    "duration": 85,
    "start_time": "2024-03-01T19:10:32.264Z"
   },
   {
    "duration": 89,
    "start_time": "2024-03-01T19:10:32.351Z"
   },
   {
    "duration": 92,
    "start_time": "2024-03-01T19:10:32.442Z"
   },
   {
    "duration": 30,
    "start_time": "2024-03-01T19:10:32.536Z"
   },
   {
    "duration": 27,
    "start_time": "2024-03-01T19:10:32.568Z"
   },
   {
    "duration": 7,
    "start_time": "2024-03-01T19:10:32.597Z"
   },
   {
    "duration": 4,
    "start_time": "2024-03-01T19:10:32.605Z"
   },
   {
    "duration": 22,
    "start_time": "2024-03-01T19:10:32.610Z"
   },
   {
    "duration": 19,
    "start_time": "2024-03-01T19:10:32.634Z"
   },
   {
    "duration": 718,
    "start_time": "2024-03-01T19:10:32.654Z"
   },
   {
    "duration": 54,
    "start_time": "2024-03-01T19:10:33.374Z"
   },
   {
    "duration": 27,
    "start_time": "2024-03-01T19:10:33.430Z"
   },
   {
    "duration": 15,
    "start_time": "2024-03-01T19:10:33.459Z"
   },
   {
    "duration": 338,
    "start_time": "2024-03-01T19:10:33.493Z"
   },
   {
    "duration": 43,
    "start_time": "2024-03-01T19:10:33.833Z"
   },
   {
    "duration": 220,
    "start_time": "2024-03-01T19:10:33.878Z"
   },
   {
    "duration": 69,
    "start_time": "2024-03-01T19:10:34.100Z"
   },
   {
    "duration": 225,
    "start_time": "2024-03-01T19:10:34.171Z"
   },
   {
    "duration": 96,
    "start_time": "2024-03-01T19:10:34.398Z"
   },
   {
    "duration": 140,
    "start_time": "2024-03-01T19:10:34.495Z"
   },
   {
    "duration": 70,
    "start_time": "2024-03-01T19:10:34.637Z"
   },
   {
    "duration": 95,
    "start_time": "2024-03-01T19:10:34.709Z"
   },
   {
    "duration": 6,
    "start_time": "2024-03-01T19:10:34.806Z"
   },
   {
    "duration": 189,
    "start_time": "2024-03-01T19:10:34.814Z"
   },
   {
    "duration": 3,
    "start_time": "2024-03-01T19:10:35.005Z"
   },
   {
    "duration": 5,
    "start_time": "2024-03-01T19:10:35.009Z"
   },
   {
    "duration": 142,
    "start_time": "2024-03-01T19:10:35.016Z"
   },
   {
    "duration": 125,
    "start_time": "2024-03-01T19:10:35.160Z"
   },
   {
    "duration": 0,
    "start_time": "2024-03-01T19:10:35.287Z"
   },
   {
    "duration": 0,
    "start_time": "2024-03-01T19:10:35.288Z"
   },
   {
    "duration": 14,
    "start_time": "2024-03-01T19:21:59.251Z"
   },
   {
    "duration": 160,
    "start_time": "2024-03-01T19:30:19.336Z"
   },
   {
    "duration": 165,
    "start_time": "2024-03-01T19:30:36.618Z"
   },
   {
    "duration": 161,
    "start_time": "2024-03-01T19:30:51.248Z"
   },
   {
    "duration": 22,
    "start_time": "2024-03-01T19:51:58.656Z"
   },
   {
    "duration": 33,
    "start_time": "2024-03-01T19:52:08.077Z"
   },
   {
    "duration": 21,
    "start_time": "2024-03-01T19:53:14.529Z"
   },
   {
    "duration": 64,
    "start_time": "2024-03-01T19:57:18.290Z"
   },
   {
    "duration": 48,
    "start_time": "2024-03-01T20:23:49.481Z"
   },
   {
    "duration": 77,
    "start_time": "2024-03-01T20:29:09.843Z"
   },
   {
    "duration": 80,
    "start_time": "2024-03-01T20:31:45.457Z"
   },
   {
    "duration": 12,
    "start_time": "2024-03-01T20:32:03.875Z"
   },
   {
    "duration": 77,
    "start_time": "2024-03-01T20:32:23.708Z"
   },
   {
    "duration": 90,
    "start_time": "2024-03-01T20:39:02.584Z"
   },
   {
    "duration": 5,
    "start_time": "2024-03-01T21:05:45.602Z"
   },
   {
    "duration": 6,
    "start_time": "2024-03-01T21:06:13.139Z"
   },
   {
    "duration": 127,
    "start_time": "2024-03-01T21:09:54.607Z"
   },
   {
    "duration": 162,
    "start_time": "2024-03-01T21:15:55.676Z"
   },
   {
    "duration": 121,
    "start_time": "2024-03-01T21:16:16.425Z"
   },
   {
    "duration": 145,
    "start_time": "2024-03-01T22:27:59.729Z"
   },
   {
    "duration": 126,
    "start_time": "2024-03-01T22:31:51.728Z"
   },
   {
    "duration": 181,
    "start_time": "2024-03-01T22:37:43.349Z"
   },
   {
    "duration": 140,
    "start_time": "2024-03-01T22:51:32.509Z"
   },
   {
    "duration": 126,
    "start_time": "2024-03-01T22:51:56.907Z"
   },
   {
    "duration": 128,
    "start_time": "2024-03-01T22:52:28.218Z"
   },
   {
    "duration": 192,
    "start_time": "2024-03-01T22:53:02.173Z"
   },
   {
    "duration": 1280,
    "start_time": "2024-03-01T23:36:17.431Z"
   },
   {
    "duration": 194,
    "start_time": "2024-03-01T23:36:18.713Z"
   },
   {
    "duration": 26,
    "start_time": "2024-03-01T23:36:18.909Z"
   },
   {
    "duration": 3,
    "start_time": "2024-03-01T23:36:18.937Z"
   },
   {
    "duration": 30,
    "start_time": "2024-03-01T23:36:18.942Z"
   },
   {
    "duration": 80,
    "start_time": "2024-03-01T23:36:18.973Z"
   },
   {
    "duration": 102,
    "start_time": "2024-03-01T23:36:19.055Z"
   },
   {
    "duration": 100,
    "start_time": "2024-03-01T23:36:19.159Z"
   },
   {
    "duration": 39,
    "start_time": "2024-03-01T23:36:19.261Z"
   },
   {
    "duration": 17,
    "start_time": "2024-03-01T23:36:19.304Z"
   },
   {
    "duration": 17,
    "start_time": "2024-03-01T23:36:19.322Z"
   },
   {
    "duration": 8,
    "start_time": "2024-03-01T23:36:19.340Z"
   },
   {
    "duration": 23,
    "start_time": "2024-03-01T23:36:19.349Z"
   },
   {
    "duration": 36,
    "start_time": "2024-03-01T23:36:19.373Z"
   },
   {
    "duration": 754,
    "start_time": "2024-03-01T23:36:19.410Z"
   },
   {
    "duration": 58,
    "start_time": "2024-03-01T23:36:20.166Z"
   },
   {
    "duration": 26,
    "start_time": "2024-03-01T23:36:20.226Z"
   },
   {
    "duration": 12,
    "start_time": "2024-03-01T23:36:20.254Z"
   },
   {
    "duration": 363,
    "start_time": "2024-03-01T23:36:20.267Z"
   },
   {
    "duration": 43,
    "start_time": "2024-03-01T23:36:20.632Z"
   },
   {
    "duration": 214,
    "start_time": "2024-03-01T23:36:20.677Z"
   },
   {
    "duration": 63,
    "start_time": "2024-03-01T23:36:20.893Z"
   },
   {
    "duration": 212,
    "start_time": "2024-03-01T23:36:20.957Z"
   },
   {
    "duration": 125,
    "start_time": "2024-03-01T23:36:21.170Z"
   },
   {
    "duration": 158,
    "start_time": "2024-03-01T23:36:21.296Z"
   },
   {
    "duration": 60,
    "start_time": "2024-03-01T23:36:21.456Z"
   },
   {
    "duration": 112,
    "start_time": "2024-03-01T23:36:21.519Z"
   },
   {
    "duration": 107,
    "start_time": "2024-03-01T23:36:21.634Z"
   },
   {
    "duration": 6,
    "start_time": "2024-03-01T23:36:21.743Z"
   },
   {
    "duration": 172,
    "start_time": "2024-03-01T23:36:21.751Z"
   },
   {
    "duration": 135,
    "start_time": "2024-03-01T23:36:21.925Z"
   },
   {
    "duration": 141,
    "start_time": "2024-03-01T23:36:22.061Z"
   },
   {
    "duration": 199,
    "start_time": "2024-03-01T23:36:22.204Z"
   },
   {
    "duration": 140,
    "start_time": "2024-03-01T23:36:22.405Z"
   },
   {
    "duration": 147,
    "start_time": "2024-03-01T23:36:22.546Z"
   },
   {
    "duration": 136,
    "start_time": "2024-03-01T23:36:22.695Z"
   },
   {
    "duration": 204,
    "start_time": "2024-03-01T23:36:22.832Z"
   },
   {
    "duration": 1243,
    "start_time": "2024-03-01T23:42:54.133Z"
   },
   {
    "duration": 189,
    "start_time": "2024-03-01T23:42:55.378Z"
   },
   {
    "duration": 27,
    "start_time": "2024-03-01T23:42:55.568Z"
   },
   {
    "duration": 3,
    "start_time": "2024-03-01T23:42:55.596Z"
   },
   {
    "duration": 27,
    "start_time": "2024-03-01T23:42:55.601Z"
   },
   {
    "duration": 78,
    "start_time": "2024-03-01T23:42:55.629Z"
   },
   {
    "duration": 82,
    "start_time": "2024-03-01T23:42:55.709Z"
   },
   {
    "duration": 89,
    "start_time": "2024-03-01T23:42:55.793Z"
   },
   {
    "duration": 32,
    "start_time": "2024-03-01T23:42:55.883Z"
   },
   {
    "duration": 16,
    "start_time": "2024-03-01T23:42:55.916Z"
   },
   {
    "duration": 37,
    "start_time": "2024-03-01T23:42:55.933Z"
   },
   {
    "duration": 14,
    "start_time": "2024-03-01T23:42:55.971Z"
   },
   {
    "duration": 23,
    "start_time": "2024-03-01T23:42:55.987Z"
   },
   {
    "duration": 45,
    "start_time": "2024-03-01T23:42:56.014Z"
   },
   {
    "duration": 786,
    "start_time": "2024-03-01T23:42:56.061Z"
   },
   {
    "duration": 62,
    "start_time": "2024-03-01T23:42:56.848Z"
   },
   {
    "duration": 35,
    "start_time": "2024-03-01T23:42:56.912Z"
   },
   {
    "duration": 20,
    "start_time": "2024-03-01T23:42:56.949Z"
   },
   {
    "duration": 345,
    "start_time": "2024-03-01T23:42:56.970Z"
   },
   {
    "duration": 43,
    "start_time": "2024-03-01T23:42:57.316Z"
   },
   {
    "duration": 210,
    "start_time": "2024-03-01T23:42:57.361Z"
   },
   {
    "duration": 100,
    "start_time": "2024-03-01T23:42:57.573Z"
   },
   {
    "duration": 205,
    "start_time": "2024-03-01T23:42:57.674Z"
   },
   {
    "duration": 98,
    "start_time": "2024-03-01T23:42:57.881Z"
   },
   {
    "duration": 159,
    "start_time": "2024-03-01T23:42:57.981Z"
   },
   {
    "duration": 65,
    "start_time": "2024-03-01T23:42:58.141Z"
   },
   {
    "duration": 93,
    "start_time": "2024-03-01T23:42:58.208Z"
   },
   {
    "duration": 94,
    "start_time": "2024-03-01T23:42:58.302Z"
   },
   {
    "duration": 6,
    "start_time": "2024-03-01T23:42:58.398Z"
   },
   {
    "duration": 148,
    "start_time": "2024-03-01T23:42:58.406Z"
   },
   {
    "duration": 139,
    "start_time": "2024-03-01T23:42:58.556Z"
   },
   {
    "duration": 135,
    "start_time": "2024-03-01T23:42:58.696Z"
   },
   {
    "duration": 194,
    "start_time": "2024-03-01T23:42:58.833Z"
   },
   {
    "duration": 140,
    "start_time": "2024-03-01T23:42:59.029Z"
   },
   {
    "duration": 147,
    "start_time": "2024-03-01T23:42:59.171Z"
   },
   {
    "duration": 142,
    "start_time": "2024-03-01T23:42:59.319Z"
   },
   {
    "duration": 192,
    "start_time": "2024-03-01T23:42:59.463Z"
   },
   {
    "duration": 1313,
    "start_time": "2024-03-02T15:18:45.509Z"
   },
   {
    "duration": 727,
    "start_time": "2024-03-02T15:18:46.823Z"
   },
   {
    "duration": 25,
    "start_time": "2024-03-02T15:18:47.552Z"
   },
   {
    "duration": 3,
    "start_time": "2024-03-02T15:18:47.579Z"
   },
   {
    "duration": 14,
    "start_time": "2024-03-02T15:18:47.584Z"
   },
   {
    "duration": 76,
    "start_time": "2024-03-02T15:18:47.599Z"
   },
   {
    "duration": 82,
    "start_time": "2024-03-02T15:18:47.677Z"
   },
   {
    "duration": 81,
    "start_time": "2024-03-02T15:18:47.761Z"
   },
   {
    "duration": 38,
    "start_time": "2024-03-02T15:18:47.843Z"
   },
   {
    "duration": 13,
    "start_time": "2024-03-02T15:18:47.883Z"
   },
   {
    "duration": 6,
    "start_time": "2024-03-02T15:18:47.897Z"
   },
   {
    "duration": 4,
    "start_time": "2024-03-02T15:18:47.904Z"
   },
   {
    "duration": 17,
    "start_time": "2024-03-02T15:18:47.910Z"
   },
   {
    "duration": 17,
    "start_time": "2024-03-02T15:18:47.960Z"
   },
   {
    "duration": 600,
    "start_time": "2024-03-02T15:18:47.979Z"
   },
   {
    "duration": 52,
    "start_time": "2024-03-02T15:18:48.581Z"
   },
   {
    "duration": 36,
    "start_time": "2024-03-02T15:18:48.635Z"
   },
   {
    "duration": 11,
    "start_time": "2024-03-02T15:18:48.675Z"
   },
   {
    "duration": 293,
    "start_time": "2024-03-02T15:18:48.687Z"
   },
   {
    "duration": 39,
    "start_time": "2024-03-02T15:18:48.982Z"
   },
   {
    "duration": 194,
    "start_time": "2024-03-02T15:18:49.023Z"
   },
   {
    "duration": 63,
    "start_time": "2024-03-02T15:18:49.219Z"
   },
   {
    "duration": 167,
    "start_time": "2024-03-02T15:18:49.284Z"
   },
   {
    "duration": 92,
    "start_time": "2024-03-02T15:18:49.452Z"
   },
   {
    "duration": 316,
    "start_time": "2024-03-02T15:18:49.545Z"
   },
   {
    "duration": 37,
    "start_time": "2024-03-02T15:18:49.863Z"
   },
   {
    "duration": 80,
    "start_time": "2024-03-02T15:18:49.902Z"
   },
   {
    "duration": 103,
    "start_time": "2024-03-02T15:18:49.983Z"
   },
   {
    "duration": 6,
    "start_time": "2024-03-02T15:18:50.087Z"
   },
   {
    "duration": 136,
    "start_time": "2024-03-02T15:18:50.094Z"
   },
   {
    "duration": 118,
    "start_time": "2024-03-02T15:18:50.231Z"
   },
   {
    "duration": 124,
    "start_time": "2024-03-02T15:18:50.350Z"
   },
   {
    "duration": 175,
    "start_time": "2024-03-02T15:18:50.475Z"
   },
   {
    "duration": 120,
    "start_time": "2024-03-02T15:18:50.658Z"
   },
   {
    "duration": 129,
    "start_time": "2024-03-02T15:18:50.779Z"
   },
   {
    "duration": 132,
    "start_time": "2024-03-02T15:18:50.910Z"
   },
   {
    "duration": 209,
    "start_time": "2024-03-02T15:18:51.044Z"
   },
   {
    "duration": 42,
    "start_time": "2024-03-03T12:21:42.821Z"
   },
   {
    "duration": 1234,
    "start_time": "2024-03-03T12:21:49.574Z"
   },
   {
    "duration": 457,
    "start_time": "2024-03-03T12:21:50.810Z"
   },
   {
    "duration": 19,
    "start_time": "2024-03-03T12:21:51.269Z"
   },
   {
    "duration": 3,
    "start_time": "2024-03-03T12:21:51.290Z"
   },
   {
    "duration": 9,
    "start_time": "2024-03-03T12:21:51.294Z"
   },
   {
    "duration": 54,
    "start_time": "2024-03-03T12:21:51.304Z"
   },
   {
    "duration": 39262,
    "start_time": "2024-03-03T12:21:51.360Z"
   },
   {
    "duration": 0,
    "start_time": "2024-03-03T12:22:30.624Z"
   },
   {
    "duration": 0,
    "start_time": "2024-03-03T12:22:30.625Z"
   },
   {
    "duration": 0,
    "start_time": "2024-03-03T12:22:30.626Z"
   },
   {
    "duration": 0,
    "start_time": "2024-03-03T12:22:30.627Z"
   },
   {
    "duration": 0,
    "start_time": "2024-03-03T12:22:30.628Z"
   },
   {
    "duration": 0,
    "start_time": "2024-03-03T12:22:30.629Z"
   },
   {
    "duration": 0,
    "start_time": "2024-03-03T12:22:30.629Z"
   },
   {
    "duration": 0,
    "start_time": "2024-03-03T12:22:30.630Z"
   },
   {
    "duration": 0,
    "start_time": "2024-03-03T12:22:30.631Z"
   },
   {
    "duration": 0,
    "start_time": "2024-03-03T12:22:30.632Z"
   },
   {
    "duration": 0,
    "start_time": "2024-03-03T12:22:30.632Z"
   },
   {
    "duration": 0,
    "start_time": "2024-03-03T12:22:30.633Z"
   },
   {
    "duration": 0,
    "start_time": "2024-03-03T12:22:30.634Z"
   },
   {
    "duration": 0,
    "start_time": "2024-03-03T12:22:30.634Z"
   },
   {
    "duration": 0,
    "start_time": "2024-03-03T12:22:30.635Z"
   },
   {
    "duration": 0,
    "start_time": "2024-03-03T12:22:30.636Z"
   },
   {
    "duration": 0,
    "start_time": "2024-03-03T12:22:30.636Z"
   },
   {
    "duration": 0,
    "start_time": "2024-03-03T12:22:30.637Z"
   },
   {
    "duration": 0,
    "start_time": "2024-03-03T12:22:30.638Z"
   },
   {
    "duration": 0,
    "start_time": "2024-03-03T12:22:30.638Z"
   },
   {
    "duration": 0,
    "start_time": "2024-03-03T12:22:30.639Z"
   },
   {
    "duration": 0,
    "start_time": "2024-03-03T12:22:30.640Z"
   },
   {
    "duration": 0,
    "start_time": "2024-03-03T12:22:30.641Z"
   },
   {
    "duration": 0,
    "start_time": "2024-03-03T12:22:30.641Z"
   },
   {
    "duration": 0,
    "start_time": "2024-03-03T12:22:30.642Z"
   },
   {
    "duration": 0,
    "start_time": "2024-03-03T12:22:30.643Z"
   },
   {
    "duration": 0,
    "start_time": "2024-03-03T12:22:30.644Z"
   },
   {
    "duration": 0,
    "start_time": "2024-03-03T12:22:30.645Z"
   },
   {
    "duration": 0,
    "start_time": "2024-03-03T12:22:30.645Z"
   },
   {
    "duration": 0,
    "start_time": "2024-03-03T12:22:30.646Z"
   },
   {
    "duration": 0,
    "start_time": "2024-03-03T12:22:30.647Z"
   },
   {
    "duration": 111,
    "start_time": "2024-03-03T12:29:01.494Z"
   },
   {
    "duration": 107,
    "start_time": "2024-03-03T12:29:13.629Z"
   },
   {
    "duration": 108,
    "start_time": "2024-03-03T12:29:30.207Z"
   },
   {
    "duration": 104,
    "start_time": "2024-03-03T12:30:44.207Z"
   },
   {
    "duration": 202,
    "start_time": "2024-03-03T12:39:17.886Z"
   },
   {
    "duration": 99,
    "start_time": "2024-03-03T12:46:42.985Z"
   },
   {
    "duration": 100,
    "start_time": "2024-03-03T12:47:11.937Z"
   },
   {
    "duration": 108,
    "start_time": "2024-03-03T12:47:24.387Z"
   },
   {
    "duration": 112,
    "start_time": "2024-03-03T12:53:59.747Z"
   },
   {
    "duration": 1024,
    "start_time": "2024-03-03T12:54:18.452Z"
   },
   {
    "duration": 136,
    "start_time": "2024-03-03T12:54:19.477Z"
   },
   {
    "duration": 19,
    "start_time": "2024-03-03T12:54:19.614Z"
   },
   {
    "duration": 3,
    "start_time": "2024-03-03T12:54:19.635Z"
   },
   {
    "duration": 10,
    "start_time": "2024-03-03T12:54:19.639Z"
   },
   {
    "duration": 72,
    "start_time": "2024-03-03T12:54:19.651Z"
   },
   {
    "duration": 120,
    "start_time": "2024-03-03T12:54:19.725Z"
   },
   {
    "duration": 71,
    "start_time": "2024-03-03T12:54:19.846Z"
   },
   {
    "duration": 67,
    "start_time": "2024-03-03T12:54:19.919Z"
   },
   {
    "duration": 28,
    "start_time": "2024-03-03T12:54:20.001Z"
   },
   {
    "duration": 12,
    "start_time": "2024-03-03T12:54:20.031Z"
   },
   {
    "duration": 13,
    "start_time": "2024-03-03T12:54:20.045Z"
   },
   {
    "duration": 4,
    "start_time": "2024-03-03T12:54:20.060Z"
   },
   {
    "duration": 14,
    "start_time": "2024-03-03T12:54:20.066Z"
   },
   {
    "duration": 38,
    "start_time": "2024-03-03T12:54:20.082Z"
   },
   {
    "duration": 584,
    "start_time": "2024-03-03T12:54:20.122Z"
   },
   {
    "duration": 40,
    "start_time": "2024-03-03T12:54:20.707Z"
   },
   {
    "duration": 17,
    "start_time": "2024-03-03T12:54:20.748Z"
   },
   {
    "duration": 23,
    "start_time": "2024-03-03T12:54:20.767Z"
   },
   {
    "duration": 283,
    "start_time": "2024-03-03T12:54:20.791Z"
   },
   {
    "duration": 36,
    "start_time": "2024-03-03T12:54:21.076Z"
   },
   {
    "duration": 185,
    "start_time": "2024-03-03T12:54:21.113Z"
   },
   {
    "duration": 58,
    "start_time": "2024-03-03T12:54:21.301Z"
   },
   {
    "duration": 186,
    "start_time": "2024-03-03T12:54:21.361Z"
   },
   {
    "duration": 64,
    "start_time": "2024-03-03T12:54:21.548Z"
   },
   {
    "duration": 148,
    "start_time": "2024-03-03T12:54:21.613Z"
   },
   {
    "duration": 43,
    "start_time": "2024-03-03T12:54:21.762Z"
   },
   {
    "duration": 33,
    "start_time": "2024-03-03T12:54:21.807Z"
   },
   {
    "duration": 112,
    "start_time": "2024-03-03T12:54:21.841Z"
   },
   {
    "duration": 7,
    "start_time": "2024-03-03T12:54:21.954Z"
   },
   {
    "duration": 114,
    "start_time": "2024-03-03T12:54:21.962Z"
   },
   {
    "duration": 102,
    "start_time": "2024-03-03T12:54:22.077Z"
   },
   {
    "duration": 106,
    "start_time": "2024-03-03T12:54:22.180Z"
   },
   {
    "duration": 151,
    "start_time": "2024-03-03T12:54:22.287Z"
   },
   {
    "duration": 115,
    "start_time": "2024-03-03T12:54:22.439Z"
   },
   {
    "duration": 102,
    "start_time": "2024-03-03T12:54:22.555Z"
   },
   {
    "duration": 104,
    "start_time": "2024-03-03T12:54:22.658Z"
   },
   {
    "duration": 147,
    "start_time": "2024-03-03T12:54:22.764Z"
   },
   {
    "duration": 132,
    "start_time": "2024-03-03T12:54:40.827Z"
   },
   {
    "duration": 95,
    "start_time": "2024-03-03T12:54:58.505Z"
   },
   {
    "duration": 82,
    "start_time": "2024-03-03T12:55:09.547Z"
   },
   {
    "duration": 1008,
    "start_time": "2024-03-03T12:55:20.245Z"
   },
   {
    "duration": 140,
    "start_time": "2024-03-03T12:55:21.254Z"
   },
   {
    "duration": 19,
    "start_time": "2024-03-03T12:55:21.396Z"
   },
   {
    "duration": 4,
    "start_time": "2024-03-03T12:55:21.417Z"
   },
   {
    "duration": 10,
    "start_time": "2024-03-03T12:55:21.422Z"
   },
   {
    "duration": 70,
    "start_time": "2024-03-03T12:55:21.432Z"
   },
   {
    "duration": 117,
    "start_time": "2024-03-03T12:55:21.503Z"
   },
   {
    "duration": 61,
    "start_time": "2024-03-03T12:55:21.621Z"
   },
   {
    "duration": 75,
    "start_time": "2024-03-03T12:55:21.683Z"
   },
   {
    "duration": 27,
    "start_time": "2024-03-03T12:55:21.760Z"
   },
   {
    "duration": 39,
    "start_time": "2024-03-03T12:55:21.788Z"
   },
   {
    "duration": 31,
    "start_time": "2024-03-03T12:55:21.828Z"
   },
   {
    "duration": 114,
    "start_time": "2024-03-03T12:55:21.860Z"
   },
   {
    "duration": 85,
    "start_time": "2024-03-03T12:55:21.976Z"
   },
   {
    "duration": 15,
    "start_time": "2024-03-03T12:55:22.063Z"
   },
   {
    "duration": 492,
    "start_time": "2024-03-03T12:55:22.080Z"
   },
   {
    "duration": 48,
    "start_time": "2024-03-03T12:55:22.573Z"
   },
   {
    "duration": 16,
    "start_time": "2024-03-03T12:55:22.622Z"
   },
   {
    "duration": 18,
    "start_time": "2024-03-03T12:55:22.640Z"
   },
   {
    "duration": 270,
    "start_time": "2024-03-03T12:55:22.659Z"
   },
   {
    "duration": 38,
    "start_time": "2024-03-03T12:55:22.930Z"
   },
   {
    "duration": 176,
    "start_time": "2024-03-03T12:55:22.969Z"
   },
   {
    "duration": 72,
    "start_time": "2024-03-03T12:55:23.147Z"
   },
   {
    "duration": 153,
    "start_time": "2024-03-03T12:55:23.220Z"
   },
   {
    "duration": 12,
    "start_time": "2024-03-03T12:55:23.374Z"
   },
   {
    "duration": 205,
    "start_time": "2024-03-03T12:55:23.387Z"
   },
   {
    "duration": 46,
    "start_time": "2024-03-03T12:55:23.594Z"
   },
   {
    "duration": 99,
    "start_time": "2024-03-03T12:55:23.644Z"
   },
   {
    "duration": 105,
    "start_time": "2024-03-03T12:55:23.745Z"
   },
   {
    "duration": 5,
    "start_time": "2024-03-03T12:55:23.851Z"
   },
   {
    "duration": 109,
    "start_time": "2024-03-03T12:55:23.857Z"
   },
   {
    "duration": 108,
    "start_time": "2024-03-03T12:55:23.967Z"
   },
   {
    "duration": 108,
    "start_time": "2024-03-03T12:55:24.076Z"
   },
   {
    "duration": 161,
    "start_time": "2024-03-03T12:55:24.185Z"
   },
   {
    "duration": 110,
    "start_time": "2024-03-03T12:55:24.348Z"
   },
   {
    "duration": 126,
    "start_time": "2024-03-03T12:55:24.460Z"
   },
   {
    "duration": 118,
    "start_time": "2024-03-03T12:55:24.587Z"
   },
   {
    "duration": 165,
    "start_time": "2024-03-03T12:55:24.706Z"
   },
   {
    "duration": 99,
    "start_time": "2024-03-03T13:09:31.192Z"
   },
   {
    "duration": 17,
    "start_time": "2024-03-03T13:12:21.766Z"
   },
   {
    "duration": 21,
    "start_time": "2024-03-03T13:13:02.747Z"
   },
   {
    "duration": 1021,
    "start_time": "2024-03-03T13:25:04.206Z"
   },
   {
    "duration": 10,
    "start_time": "2024-03-03T13:28:20.458Z"
   },
   {
    "duration": 8,
    "start_time": "2024-03-03T13:28:39.586Z"
   },
   {
    "duration": 1124,
    "start_time": "2024-03-03T13:29:55.592Z"
   },
   {
    "duration": 1034,
    "start_time": "2024-03-03T13:38:13.440Z"
   },
   {
    "duration": 140,
    "start_time": "2024-03-03T13:38:14.476Z"
   },
   {
    "duration": 18,
    "start_time": "2024-03-03T13:38:14.617Z"
   },
   {
    "duration": 2,
    "start_time": "2024-03-03T13:38:14.636Z"
   },
   {
    "duration": 10,
    "start_time": "2024-03-03T13:38:14.640Z"
   },
   {
    "duration": 72,
    "start_time": "2024-03-03T13:38:14.651Z"
   },
   {
    "duration": 113,
    "start_time": "2024-03-03T13:38:14.724Z"
   },
   {
    "duration": 68,
    "start_time": "2024-03-03T13:38:14.838Z"
   },
   {
    "duration": 59,
    "start_time": "2024-03-03T13:38:14.908Z"
   },
   {
    "duration": 36,
    "start_time": "2024-03-03T13:38:14.970Z"
   },
   {
    "duration": 12,
    "start_time": "2024-03-03T13:38:15.007Z"
   },
   {
    "duration": 35,
    "start_time": "2024-03-03T13:38:15.020Z"
   },
   {
    "duration": 51,
    "start_time": "2024-03-03T13:38:15.056Z"
   },
   {
    "duration": 1113,
    "start_time": "2024-03-03T13:38:15.108Z"
   },
   {
    "duration": 0,
    "start_time": "2024-03-03T13:38:16.223Z"
   },
   {
    "duration": 0,
    "start_time": "2024-03-03T13:38:16.224Z"
   },
   {
    "duration": 0,
    "start_time": "2024-03-03T13:38:16.225Z"
   },
   {
    "duration": 0,
    "start_time": "2024-03-03T13:38:16.227Z"
   },
   {
    "duration": 0,
    "start_time": "2024-03-03T13:38:16.228Z"
   },
   {
    "duration": 0,
    "start_time": "2024-03-03T13:38:16.229Z"
   },
   {
    "duration": 0,
    "start_time": "2024-03-03T13:38:16.230Z"
   },
   {
    "duration": 0,
    "start_time": "2024-03-03T13:38:16.231Z"
   },
   {
    "duration": 0,
    "start_time": "2024-03-03T13:38:16.232Z"
   },
   {
    "duration": 0,
    "start_time": "2024-03-03T13:38:16.233Z"
   },
   {
    "duration": 0,
    "start_time": "2024-03-03T13:38:16.234Z"
   },
   {
    "duration": 0,
    "start_time": "2024-03-03T13:38:16.235Z"
   },
   {
    "duration": 0,
    "start_time": "2024-03-03T13:38:16.236Z"
   },
   {
    "duration": 0,
    "start_time": "2024-03-03T13:38:16.237Z"
   },
   {
    "duration": 0,
    "start_time": "2024-03-03T13:38:16.238Z"
   },
   {
    "duration": 0,
    "start_time": "2024-03-03T13:38:16.239Z"
   },
   {
    "duration": 0,
    "start_time": "2024-03-03T13:38:16.240Z"
   },
   {
    "duration": 0,
    "start_time": "2024-03-03T13:38:16.241Z"
   },
   {
    "duration": 0,
    "start_time": "2024-03-03T13:38:16.242Z"
   },
   {
    "duration": 0,
    "start_time": "2024-03-03T13:38:16.243Z"
   },
   {
    "duration": 0,
    "start_time": "2024-03-03T13:38:16.356Z"
   },
   {
    "duration": 0,
    "start_time": "2024-03-03T13:38:16.357Z"
   },
   {
    "duration": 0,
    "start_time": "2024-03-03T13:38:16.358Z"
   },
   {
    "duration": 0,
    "start_time": "2024-03-03T13:38:16.359Z"
   },
   {
    "duration": 0,
    "start_time": "2024-03-03T13:38:16.360Z"
   },
   {
    "duration": 10,
    "start_time": "2024-03-03T13:38:45.229Z"
   },
   {
    "duration": 20,
    "start_time": "2024-03-03T13:44:15.245Z"
   },
   {
    "duration": 8,
    "start_time": "2024-03-03T13:57:10.387Z"
   },
   {
    "duration": 1064,
    "start_time": "2024-03-03T13:57:18.196Z"
   },
   {
    "duration": 141,
    "start_time": "2024-03-03T13:57:19.262Z"
   },
   {
    "duration": 18,
    "start_time": "2024-03-03T13:57:19.407Z"
   },
   {
    "duration": 3,
    "start_time": "2024-03-03T13:57:19.426Z"
   },
   {
    "duration": 11,
    "start_time": "2024-03-03T13:57:19.430Z"
   },
   {
    "duration": 76,
    "start_time": "2024-03-03T13:57:19.442Z"
   },
   {
    "duration": 118,
    "start_time": "2024-03-03T13:57:19.520Z"
   },
   {
    "duration": 80,
    "start_time": "2024-03-03T13:57:19.639Z"
   },
   {
    "duration": 88,
    "start_time": "2024-03-03T13:57:19.722Z"
   },
   {
    "duration": 25,
    "start_time": "2024-03-03T13:57:19.811Z"
   },
   {
    "duration": 9,
    "start_time": "2024-03-03T13:57:19.837Z"
   },
   {
    "duration": 8,
    "start_time": "2024-03-03T13:57:19.847Z"
   },
   {
    "duration": 18,
    "start_time": "2024-03-03T13:57:19.856Z"
   },
   {
    "duration": 114,
    "start_time": "2024-03-03T13:57:19.875Z"
   },
   {
    "duration": 0,
    "start_time": "2024-03-03T13:57:19.990Z"
   },
   {
    "duration": 0,
    "start_time": "2024-03-03T13:57:19.991Z"
   },
   {
    "duration": 0,
    "start_time": "2024-03-03T13:57:20.002Z"
   },
   {
    "duration": 0,
    "start_time": "2024-03-03T13:57:20.003Z"
   },
   {
    "duration": 0,
    "start_time": "2024-03-03T13:57:20.004Z"
   },
   {
    "duration": 0,
    "start_time": "2024-03-03T13:57:20.005Z"
   },
   {
    "duration": 0,
    "start_time": "2024-03-03T13:57:20.005Z"
   },
   {
    "duration": 0,
    "start_time": "2024-03-03T13:57:20.006Z"
   },
   {
    "duration": 0,
    "start_time": "2024-03-03T13:57:20.007Z"
   },
   {
    "duration": 0,
    "start_time": "2024-03-03T13:57:20.008Z"
   },
   {
    "duration": 0,
    "start_time": "2024-03-03T13:57:20.009Z"
   },
   {
    "duration": 0,
    "start_time": "2024-03-03T13:57:20.010Z"
   },
   {
    "duration": 0,
    "start_time": "2024-03-03T13:57:20.011Z"
   },
   {
    "duration": 0,
    "start_time": "2024-03-03T13:57:20.012Z"
   },
   {
    "duration": 0,
    "start_time": "2024-03-03T13:57:20.013Z"
   },
   {
    "duration": 1,
    "start_time": "2024-03-03T13:57:20.013Z"
   },
   {
    "duration": 0,
    "start_time": "2024-03-03T13:57:20.015Z"
   },
   {
    "duration": 0,
    "start_time": "2024-03-03T13:57:20.016Z"
   },
   {
    "duration": 0,
    "start_time": "2024-03-03T13:57:20.017Z"
   },
   {
    "duration": 0,
    "start_time": "2024-03-03T13:57:20.017Z"
   },
   {
    "duration": 0,
    "start_time": "2024-03-03T13:57:20.019Z"
   },
   {
    "duration": 0,
    "start_time": "2024-03-03T13:57:20.020Z"
   },
   {
    "duration": 0,
    "start_time": "2024-03-03T13:57:20.020Z"
   },
   {
    "duration": 0,
    "start_time": "2024-03-03T13:57:20.022Z"
   },
   {
    "duration": 0,
    "start_time": "2024-03-03T13:57:20.023Z"
   },
   {
    "duration": 48,
    "start_time": "2024-03-03T13:58:11.466Z"
   },
   {
    "duration": 1106,
    "start_time": "2024-03-03T15:12:06.344Z"
   },
   {
    "duration": 137,
    "start_time": "2024-03-03T15:12:07.452Z"
   },
   {
    "duration": 19,
    "start_time": "2024-03-03T15:12:07.590Z"
   },
   {
    "duration": 3,
    "start_time": "2024-03-03T15:12:07.610Z"
   },
   {
    "duration": 14,
    "start_time": "2024-03-03T15:12:07.614Z"
   },
   {
    "duration": 59,
    "start_time": "2024-03-03T15:12:07.629Z"
   },
   {
    "duration": 122,
    "start_time": "2024-03-03T15:12:07.701Z"
   },
   {
    "duration": 77,
    "start_time": "2024-03-03T15:12:07.824Z"
   },
   {
    "duration": 60,
    "start_time": "2024-03-03T15:12:07.903Z"
   },
   {
    "duration": 37,
    "start_time": "2024-03-03T15:12:07.965Z"
   },
   {
    "duration": 10,
    "start_time": "2024-03-03T15:12:08.004Z"
   },
   {
    "duration": 6,
    "start_time": "2024-03-03T15:12:08.015Z"
   },
   {
    "duration": 21,
    "start_time": "2024-03-03T15:12:08.023Z"
   },
   {
    "duration": 106,
    "start_time": "2024-03-03T15:12:08.045Z"
   },
   {
    "duration": 0,
    "start_time": "2024-03-03T15:12:08.153Z"
   },
   {
    "duration": 0,
    "start_time": "2024-03-03T15:12:08.154Z"
   },
   {
    "duration": 0,
    "start_time": "2024-03-03T15:12:08.155Z"
   },
   {
    "duration": 0,
    "start_time": "2024-03-03T15:12:08.155Z"
   },
   {
    "duration": 0,
    "start_time": "2024-03-03T15:12:08.156Z"
   },
   {
    "duration": 0,
    "start_time": "2024-03-03T15:12:08.157Z"
   },
   {
    "duration": 0,
    "start_time": "2024-03-03T15:12:08.158Z"
   },
   {
    "duration": 0,
    "start_time": "2024-03-03T15:12:08.158Z"
   },
   {
    "duration": 0,
    "start_time": "2024-03-03T15:12:08.159Z"
   },
   {
    "duration": 0,
    "start_time": "2024-03-03T15:12:08.160Z"
   },
   {
    "duration": 0,
    "start_time": "2024-03-03T15:12:08.161Z"
   },
   {
    "duration": 0,
    "start_time": "2024-03-03T15:12:08.162Z"
   },
   {
    "duration": 0,
    "start_time": "2024-03-03T15:12:08.163Z"
   },
   {
    "duration": 0,
    "start_time": "2024-03-03T15:12:08.164Z"
   },
   {
    "duration": 0,
    "start_time": "2024-03-03T15:12:08.165Z"
   },
   {
    "duration": 0,
    "start_time": "2024-03-03T15:12:08.166Z"
   },
   {
    "duration": 0,
    "start_time": "2024-03-03T15:12:08.167Z"
   },
   {
    "duration": 0,
    "start_time": "2024-03-03T15:12:08.168Z"
   },
   {
    "duration": 0,
    "start_time": "2024-03-03T15:12:08.201Z"
   },
   {
    "duration": 0,
    "start_time": "2024-03-03T15:12:08.202Z"
   },
   {
    "duration": 0,
    "start_time": "2024-03-03T15:12:08.203Z"
   },
   {
    "duration": 0,
    "start_time": "2024-03-03T15:12:08.204Z"
   },
   {
    "duration": 0,
    "start_time": "2024-03-03T15:12:08.205Z"
   },
   {
    "duration": 0,
    "start_time": "2024-03-03T15:12:08.206Z"
   },
   {
    "duration": 0,
    "start_time": "2024-03-03T15:12:08.207Z"
   },
   {
    "duration": 10,
    "start_time": "2024-03-03T15:32:56.630Z"
   },
   {
    "duration": 7,
    "start_time": "2024-03-03T15:38:54.348Z"
   },
   {
    "duration": 577,
    "start_time": "2024-03-03T15:39:00.179Z"
   },
   {
    "duration": 94,
    "start_time": "2024-03-03T15:47:03.566Z"
   },
   {
    "duration": 134,
    "start_time": "2024-03-03T16:15:21.021Z"
   },
   {
    "duration": 131,
    "start_time": "2024-03-03T16:17:02.105Z"
   },
   {
    "duration": 134,
    "start_time": "2024-03-03T16:41:27.217Z"
   },
   {
    "duration": 133,
    "start_time": "2024-03-03T16:44:34.687Z"
   },
   {
    "duration": 541,
    "start_time": "2024-03-03T17:09:19.193Z"
   },
   {
    "duration": 433,
    "start_time": "2024-03-03T17:10:54.011Z"
   },
   {
    "duration": 74,
    "start_time": "2024-03-03T17:11:40.475Z"
   },
   {
    "duration": 1048,
    "start_time": "2024-03-03T17:11:57.901Z"
   },
   {
    "duration": 145,
    "start_time": "2024-03-03T17:11:58.951Z"
   },
   {
    "duration": 17,
    "start_time": "2024-03-03T17:11:59.097Z"
   },
   {
    "duration": 23,
    "start_time": "2024-03-03T17:11:59.116Z"
   },
   {
    "duration": 24,
    "start_time": "2024-03-03T17:11:59.140Z"
   },
   {
    "duration": 72,
    "start_time": "2024-03-03T17:11:59.165Z"
   },
   {
    "duration": 119,
    "start_time": "2024-03-03T17:11:59.238Z"
   },
   {
    "duration": 76,
    "start_time": "2024-03-03T17:11:59.358Z"
   },
   {
    "duration": 67,
    "start_time": "2024-03-03T17:11:59.436Z"
   },
   {
    "duration": 27,
    "start_time": "2024-03-03T17:11:59.505Z"
   },
   {
    "duration": 10,
    "start_time": "2024-03-03T17:11:59.533Z"
   },
   {
    "duration": 15,
    "start_time": "2024-03-03T17:11:59.544Z"
   },
   {
    "duration": 35,
    "start_time": "2024-03-03T17:11:59.560Z"
   },
   {
    "duration": 144,
    "start_time": "2024-03-03T17:11:59.596Z"
   },
   {
    "duration": 13,
    "start_time": "2024-03-03T17:11:59.741Z"
   },
   {
    "duration": 13,
    "start_time": "2024-03-03T17:11:59.755Z"
   },
   {
    "duration": 535,
    "start_time": "2024-03-03T17:11:59.769Z"
   },
   {
    "duration": 45,
    "start_time": "2024-03-03T17:12:00.306Z"
   },
   {
    "duration": 91,
    "start_time": "2024-03-03T17:12:00.353Z"
   },
   {
    "duration": 55,
    "start_time": "2024-03-03T17:12:00.446Z"
   },
   {
    "duration": 399,
    "start_time": "2024-03-03T17:12:00.502Z"
   },
   {
    "duration": 33,
    "start_time": "2024-03-03T17:12:00.903Z"
   },
   {
    "duration": 219,
    "start_time": "2024-03-03T17:12:00.937Z"
   },
   {
    "duration": 68,
    "start_time": "2024-03-03T17:12:01.158Z"
   },
   {
    "duration": 222,
    "start_time": "2024-03-03T17:12:01.228Z"
   },
   {
    "duration": 12,
    "start_time": "2024-03-03T17:12:01.452Z"
   },
   {
    "duration": 161,
    "start_time": "2024-03-03T17:12:01.466Z"
   },
   {
    "duration": 73,
    "start_time": "2024-03-03T17:12:01.631Z"
   },
   {
    "duration": 73,
    "start_time": "2024-03-03T17:12:01.705Z"
   },
   {
    "duration": 83,
    "start_time": "2024-03-03T17:12:01.780Z"
   },
   {
    "duration": 5,
    "start_time": "2024-03-03T17:12:01.864Z"
   },
   {
    "duration": 180,
    "start_time": "2024-03-03T17:12:01.870Z"
   },
   {
    "duration": 103,
    "start_time": "2024-03-03T17:12:02.052Z"
   },
   {
    "duration": 113,
    "start_time": "2024-03-03T17:12:02.156Z"
   },
   {
    "duration": 178,
    "start_time": "2024-03-03T17:12:02.270Z"
   },
   {
    "duration": 111,
    "start_time": "2024-03-03T17:12:02.449Z"
   },
   {
    "duration": 113,
    "start_time": "2024-03-03T17:12:02.561Z"
   },
   {
    "duration": 113,
    "start_time": "2024-03-03T17:12:02.676Z"
   },
   {
    "duration": 160,
    "start_time": "2024-03-03T17:12:02.790Z"
   },
   {
    "duration": 150,
    "start_time": "2024-03-03T17:12:33.135Z"
   },
   {
    "duration": 165,
    "start_time": "2024-03-03T17:13:41.593Z"
   },
   {
    "duration": 101,
    "start_time": "2024-03-03T17:23:26.015Z"
   },
   {
    "duration": 14,
    "start_time": "2024-03-03T17:30:38.402Z"
   },
   {
    "duration": 1126,
    "start_time": "2024-03-03T17:53:30.422Z"
   },
   {
    "duration": 138,
    "start_time": "2024-03-03T17:53:31.549Z"
   },
   {
    "duration": 18,
    "start_time": "2024-03-03T17:53:31.688Z"
   },
   {
    "duration": 38,
    "start_time": "2024-03-03T17:53:31.708Z"
   },
   {
    "duration": 32,
    "start_time": "2024-03-03T17:53:31.748Z"
   },
   {
    "duration": 82,
    "start_time": "2024-03-03T17:53:31.781Z"
   },
   {
    "duration": 114,
    "start_time": "2024-03-03T17:53:31.864Z"
   },
   {
    "duration": 71,
    "start_time": "2024-03-03T17:53:31.979Z"
   },
   {
    "duration": 87,
    "start_time": "2024-03-03T17:53:32.051Z"
   },
   {
    "duration": 36,
    "start_time": "2024-03-03T17:53:32.140Z"
   },
   {
    "duration": 22,
    "start_time": "2024-03-03T17:53:32.177Z"
   },
   {
    "duration": 19,
    "start_time": "2024-03-03T17:53:32.200Z"
   },
   {
    "duration": 34,
    "start_time": "2024-03-03T17:53:32.220Z"
   },
   {
    "duration": 165,
    "start_time": "2024-03-03T17:53:32.255Z"
   },
   {
    "duration": 12,
    "start_time": "2024-03-03T17:53:32.421Z"
   },
   {
    "duration": 49,
    "start_time": "2024-03-03T17:53:32.434Z"
   },
   {
    "duration": 523,
    "start_time": "2024-03-03T17:53:32.484Z"
   },
   {
    "duration": 37,
    "start_time": "2024-03-03T17:53:33.009Z"
   },
   {
    "duration": 17,
    "start_time": "2024-03-03T17:53:33.048Z"
   },
   {
    "duration": 10,
    "start_time": "2024-03-03T17:53:33.067Z"
   },
   {
    "duration": 298,
    "start_time": "2024-03-03T17:53:33.078Z"
   },
   {
    "duration": 40,
    "start_time": "2024-03-03T17:53:33.378Z"
   },
   {
    "duration": 167,
    "start_time": "2024-03-03T17:53:33.420Z"
   },
   {
    "duration": 53,
    "start_time": "2024-03-03T17:53:33.588Z"
   },
   {
    "duration": 247,
    "start_time": "2024-03-03T17:53:33.642Z"
   },
   {
    "duration": 19,
    "start_time": "2024-03-03T17:53:33.890Z"
   },
   {
    "duration": 114,
    "start_time": "2024-03-03T17:53:33.911Z"
   },
   {
    "duration": 0,
    "start_time": "2024-03-03T17:53:34.027Z"
   },
   {
    "duration": 0,
    "start_time": "2024-03-03T17:53:34.028Z"
   },
   {
    "duration": 0,
    "start_time": "2024-03-03T17:53:34.029Z"
   },
   {
    "duration": 0,
    "start_time": "2024-03-03T17:53:34.030Z"
   },
   {
    "duration": 0,
    "start_time": "2024-03-03T17:53:34.031Z"
   },
   {
    "duration": 0,
    "start_time": "2024-03-03T17:53:34.033Z"
   },
   {
    "duration": 0,
    "start_time": "2024-03-03T17:53:34.034Z"
   },
   {
    "duration": 0,
    "start_time": "2024-03-03T17:53:34.035Z"
   },
   {
    "duration": 0,
    "start_time": "2024-03-03T17:53:34.036Z"
   },
   {
    "duration": 0,
    "start_time": "2024-03-03T17:53:34.038Z"
   },
   {
    "duration": 0,
    "start_time": "2024-03-03T17:53:34.039Z"
   },
   {
    "duration": 0,
    "start_time": "2024-03-03T17:53:34.039Z"
   },
   {
    "duration": 12,
    "start_time": "2024-03-03T17:59:11.765Z"
   },
   {
    "duration": 3,
    "start_time": "2024-03-03T17:59:54.231Z"
   },
   {
    "duration": 1158,
    "start_time": "2024-03-03T17:59:59.792Z"
   },
   {
    "duration": 142,
    "start_time": "2024-03-03T18:00:00.952Z"
   },
   {
    "duration": 18,
    "start_time": "2024-03-03T18:00:01.096Z"
   },
   {
    "duration": 82,
    "start_time": "2024-03-03T18:00:01.116Z"
   },
   {
    "duration": 148,
    "start_time": "2024-03-03T18:00:01.200Z"
   },
   {
    "duration": 106,
    "start_time": "2024-03-03T18:00:01.350Z"
   },
   {
    "duration": 117,
    "start_time": "2024-03-03T18:00:01.457Z"
   },
   {
    "duration": 67,
    "start_time": "2024-03-03T18:00:01.576Z"
   },
   {
    "duration": 121,
    "start_time": "2024-03-03T18:00:01.644Z"
   },
   {
    "duration": 64,
    "start_time": "2024-03-03T18:00:01.766Z"
   },
   {
    "duration": 38,
    "start_time": "2024-03-03T18:00:01.831Z"
   },
   {
    "duration": 35,
    "start_time": "2024-03-03T18:00:01.870Z"
   },
   {
    "duration": 85,
    "start_time": "2024-03-03T18:00:01.906Z"
   },
   {
    "duration": 191,
    "start_time": "2024-03-03T18:00:01.994Z"
   },
   {
    "duration": 16,
    "start_time": "2024-03-03T18:00:02.186Z"
   },
   {
    "duration": 111,
    "start_time": "2024-03-03T18:00:02.204Z"
   },
   {
    "duration": 581,
    "start_time": "2024-03-03T18:00:02.317Z"
   },
   {
    "duration": 38,
    "start_time": "2024-03-03T18:00:02.901Z"
   },
   {
    "duration": 26,
    "start_time": "2024-03-03T18:00:02.941Z"
   },
   {
    "duration": 39,
    "start_time": "2024-03-03T18:00:02.968Z"
   },
   {
    "duration": 286,
    "start_time": "2024-03-03T18:00:03.008Z"
   },
   {
    "duration": 35,
    "start_time": "2024-03-03T18:00:03.295Z"
   },
   {
    "duration": 222,
    "start_time": "2024-03-03T18:00:03.332Z"
   },
   {
    "duration": 59,
    "start_time": "2024-03-03T18:00:03.556Z"
   },
   {
    "duration": 243,
    "start_time": "2024-03-03T18:00:03.617Z"
   },
   {
    "duration": 14,
    "start_time": "2024-03-03T18:00:03.863Z"
   },
   {
    "duration": 126,
    "start_time": "2024-03-03T18:00:03.879Z"
   },
   {
    "duration": 0,
    "start_time": "2024-03-03T18:00:04.007Z"
   },
   {
    "duration": 0,
    "start_time": "2024-03-03T18:00:04.008Z"
   },
   {
    "duration": 0,
    "start_time": "2024-03-03T18:00:04.008Z"
   },
   {
    "duration": 0,
    "start_time": "2024-03-03T18:00:04.009Z"
   },
   {
    "duration": 0,
    "start_time": "2024-03-03T18:00:04.010Z"
   },
   {
    "duration": 0,
    "start_time": "2024-03-03T18:00:04.011Z"
   },
   {
    "duration": 0,
    "start_time": "2024-03-03T18:00:04.012Z"
   },
   {
    "duration": 0,
    "start_time": "2024-03-03T18:00:04.013Z"
   },
   {
    "duration": 0,
    "start_time": "2024-03-03T18:00:04.014Z"
   },
   {
    "duration": 0,
    "start_time": "2024-03-03T18:00:04.014Z"
   },
   {
    "duration": 0,
    "start_time": "2024-03-03T18:00:04.015Z"
   },
   {
    "duration": 0,
    "start_time": "2024-03-03T18:00:04.016Z"
   },
   {
    "duration": 1101,
    "start_time": "2024-03-03T18:04:10.761Z"
   },
   {
    "duration": 137,
    "start_time": "2024-03-03T18:04:11.864Z"
   },
   {
    "duration": 18,
    "start_time": "2024-03-03T18:04:12.002Z"
   },
   {
    "duration": 2,
    "start_time": "2024-03-03T18:04:12.022Z"
   },
   {
    "duration": 24,
    "start_time": "2024-03-03T18:04:12.025Z"
   },
   {
    "duration": 60,
    "start_time": "2024-03-03T18:04:12.050Z"
   },
   {
    "duration": 117,
    "start_time": "2024-03-03T18:04:12.112Z"
   },
   {
    "duration": 79,
    "start_time": "2024-03-03T18:04:12.230Z"
   },
   {
    "duration": 62,
    "start_time": "2024-03-03T18:04:12.310Z"
   },
   {
    "duration": 40,
    "start_time": "2024-03-03T18:04:12.374Z"
   },
   {
    "duration": 16,
    "start_time": "2024-03-03T18:04:12.415Z"
   },
   {
    "duration": 5,
    "start_time": "2024-03-03T18:04:12.432Z"
   },
   {
    "duration": 24,
    "start_time": "2024-03-03T18:04:12.438Z"
   },
   {
    "duration": 161,
    "start_time": "2024-03-03T18:04:12.463Z"
   },
   {
    "duration": 14,
    "start_time": "2024-03-03T18:04:12.625Z"
   },
   {
    "duration": 29,
    "start_time": "2024-03-03T18:04:12.641Z"
   },
   {
    "duration": 530,
    "start_time": "2024-03-03T18:04:12.671Z"
   },
   {
    "duration": 37,
    "start_time": "2024-03-03T18:04:13.202Z"
   },
   {
    "duration": 43,
    "start_time": "2024-03-03T18:04:13.241Z"
   },
   {
    "duration": 11,
    "start_time": "2024-03-03T18:04:13.286Z"
   },
   {
    "duration": 266,
    "start_time": "2024-03-03T18:04:13.298Z"
   },
   {
    "duration": 36,
    "start_time": "2024-03-03T18:04:13.566Z"
   },
   {
    "duration": 166,
    "start_time": "2024-03-03T18:04:13.603Z"
   },
   {
    "duration": 64,
    "start_time": "2024-03-03T18:04:13.771Z"
   },
   {
    "duration": 222,
    "start_time": "2024-03-03T18:04:13.836Z"
   },
   {
    "duration": 12,
    "start_time": "2024-03-03T18:04:14.059Z"
   },
   {
    "duration": 121,
    "start_time": "2024-03-03T18:04:14.072Z"
   },
   {
    "duration": 0,
    "start_time": "2024-03-03T18:04:14.195Z"
   },
   {
    "duration": 0,
    "start_time": "2024-03-03T18:04:14.196Z"
   },
   {
    "duration": 0,
    "start_time": "2024-03-03T18:04:14.201Z"
   },
   {
    "duration": 0,
    "start_time": "2024-03-03T18:04:14.202Z"
   },
   {
    "duration": 0,
    "start_time": "2024-03-03T18:04:14.203Z"
   },
   {
    "duration": 0,
    "start_time": "2024-03-03T18:04:14.203Z"
   },
   {
    "duration": 0,
    "start_time": "2024-03-03T18:04:14.204Z"
   },
   {
    "duration": 0,
    "start_time": "2024-03-03T18:04:14.205Z"
   },
   {
    "duration": 0,
    "start_time": "2024-03-03T18:04:14.206Z"
   },
   {
    "duration": 0,
    "start_time": "2024-03-03T18:04:14.206Z"
   },
   {
    "duration": 0,
    "start_time": "2024-03-03T18:04:14.207Z"
   },
   {
    "duration": 0,
    "start_time": "2024-03-03T18:04:14.208Z"
   },
   {
    "duration": 4,
    "start_time": "2024-03-03T18:05:20.935Z"
   },
   {
    "duration": 1053,
    "start_time": "2024-03-03T18:05:26.052Z"
   },
   {
    "duration": 134,
    "start_time": "2024-03-03T18:05:27.106Z"
   },
   {
    "duration": 18,
    "start_time": "2024-03-03T18:05:27.241Z"
   },
   {
    "duration": 17,
    "start_time": "2024-03-03T18:05:27.260Z"
   },
   {
    "duration": 14,
    "start_time": "2024-03-03T18:05:27.278Z"
   },
   {
    "duration": 59,
    "start_time": "2024-03-03T18:05:27.293Z"
   },
   {
    "duration": 106,
    "start_time": "2024-03-03T18:05:27.353Z"
   },
   {
    "duration": 67,
    "start_time": "2024-03-03T18:05:27.460Z"
   },
   {
    "duration": 57,
    "start_time": "2024-03-03T18:05:27.528Z"
   },
   {
    "duration": 33,
    "start_time": "2024-03-03T18:05:27.588Z"
   },
   {
    "duration": 28,
    "start_time": "2024-03-03T18:05:27.622Z"
   },
   {
    "duration": 18,
    "start_time": "2024-03-03T18:05:27.651Z"
   },
   {
    "duration": 36,
    "start_time": "2024-03-03T18:05:27.671Z"
   },
   {
    "duration": 148,
    "start_time": "2024-03-03T18:05:27.708Z"
   },
   {
    "duration": 12,
    "start_time": "2024-03-03T18:05:27.858Z"
   },
   {
    "duration": 20,
    "start_time": "2024-03-03T18:05:27.871Z"
   },
   {
    "duration": 506,
    "start_time": "2024-03-03T18:05:27.892Z"
   },
   {
    "duration": 37,
    "start_time": "2024-03-03T18:05:28.399Z"
   },
   {
    "duration": 17,
    "start_time": "2024-03-03T18:05:28.437Z"
   },
   {
    "duration": 22,
    "start_time": "2024-03-03T18:05:28.455Z"
   },
   {
    "duration": 263,
    "start_time": "2024-03-03T18:05:28.478Z"
   },
   {
    "duration": 33,
    "start_time": "2024-03-03T18:05:28.742Z"
   },
   {
    "duration": 170,
    "start_time": "2024-03-03T18:05:28.776Z"
   },
   {
    "duration": 56,
    "start_time": "2024-03-03T18:05:28.947Z"
   },
   {
    "duration": 251,
    "start_time": "2024-03-03T18:05:29.005Z"
   },
   {
    "duration": 12,
    "start_time": "2024-03-03T18:05:29.258Z"
   },
   {
    "duration": 149,
    "start_time": "2024-03-03T18:05:29.271Z"
   },
   {
    "duration": 0,
    "start_time": "2024-03-03T18:05:29.422Z"
   },
   {
    "duration": 0,
    "start_time": "2024-03-03T18:05:29.423Z"
   },
   {
    "duration": 0,
    "start_time": "2024-03-03T18:05:29.425Z"
   },
   {
    "duration": 0,
    "start_time": "2024-03-03T18:05:29.426Z"
   },
   {
    "duration": 0,
    "start_time": "2024-03-03T18:05:29.427Z"
   },
   {
    "duration": 0,
    "start_time": "2024-03-03T18:05:29.428Z"
   },
   {
    "duration": 0,
    "start_time": "2024-03-03T18:05:29.429Z"
   },
   {
    "duration": 0,
    "start_time": "2024-03-03T18:05:29.430Z"
   },
   {
    "duration": 0,
    "start_time": "2024-03-03T18:05:29.432Z"
   },
   {
    "duration": 0,
    "start_time": "2024-03-03T18:05:29.433Z"
   },
   {
    "duration": 0,
    "start_time": "2024-03-03T18:05:29.434Z"
   },
   {
    "duration": 0,
    "start_time": "2024-03-03T18:05:29.434Z"
   },
   {
    "duration": 11,
    "start_time": "2024-03-03T18:05:46.580Z"
   },
   {
    "duration": 146,
    "start_time": "2024-03-03T18:12:58.974Z"
   },
   {
    "duration": 11,
    "start_time": "2024-03-03T18:15:35.953Z"
   },
   {
    "duration": 66,
    "start_time": "2024-03-03T18:15:59.840Z"
   },
   {
    "duration": 148,
    "start_time": "2024-03-03T18:16:14.808Z"
   },
   {
    "duration": 1162,
    "start_time": "2024-03-03T19:18:49.166Z"
   },
   {
    "duration": 154,
    "start_time": "2024-03-03T19:18:50.330Z"
   },
   {
    "duration": 27,
    "start_time": "2024-03-03T19:18:50.485Z"
   },
   {
    "duration": 3,
    "start_time": "2024-03-03T19:18:50.514Z"
   },
   {
    "duration": 20,
    "start_time": "2024-03-03T19:18:50.518Z"
   },
   {
    "duration": 56,
    "start_time": "2024-03-03T19:18:50.539Z"
   },
   {
    "duration": 124,
    "start_time": "2024-03-03T19:18:50.597Z"
   },
   {
    "duration": 64,
    "start_time": "2024-03-03T19:18:50.722Z"
   },
   {
    "duration": 71,
    "start_time": "2024-03-03T19:18:50.787Z"
   },
   {
    "duration": 25,
    "start_time": "2024-03-03T19:18:50.861Z"
   },
   {
    "duration": 20,
    "start_time": "2024-03-03T19:18:50.887Z"
   },
   {
    "duration": 25,
    "start_time": "2024-03-03T19:18:50.908Z"
   },
   {
    "duration": 17,
    "start_time": "2024-03-03T19:18:50.934Z"
   },
   {
    "duration": 142,
    "start_time": "2024-03-03T19:18:50.952Z"
   },
   {
    "duration": 12,
    "start_time": "2024-03-03T19:18:51.102Z"
   },
   {
    "duration": 21,
    "start_time": "2024-03-03T19:18:51.116Z"
   },
   {
    "duration": 524,
    "start_time": "2024-03-03T19:18:51.138Z"
   },
   {
    "duration": 44,
    "start_time": "2024-03-03T19:18:51.663Z"
   },
   {
    "duration": 16,
    "start_time": "2024-03-03T19:18:51.708Z"
   },
   {
    "duration": 14,
    "start_time": "2024-03-03T19:18:51.725Z"
   },
   {
    "duration": 267,
    "start_time": "2024-03-03T19:18:51.740Z"
   },
   {
    "duration": 32,
    "start_time": "2024-03-03T19:18:52.008Z"
   },
   {
    "duration": 174,
    "start_time": "2024-03-03T19:18:52.041Z"
   },
   {
    "duration": 51,
    "start_time": "2024-03-03T19:18:52.216Z"
   },
   {
    "duration": 254,
    "start_time": "2024-03-03T19:18:52.269Z"
   },
   {
    "duration": 18,
    "start_time": "2024-03-03T19:18:52.524Z"
   },
   {
    "duration": 273,
    "start_time": "2024-03-03T19:18:52.543Z"
   },
   {
    "duration": 35,
    "start_time": "2024-03-03T19:18:52.818Z"
   },
   {
    "duration": 81,
    "start_time": "2024-03-03T19:18:52.855Z"
   },
   {
    "duration": 124,
    "start_time": "2024-03-03T19:18:52.938Z"
   },
   {
    "duration": 5,
    "start_time": "2024-03-03T19:18:53.064Z"
   },
   {
    "duration": 137,
    "start_time": "2024-03-03T19:18:53.070Z"
   },
   {
    "duration": 134,
    "start_time": "2024-03-03T19:18:53.209Z"
   },
   {
    "duration": 135,
    "start_time": "2024-03-03T19:18:53.345Z"
   },
   {
    "duration": 178,
    "start_time": "2024-03-03T19:18:53.481Z"
   },
   {
    "duration": 145,
    "start_time": "2024-03-03T19:18:53.661Z"
   },
   {
    "duration": 146,
    "start_time": "2024-03-03T19:18:53.807Z"
   },
   {
    "duration": 132,
    "start_time": "2024-03-03T19:18:53.954Z"
   },
   {
    "duration": 174,
    "start_time": "2024-03-03T19:18:54.087Z"
   },
   {
    "duration": 5,
    "start_time": "2024-03-03T19:34:46.749Z"
   },
   {
    "duration": 124,
    "start_time": "2024-03-03T19:34:55.183Z"
   },
   {
    "duration": 1096,
    "start_time": "2024-03-03T19:35:05.454Z"
   },
   {
    "duration": 138,
    "start_time": "2024-03-03T19:35:06.553Z"
   },
   {
    "duration": 18,
    "start_time": "2024-03-03T19:35:06.692Z"
   },
   {
    "duration": 3,
    "start_time": "2024-03-03T19:35:06.712Z"
   },
   {
    "duration": 12,
    "start_time": "2024-03-03T19:35:06.716Z"
   },
   {
    "duration": 60,
    "start_time": "2024-03-03T19:35:06.729Z"
   },
   {
    "duration": 116,
    "start_time": "2024-03-03T19:35:06.802Z"
   },
   {
    "duration": 65,
    "start_time": "2024-03-03T19:35:06.920Z"
   },
   {
    "duration": 71,
    "start_time": "2024-03-03T19:35:06.986Z"
   },
   {
    "duration": 25,
    "start_time": "2024-03-03T19:35:07.059Z"
   },
   {
    "duration": 22,
    "start_time": "2024-03-03T19:35:07.085Z"
   },
   {
    "duration": 14,
    "start_time": "2024-03-03T19:35:07.109Z"
   },
   {
    "duration": 28,
    "start_time": "2024-03-03T19:35:07.124Z"
   },
   {
    "duration": 156,
    "start_time": "2024-03-03T19:35:07.153Z"
   },
   {
    "duration": 22,
    "start_time": "2024-03-03T19:35:07.311Z"
   },
   {
    "duration": 32,
    "start_time": "2024-03-03T19:35:07.335Z"
   },
   {
    "duration": 508,
    "start_time": "2024-03-03T19:35:07.370Z"
   },
   {
    "duration": 45,
    "start_time": "2024-03-03T19:35:07.879Z"
   },
   {
    "duration": 16,
    "start_time": "2024-03-03T19:35:07.925Z"
   },
   {
    "duration": 14,
    "start_time": "2024-03-03T19:35:07.943Z"
   },
   {
    "duration": 276,
    "start_time": "2024-03-03T19:35:07.958Z"
   },
   {
    "duration": 36,
    "start_time": "2024-03-03T19:35:08.236Z"
   },
   {
    "duration": 173,
    "start_time": "2024-03-03T19:35:08.273Z"
   },
   {
    "duration": 58,
    "start_time": "2024-03-03T19:35:08.447Z"
   },
   {
    "duration": 228,
    "start_time": "2024-03-03T19:35:08.506Z"
   },
   {
    "duration": 12,
    "start_time": "2024-03-03T19:35:08.735Z"
   },
   {
    "duration": 263,
    "start_time": "2024-03-03T19:35:08.748Z"
   },
   {
    "duration": 35,
    "start_time": "2024-03-03T19:35:09.014Z"
   },
   {
    "duration": 83,
    "start_time": "2024-03-03T19:35:09.050Z"
   },
   {
    "duration": 99,
    "start_time": "2024-03-03T19:35:09.134Z"
   },
   {
    "duration": 5,
    "start_time": "2024-03-03T19:35:09.234Z"
   },
   {
    "duration": 128,
    "start_time": "2024-03-03T19:35:09.241Z"
   },
   {
    "duration": 139,
    "start_time": "2024-03-03T19:35:09.370Z"
   },
   {
    "duration": 131,
    "start_time": "2024-03-03T19:35:09.510Z"
   },
   {
    "duration": 197,
    "start_time": "2024-03-03T19:35:09.642Z"
   },
   {
    "duration": 132,
    "start_time": "2024-03-03T19:35:09.840Z"
   },
   {
    "duration": 136,
    "start_time": "2024-03-03T19:35:09.973Z"
   },
   {
    "duration": 134,
    "start_time": "2024-03-03T19:35:10.110Z"
   },
   {
    "duration": 214,
    "start_time": "2024-03-03T19:35:10.245Z"
   },
   {
    "duration": 5,
    "start_time": "2024-03-03T19:38:29.943Z"
   },
   {
    "duration": 5,
    "start_time": "2024-03-03T19:38:45.102Z"
   },
   {
    "duration": 122,
    "start_time": "2024-03-03T19:38:47.767Z"
   },
   {
    "duration": 6,
    "start_time": "2024-03-03T19:39:20.102Z"
   },
   {
    "duration": 121,
    "start_time": "2024-03-03T19:40:03.593Z"
   },
   {
    "duration": 119,
    "start_time": "2024-03-03T19:40:06.104Z"
   },
   {
    "duration": 123,
    "start_time": "2024-03-03T19:40:12.652Z"
   },
   {
    "duration": 174,
    "start_time": "2024-03-03T19:40:16.100Z"
   },
   {
    "duration": 1020,
    "start_time": "2024-03-03T19:46:10.429Z"
   },
   {
    "duration": 132,
    "start_time": "2024-03-03T19:46:11.451Z"
   },
   {
    "duration": 17,
    "start_time": "2024-03-03T19:46:11.585Z"
   },
   {
    "duration": 2,
    "start_time": "2024-03-03T19:46:11.603Z"
   },
   {
    "duration": 14,
    "start_time": "2024-03-03T19:46:11.606Z"
   },
   {
    "duration": 60,
    "start_time": "2024-03-03T19:46:11.622Z"
   },
   {
    "duration": 108,
    "start_time": "2024-03-03T19:46:11.684Z"
   },
   {
    "duration": 71,
    "start_time": "2024-03-03T19:46:11.794Z"
   },
   {
    "duration": 67,
    "start_time": "2024-03-03T19:46:11.866Z"
   },
   {
    "duration": 28,
    "start_time": "2024-03-03T19:46:11.935Z"
   },
   {
    "duration": 12,
    "start_time": "2024-03-03T19:46:11.964Z"
   },
   {
    "duration": 18,
    "start_time": "2024-03-03T19:46:11.977Z"
   },
   {
    "duration": 29,
    "start_time": "2024-03-03T19:46:12.002Z"
   },
   {
    "duration": 141,
    "start_time": "2024-03-03T19:46:12.032Z"
   },
   {
    "duration": 17,
    "start_time": "2024-03-03T19:46:12.174Z"
   },
   {
    "duration": 27,
    "start_time": "2024-03-03T19:46:12.192Z"
   },
   {
    "duration": 507,
    "start_time": "2024-03-03T19:46:12.220Z"
   },
   {
    "duration": 38,
    "start_time": "2024-03-03T19:46:12.728Z"
   },
   {
    "duration": 16,
    "start_time": "2024-03-03T19:46:12.767Z"
   },
   {
    "duration": 25,
    "start_time": "2024-03-03T19:46:12.784Z"
   },
   {
    "duration": 265,
    "start_time": "2024-03-03T19:46:12.810Z"
   },
   {
    "duration": 40,
    "start_time": "2024-03-03T19:46:13.076Z"
   },
   {
    "duration": 170,
    "start_time": "2024-03-03T19:46:13.117Z"
   },
   {
    "duration": 53,
    "start_time": "2024-03-03T19:46:13.288Z"
   },
   {
    "duration": 241,
    "start_time": "2024-03-03T19:46:13.342Z"
   },
   {
    "duration": 18,
    "start_time": "2024-03-03T19:46:13.584Z"
   },
   {
    "duration": 256,
    "start_time": "2024-03-03T19:46:13.603Z"
   },
   {
    "duration": 48,
    "start_time": "2024-03-03T19:46:13.862Z"
   },
   {
    "duration": 41,
    "start_time": "2024-03-03T19:46:13.911Z"
   },
   {
    "duration": 63,
    "start_time": "2024-03-03T19:46:14.002Z"
   },
   {
    "duration": 6,
    "start_time": "2024-03-03T19:46:14.066Z"
   },
   {
    "duration": 136,
    "start_time": "2024-03-03T19:46:14.073Z"
   },
   {
    "duration": 135,
    "start_time": "2024-03-03T19:46:14.210Z"
   },
   {
    "duration": 129,
    "start_time": "2024-03-03T19:46:14.346Z"
   },
   {
    "duration": 176,
    "start_time": "2024-03-03T19:46:14.476Z"
   },
   {
    "duration": 141,
    "start_time": "2024-03-03T19:46:14.653Z"
   },
   {
    "duration": 127,
    "start_time": "2024-03-03T19:46:14.795Z"
   },
   {
    "duration": 133,
    "start_time": "2024-03-03T19:46:14.924Z"
   },
   {
    "duration": 188,
    "start_time": "2024-03-03T19:46:15.058Z"
   },
   {
    "duration": 1112,
    "start_time": "2024-03-03T19:50:55.407Z"
   },
   {
    "duration": 137,
    "start_time": "2024-03-03T19:50:56.521Z"
   },
   {
    "duration": 16,
    "start_time": "2024-03-03T19:50:56.660Z"
   },
   {
    "duration": 14,
    "start_time": "2024-03-03T19:50:56.677Z"
   },
   {
    "duration": 23,
    "start_time": "2024-03-03T19:50:56.693Z"
   },
   {
    "duration": 69,
    "start_time": "2024-03-03T19:50:56.718Z"
   },
   {
    "duration": 114,
    "start_time": "2024-03-03T19:50:56.788Z"
   },
   {
    "duration": 65,
    "start_time": "2024-03-03T19:50:56.903Z"
   },
   {
    "duration": 80,
    "start_time": "2024-03-03T19:50:56.969Z"
   },
   {
    "duration": 25,
    "start_time": "2024-03-03T19:50:57.050Z"
   },
   {
    "duration": 9,
    "start_time": "2024-03-03T19:50:57.077Z"
   },
   {
    "duration": 21,
    "start_time": "2024-03-03T19:50:57.087Z"
   },
   {
    "duration": 21,
    "start_time": "2024-03-03T19:50:57.109Z"
   },
   {
    "duration": 141,
    "start_time": "2024-03-03T19:50:57.132Z"
   },
   {
    "duration": 14,
    "start_time": "2024-03-03T19:50:57.274Z"
   },
   {
    "duration": 22,
    "start_time": "2024-03-03T19:50:57.289Z"
   },
   {
    "duration": 500,
    "start_time": "2024-03-03T19:50:57.313Z"
   },
   {
    "duration": 39,
    "start_time": "2024-03-03T19:50:57.814Z"
   },
   {
    "duration": 17,
    "start_time": "2024-03-03T19:50:57.854Z"
   },
   {
    "duration": 18,
    "start_time": "2024-03-03T19:50:57.872Z"
   },
   {
    "duration": 278,
    "start_time": "2024-03-03T19:50:57.891Z"
   },
   {
    "duration": 38,
    "start_time": "2024-03-03T19:50:58.171Z"
   },
   {
    "duration": 167,
    "start_time": "2024-03-03T19:50:58.210Z"
   },
   {
    "duration": 61,
    "start_time": "2024-03-03T19:50:58.379Z"
   },
   {
    "duration": 222,
    "start_time": "2024-03-03T19:50:58.441Z"
   },
   {
    "duration": 12,
    "start_time": "2024-03-03T19:50:58.664Z"
   },
   {
    "duration": 258,
    "start_time": "2024-03-03T19:50:58.677Z"
   },
   {
    "duration": 73,
    "start_time": "2024-03-03T19:50:58.937Z"
   },
   {
    "duration": 91,
    "start_time": "2024-03-03T19:50:59.011Z"
   },
   {
    "duration": 74,
    "start_time": "2024-03-03T19:50:59.103Z"
   },
   {
    "duration": 8,
    "start_time": "2024-03-03T19:50:59.178Z"
   },
   {
    "duration": 143,
    "start_time": "2024-03-03T19:50:59.188Z"
   },
   {
    "duration": 130,
    "start_time": "2024-03-03T19:50:59.333Z"
   },
   {
    "duration": 137,
    "start_time": "2024-03-03T19:50:59.465Z"
   },
   {
    "duration": 182,
    "start_time": "2024-03-03T19:50:59.604Z"
   },
   {
    "duration": 126,
    "start_time": "2024-03-03T19:50:59.787Z"
   },
   {
    "duration": 138,
    "start_time": "2024-03-03T19:50:59.915Z"
   },
   {
    "duration": 148,
    "start_time": "2024-03-03T19:51:00.054Z"
   },
   {
    "duration": 213,
    "start_time": "2024-03-03T19:51:00.204Z"
   }
  ],
  "kernelspec": {
   "display_name": "Python 3 (ipykernel)",
   "language": "python",
   "name": "python3"
  },
  "language_info": {
   "codemirror_mode": {
    "name": "ipython",
    "version": 3
   },
   "file_extension": ".py",
   "mimetype": "text/x-python",
   "name": "python",
   "nbconvert_exporter": "python",
   "pygments_lexer": "ipython3",
   "version": "3.11.5"
  },
  "toc": {
   "base_numbering": 1,
   "nav_menu": {},
   "number_sections": true,
   "sideBar": true,
   "skip_h1_title": true,
   "title_cell": "Table of Contents",
   "title_sidebar": "Contents",
   "toc_cell": false,
   "toc_position": {},
   "toc_section_display": true,
   "toc_window_display": false
  }
 },
 "nbformat": 4,
 "nbformat_minor": 2
}
